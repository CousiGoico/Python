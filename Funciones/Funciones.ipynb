{
 "cells": [
  {
   "cell_type": "markdown",
   "id": "149525c8",
   "metadata": {},
   "source": [
    "# Funciones"
   ]
  },
  {
   "cell_type": "markdown",
   "id": "483e2204",
   "metadata": {},
   "source": [
    "Podemos crear funciones con la palabra reservada `def` junto con el nombre (debe ser único en el contexto) al que la queremos asociar y parentesis con los argumentos (opcionales)."
   ]
  },
  {
   "cell_type": "code",
   "execution_count": null,
   "id": "6844dd42",
   "metadata": {},
   "outputs": [],
   "source": [
    "def nombre_funcion(argumentos):\n",
    "    # Sentencias de código que queremos ejecutar\n",
    "    return () # Devolución del valor, si no devuelve valor el invocador recibirá None"
   ]
  },
  {
   "cell_type": "code",
   "execution_count": 5,
   "id": "deaae39a",
   "metadata": {},
   "outputs": [],
   "source": [
    "def calcularImporte(cantidad, precio):\n",
    "    \"\"\"\n",
    "    Esta función calcula el importe total a pagar por una cantidad de productos a un precio determinado.\n",
    "    :param cantidad: Cantidad de productos\n",
    "    :param precio: Precio unitario del producto\n",
    "    :return: Importe total a pagar\n",
    "    \"\"\"\n",
    "    return cantidad * precio"
   ]
  },
  {
   "cell_type": "code",
   "execution_count": 6,
   "id": "713c598c",
   "metadata": {},
   "outputs": [
    {
     "name": "stdout",
     "output_type": "stream",
     "text": [
      "El importe total es: 50\n"
     ]
    }
   ],
   "source": [
    "importe = calcularImporte(5, 10)\n",
    "print(f\"El importe total es: {importe}\")"
   ]
  },
  {
   "cell_type": "markdown",
   "id": "8dd84c30",
   "metadata": {},
   "source": [
    "Existe una guía de bunas prácticas llamda [PEP8](https://peps.python.org/pep-0008) en la que se incluyen la nomenclatura de las funciones entre otra información."
   ]
  },
  {
   "cell_type": "markdown",
   "id": "d06e7ae0",
   "metadata": {},
   "source": [
    "Si dentro de una función ponemos un comentario, este comentario saldrá cuando invoquemos la función `help`de la función."
   ]
  },
  {
   "cell_type": "code",
   "execution_count": 4,
   "id": "2fe2455e",
   "metadata": {},
   "outputs": [],
   "source": [
    "def nombre_funcion(argumentos):\n",
    "    \"\"\"\n",
    "    Descripción: la función realiza una tarea específica.\n",
    "    Parámetros: \n",
    "        - argumentos: descripción de los parámetros que recibe la función.\n",
    "    Retorno:\n",
    "        - retorna: descripción del valor que devuelve la función.\n",
    "    \"\"\"\n",
    "    return () "
   ]
  },
  {
   "cell_type": "code",
   "execution_count": 7,
   "id": "fe9688da",
   "metadata": {},
   "outputs": [
    {
     "name": "stdout",
     "output_type": "stream",
     "text": [
      "Help on function nombre_funcion in module __main__:\n",
      "\n",
      "nombre_funcion(argumentos)\n",
      "    Descripción: la función realiza una tarea específica.\n",
      "    Parámetros: \n",
      "        - argumentos: descripción de los parámetros que recibe la función.\n",
      "    Retorno:\n",
      "        - retorna: descripción del valor que devuelve la función.\n",
      "\n",
      "None\n"
     ]
    }
   ],
   "source": [
    "print(help(nombre_funcion))"
   ]
  },
  {
   "cell_type": "markdown",
   "id": "e5d4baa6",
   "metadata": {},
   "source": [
    "## Sin devolución\n",
    "\n",
    "En ciertos casos, no queremos que nuestra función devuelva valor. Para ello, devolvemos la palabra reservada `None` o usamos la sentencia return."
   ]
  },
  {
   "cell_type": "code",
   "execution_count": null,
   "id": "05a14a07",
   "metadata": {},
   "outputs": [
    {
     "name": "stdout",
     "output_type": "stream",
     "text": [
      "None\n",
      "None\n"
     ]
    }
   ],
   "source": [
    "def funcion_devolucion_none():\n",
    "    return None\n",
    "\n",
    "resultado = funcion_devolucion_none()\n",
    "print(resultado)  # Imprime 'None'\n",
    "\n",
    "def funcion_devolucion_vacia():\n",
    "    a = 1 + 2\n",
    "    \n",
    "\n",
    "funcion_devolucion_vacia()\n",
    "print(resultado)  # Imprime 'None'\n"
   ]
  },
  {
   "cell_type": "markdown",
   "id": "6fd89ef3",
   "metadata": {},
   "source": [
    "## Nombre de los argumentos\n",
    "\n",
    "A la hora de invocar podemos usar el nombre de los argumentos para indicar los valores y en este caso no importaría el orden. Sin embargo, si lo hacemos sin especificar los nombres, debemos indicar los argumentos en orden a como están definidos. "
   ]
  },
  {
   "cell_type": "code",
   "execution_count": 18,
   "id": "5cf5ec1b",
   "metadata": {},
   "outputs": [
    {
     "name": "stdout",
     "output_type": "stream",
     "text": [
      "Resultado 1:  6\n",
      "Resultado 2:  16\n"
     ]
    }
   ],
   "source": [
    "def nombre_funcion(arg1, arg2, arg3):\n",
    "    return arg1 + arg2 + arg3\n",
    "\n",
    "resultado1 = nombre_funcion(1, 2, 3) # Llamada a la función con tres valores, el 1 para el arg1, el 2 para el arg2 y el 3 para el arg3\n",
    "print(\"Resultado 1: \", resultado1)  \n",
    "\n",
    "resultado2 = nombre_funcion(arg2=1, arg3=6, arg1=9) # Llamada a la función indicando los nombres de los argumentos\n",
    "print(\"Resultado 2: \", resultado2)  \n"
   ]
  }
 ],
 "metadata": {
  "kernelspec": {
   "display_name": "Python 3",
   "language": "python",
   "name": "python3"
  },
  "language_info": {
   "codemirror_mode": {
    "name": "ipython",
    "version": 3
   },
   "file_extension": ".py",
   "mimetype": "text/x-python",
   "name": "python",
   "nbconvert_exporter": "python",
   "pygments_lexer": "ipython3",
   "version": "3.11.9"
  }
 },
 "nbformat": 4,
 "nbformat_minor": 5
}
