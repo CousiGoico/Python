{
 "cells": [
  {
   "cell_type": "markdown",
   "id": "149525c8",
   "metadata": {},
   "source": [
    "# Funciones"
   ]
  },
  {
   "cell_type": "markdown",
   "id": "483e2204",
   "metadata": {},
   "source": [
    "Podemos crear funciones con la palabra reservada `def` junto con el nombre (debe ser único en el contexto) al que la queremos asociar y parentesis con los argumentos (opcionales)."
   ]
  },
  {
   "cell_type": "code",
   "execution_count": null,
   "id": "6844dd42",
   "metadata": {},
   "outputs": [],
   "source": [
    "def nombre_funcion(argumentos):\n",
    "    # Sentencias de código que queremos ejecutar\n",
    "    return () # Devolución del valor, si no devuelve valor el invocador recibirá None"
   ]
  },
  {
   "cell_type": "code",
   "execution_count": 5,
   "id": "deaae39a",
   "metadata": {},
   "outputs": [],
   "source": [
    "def calcularImporte(cantidad, precio):\n",
    "    \"\"\"\n",
    "    Esta función calcula el importe total a pagar por una cantidad de productos a un precio determinado.\n",
    "    :param cantidad: Cantidad de productos\n",
    "    :param precio: Precio unitario del producto\n",
    "    :return: Importe total a pagar\n",
    "    \"\"\"\n",
    "    return cantidad * precio"
   ]
  },
  {
   "cell_type": "code",
   "execution_count": 6,
   "id": "713c598c",
   "metadata": {},
   "outputs": [
    {
     "name": "stdout",
     "output_type": "stream",
     "text": [
      "El importe total es: 50\n"
     ]
    }
   ],
   "source": [
    "importe = calcularImporte(5, 10)\n",
    "print(f\"El importe total es: {importe}\")"
   ]
  },
  {
   "cell_type": "markdown",
   "id": "8dd84c30",
   "metadata": {},
   "source": [
    "Existe una guía de bunas prácticas llamda [PEP8](https://peps.python.org/pep-0008) en la que se incluyen la nomenclatura de las funciones entre otra información."
   ]
  },
  {
   "cell_type": "markdown",
   "id": "d06e7ae0",
   "metadata": {},
   "source": [
    "Si dentro de una función ponemos un comentario, este comentario saldrá cuando invoquemos la función `help`de la función."
   ]
  },
  {
   "cell_type": "code",
   "execution_count": 4,
   "id": "2fe2455e",
   "metadata": {},
   "outputs": [],
   "source": [
    "def nombre_funcion(argumentos):\n",
    "    \"\"\"\n",
    "    Descripción: la función realiza una tarea específica.\n",
    "    Parámetros: \n",
    "        - argumentos: descripción de los parámetros que recibe la función.\n",
    "    Retorno:\n",
    "        - retorna: descripción del valor que devuelve la función.\n",
    "    \"\"\"\n",
    "    return () "
   ]
  },
  {
   "cell_type": "code",
   "execution_count": 7,
   "id": "fe9688da",
   "metadata": {},
   "outputs": [
    {
     "name": "stdout",
     "output_type": "stream",
     "text": [
      "Help on function nombre_funcion in module __main__:\n",
      "\n",
      "nombre_funcion(argumentos)\n",
      "    Descripción: la función realiza una tarea específica.\n",
      "    Parámetros: \n",
      "        - argumentos: descripción de los parámetros que recibe la función.\n",
      "    Retorno:\n",
      "        - retorna: descripción del valor que devuelve la función.\n",
      "\n",
      "None\n"
     ]
    }
   ],
   "source": [
    "print(help(nombre_funcion))"
   ]
  },
  {
   "cell_type": "markdown",
   "id": "e5d4baa6",
   "metadata": {},
   "source": [
    "## Sin devolución\n",
    "\n",
    "En ciertos casos, no queremos que nuestra función devuelva valor. Para ello, devolvemos la palabra reservada `None` o usamos la sentencia return."
   ]
  },
  {
   "cell_type": "code",
   "execution_count": null,
   "id": "05a14a07",
   "metadata": {},
   "outputs": [
    {
     "name": "stdout",
     "output_type": "stream",
     "text": [
      "None\n",
      "None\n"
     ]
    }
   ],
   "source": [
    "def funcion_devolucion_none():\n",
    "    return None\n",
    "\n",
    "resultado = funcion_devolucion_none()\n",
    "print(resultado)  # Imprime 'None'\n",
    "\n",
    "def funcion_devolucion_vacia():\n",
    "    a = 1 + 2\n",
    "    \n",
    "\n",
    "funcion_devolucion_vacia()\n",
    "print(resultado)  # Imprime 'None'\n"
   ]
  },
  {
   "cell_type": "markdown",
   "id": "6fd89ef3",
   "metadata": {},
   "source": [
    "## Nombre de los argumentos\n",
    "\n",
    "A la hora de invocar podemos usar el nombre de los argumentos para indicar los valores y en este caso no importaría el orden. Sin embargo, si lo hacemos sin especificar los nombres, debemos indicar los argumentos en orden a como están definidos. "
   ]
  },
  {
   "cell_type": "code",
   "execution_count": 18,
   "id": "5cf5ec1b",
   "metadata": {},
   "outputs": [
    {
     "name": "stdout",
     "output_type": "stream",
     "text": [
      "Resultado 1:  6\n",
      "Resultado 2:  16\n"
     ]
    }
   ],
   "source": [
    "def nombre_funcion(arg1, arg2, arg3):\n",
    "    return arg1 + arg2 + arg3\n",
    "\n",
    "resultado1 = nombre_funcion(1, 2, 3) # Llamada a la función con tres valores, el 1 para el arg1, el 2 para el arg2 y el 3 para el arg3\n",
    "print(\"Resultado 1: \", resultado1)  \n",
    "\n",
    "resultado2 = nombre_funcion(arg2=1, arg3=6, arg1=9) # Llamada a la función indicando los nombres de los argumentos\n",
    "print(\"Resultado 2: \", resultado2)  \n"
   ]
  },
  {
   "cell_type": "markdown",
   "id": "96d1e472",
   "metadata": {},
   "source": [
    "## Parámetros por defecto\n",
    "\n",
    "Se puede definir argumentos con un valor inicial."
   ]
  },
  {
   "cell_type": "code",
   "execution_count": 2,
   "id": "0eb07ae0",
   "metadata": {},
   "outputs": [
    {
     "name": "stdout",
     "output_type": "stream",
     "text": [
      "Resultado:  7\n",
      "Resultado:  11\n"
     ]
    }
   ],
   "source": [
    "def nombre_funcion(arg1, arg2, arg3=4):\n",
    "    return arg1 + arg2 + arg3\n",
    "\n",
    "resultado = nombre_funcion(1, 2)\n",
    "print(\"Resultado: \", resultado)\n",
    "\n",
    "resultado = nombre_funcion(2, 3, 6)\n",
    "print(\"Resultado: \", resultado)  "
   ]
  },
  {
   "cell_type": "markdown",
   "id": "d9663777",
   "metadata": {},
   "source": [
    "## Args\n",
    "\n",
    "Con `args` podemos enviar a una función un número indeterminado de parámetros."
   ]
  },
  {
   "cell_type": "code",
   "execution_count": 7,
   "id": "20b29425",
   "metadata": {},
   "outputs": [
    {
     "name": "stdout",
     "output_type": "stream",
     "text": [
      "Args:  (1, 2, 3, 4, 5)\n",
      "15\n",
      "Args:  (2, 6, 8)\n",
      "16\n",
      "Args:  (9, 15, 147, 25)\n",
      "196\n"
     ]
    }
   ],
   "source": [
    "def nombre_funcion(*args):\n",
    "    \"\"\"\"Esta función suma un número indeterminado de argumentos\n",
    "    Argumentos:\n",
    "        args: número indeterminado de argumentos\n",
    "    Retorno:\n",
    "        suma: suma de los argumentos\n",
    "    \"\"\"\n",
    "\n",
    "    print(\"Args: \", args)  \n",
    "\n",
    "    return sum(args)  \n",
    "\n",
    "lista = [1, 2, 3, 4, 5]\n",
    "print(nombre_funcion(*lista))  \n",
    "\n",
    "lista = [2, 6, 8]\n",
    "print(nombre_funcion(*lista))\n",
    "\n",
    "lista = [9, 15, 147, 25]\n",
    "print(nombre_funcion(*lista))"
   ]
  },
  {
   "cell_type": "markdown",
   "id": "01dc4e30",
   "metadata": {},
   "source": [
    "## Kwargs\n",
    "\n",
    "Key arguments, son argumentos pero en formato clave-valor. El simbolo `**` coge los argumentos de un en uno sabiendo que es un diccionario clave-valor. "
   ]
  },
  {
   "cell_type": "code",
   "execution_count": 14,
   "id": "f43e7327",
   "metadata": {},
   "outputs": [
    {
     "name": "stdout",
     "output_type": "stream",
     "text": [
      "Hola Juan, colega\n",
      "Hello Pedro\n",
      "Hola Jose, colega\n"
     ]
    }
   ],
   "source": [
    "def saludar(nombre, lang='es', colega=True):\n",
    "    \"\"\"\n",
    "    Función para saludar a una persona.\n",
    "    :param nombre: Nombre de la persona a saludar.\n",
    "    :param lang: Idioma del saludo (por defecto 'en').\n",
    "    :param colega: Si es True, se añade \"colega\" al saludo.\n",
    "    :return: Saludo personalizado.\n",
    "    \"\"\"\n",
    "    if lang == 'es':\n",
    "        saludo = f\"Hola {nombre}\"\n",
    "    else:\n",
    "        saludo = f\"Hello {nombre}\"\n",
    "    \n",
    "    if colega:\n",
    "        saludo += \", colega\"\n",
    "    \n",
    "    return saludo\n",
    "\n",
    "print(saludar('Juan'))\n",
    "\n",
    "print(saludar('Pedro', 'en', False))\n",
    "\n",
    "print(saludar('Jose', colega=True))"
   ]
  },
  {
   "cell_type": "code",
   "execution_count": 12,
   "id": "85bfd792",
   "metadata": {},
   "outputs": [
    {
     "name": "stdout",
     "output_type": "stream",
     "text": [
      "Hola ['Juan', 'Javi', 'Oscar'], colega\n"
     ]
    }
   ],
   "source": [
    "def saludar_multiple(*nombres, lang='es', colega=True):\n",
    "    \"\"\"\n",
    "    Función para saludar a una persona.\n",
    "    :param nombres: Nombres de las personas a saludar.\n",
    "    :param lang: Idioma del saludo (por defecto 'en').\n",
    "    :param colega: Si es True, se añade \"colega\" al saludo.\n",
    "    :return: Saludo personalizado.\n",
    "    \"\"\"\n",
    "\n",
    "    for n in nombres:\n",
    "        print(saludar(n, lang, colega))\n",
    "\n",
    "\n",
    "saludar_multiple(['Juan', 'Javi', 'Oscar'])"
   ]
  },
  {
   "cell_type": "code",
   "execution_count": 13,
   "id": "2faa9563",
   "metadata": {},
   "outputs": [
    {
     "name": "stdout",
     "output_type": "stream",
     "text": [
      "Args:  (3, 5, 6)\n",
      "Kwargs:  {'a': 1, 'b': 2, 'c': 3}\n"
     ]
    },
    {
     "data": {
      "text/plain": [
       "((3, 5, 6), {'a': 1, 'b': 2, 'c': 3})"
      ]
     },
     "execution_count": 13,
     "metadata": {},
     "output_type": "execute_result"
    }
   ],
   "source": [
    "def nombre_funcion(*args, **kwargs):\n",
    "    \"\"\"\n",
    "    Esta función recibe un número indeterminado de argumentos y parámetros nombrados.\n",
    "    :param args: Argumentos posicionales.\n",
    "    :param kwargs: Argumentos nombrados.\n",
    "    \"\"\"\n",
    "    print(\"Args: \", args)\n",
    "    print(\"Kwargs: \", kwargs)\n",
    "    return args, kwargs\n",
    "\n",
    "nombre_funcion(*[3, 5, 6], **{'a': 1, 'b': 2, 'c': 3}) "
   ]
  },
  {
   "cell_type": "markdown",
   "id": "38b033af",
   "metadata": {},
   "source": [
    "## Scope\n",
    "\n",
    "El contexto desde el que una variable es accesible. \n",
    "\n",
    "1. Ambito local: las variables declaradas en un bloque cerrado, como una función. Son accesibles sólo dentro de la función.\n",
    "\n",
    "2. Ambito de función anidada (Enclosing Scope): se puede anidar funciones, es por ello, que las variables declaradas en funciones de mas alto nivel son accesibles desde las funciones declaradas a más bajo nivel. No obstante, no ocurre lo contario, las variables declaradas a más bajo nivel, no son accesibles por otras funciones. Estas variables no se pueden modificar sin la palabra clave `nonLocal`.\n",
    "\n",
    "3. Ámbito global: son variables declaradas a nivel general del script sin estar dentro de ningún bloque de código. Para modificarlas dentro de un bloque de código, como una función, se debe usar la palabra reservada `global`.\n",
    "\n",
    "4. Ámbito incorporado (Build-in Scope): este ámbito incluye nombres predefinidos en Python, como funciones y excepciones integradas. Estos nombres están disponibles en cualquier parte del código.\n",
    "\n",
    "La regla LEGB es la que usa Python para resolver alcance de las variables.\n",
    "\n",
    "* Local\n",
    "* Enclosing\n",
    "* Global\n",
    "* Built-in"
   ]
  },
  {
   "cell_type": "code",
   "execution_count": 1,
   "id": "655d5f83",
   "metadata": {},
   "outputs": [
    {
     "name": "stdout",
     "output_type": "stream",
     "text": [
      "19\n"
     ]
    }
   ],
   "source": [
    "contador = 4    # Esto es una varaible global, ya que esta accesible a todo \n",
    "                # el código.as_integer_ratio\n",
    "\n",
    "def contar(z):  # z es una variable local, sólo accesible desde la función\n",
    "    m = 3       # variable local\n",
    "    return m+z+contador\n",
    "\n",
    "print(contar(12))"
   ]
  },
  {
   "cell_type": "markdown",
   "id": "1c33f98d",
   "metadata": {},
   "source": [
    "## Callback\n",
    "\n",
    "Es una función (f1) que se le pasa por parámetro a otra función (f2) y que se espera que sea llamada desde dentro de la función (f2)."
   ]
  },
  {
   "cell_type": "code",
   "execution_count": 3,
   "id": "01e2bedc",
   "metadata": {},
   "outputs": [
    {
     "name": "stdout",
     "output_type": "stream",
     "text": [
      "Hola, mundo!\n"
     ]
    }
   ],
   "source": [
    "def obtenerCalculo(f1, args1):\n",
    "    return f1(args1)\n",
    "\n",
    "def mostrarTexto(texto):\n",
    "    return texto\n",
    "\n",
    "print(obtenerCalculo(mostrarTexto, \"Hola, mundo!\"))"
   ]
  },
  {
   "cell_type": "markdown",
   "id": "36a66b8a",
   "metadata": {},
   "source": [
    "## Tipado de datos\n",
    "\n",
    "El tipo de dato en Python no cambia el comportamiento en tiempo de ejecución, pero proporciona más información sobre el tipo de dato que almacena las variables."
   ]
  },
  {
   "cell_type": "code",
   "execution_count": null,
   "id": "b0f4c46d",
   "metadata": {},
   "outputs": [
    {
     "name": "stdout",
     "output_type": "stream",
     "text": [
      "24\n",
      "Hola, mundo\n",
      "Adios\n",
      "<class 'str'>\n"
     ]
    }
   ],
   "source": [
    "# Variables\n",
    "\n",
    "x: int = 24\n",
    "\n",
    "print(x)\n",
    "\n",
    "y: str = \"Hola, mundo\"\n",
    "\n",
    "print(y)\n",
    "\n",
    "# No es totalmente restrictivo\n",
    "z: int = \"Adios\"\n",
    "\n",
    "print(z)\n",
    "print(type(z))"
   ]
  },
  {
   "cell_type": "code",
   "execution_count": null,
   "id": "0eb8b532",
   "metadata": {},
   "outputs": [],
   "source": [
    "# En el caso de funciones, los argumentos se especifican con : y el tipo de datos, \n",
    "# y el return se indica cuando se pone la fecha (->).\n",
    "\n",
    "def calculadora(num1: int, num2: int, operacion: str ='+') -> float:\n",
    "    if (operacion == '+'):\n",
    "        res = num1 + num2\n",
    "    elif (operacion == '-'):\n",
    "        res = num1 - num2\n",
    "    elif (operacion == '+'):\n",
    "        res = num1 * num2\n",
    "    elif (operacion == '+'):\n",
    "        res = num1 / num2\n",
    "    else:\n",
    "        res = 'No esta definda esa operación'\n",
    "\n",
    "    return res"
   ]
  },
  {
   "cell_type": "code",
   "execution_count": null,
   "id": "d5d058c6",
   "metadata": {},
   "outputs": [],
   "source": [
    "# Para indicar varios tipos de datos en un argumento, se debe importar Union de \n",
    "# la librería typing de Python.\n",
    "\n",
    "from typing import Union\n",
    "\n",
    "def calculadora(num1: Union[int,float], num2: Union[int,float], operacion: str ='+') -> Union[int, float, str]:\n",
    "\n",
    "    if (operacion == '+'):\n",
    "        res = num1 + num2\n",
    "    elif (operacion == '-'):\n",
    "        res = num1 - num2\n",
    "    elif (operacion == '+'):\n",
    "        res = num1 * num2\n",
    "    elif (operacion == '+'):\n",
    "        res = num1 / num2\n",
    "    else:\n",
    "        res = 'No esta definda esa operación'\n",
    "\n",
    "    return res"
   ]
  },
  {
   "cell_type": "markdown",
   "id": "61c9156a",
   "metadata": {},
   "source": [
    "## Generador\n",
    "\n",
    "Es una función que devuelve un iterador que proudce una secuencia de valorse cuando se itera sobre él. Para ello hay que suar la palabra reservadad `yield`para devolver el valor."
   ]
  },
  {
   "cell_type": "markdown",
   "id": "788e035a",
   "metadata": {},
   "source": [
    "### Características de los Generadores / Tuplas comprimidas\n",
    "\n",
    "* Eficiencia en memoria: no almacena los valores en memoria, por lo que hace son optimos para grandes conjuntos de datos.\n",
    "\n",
    "* Pausabilidad: se pausa en cada declaración yield y se reanuda desde allí en la siguiente iteracción.\n",
    "\n",
    "* Simplicidad: permiten escribir iteradores de manera más sencilla y legible que implementando manualmente los métodos `__iter__` y `__next__`."
   ]
  },
  {
   "cell_type": "code",
   "execution_count": null,
   "id": "ef93af99",
   "metadata": {},
   "outputs": [
    {
     "data": {
      "text/plain": [
       "[3, 4, 5, 6]"
      ]
     },
     "execution_count": 9,
     "metadata": {},
     "output_type": "execute_result"
    }
   ],
   "source": [
    "tup = (i for i in range(7))\n",
    "\n",
    "next (tup)  # Saco un valor de la tupla\n",
    "\n",
    "next (tup)\n",
    "\n",
    "next (tup)\n",
    "\n",
    "list(tup)"
   ]
  },
  {
   "cell_type": "markdown",
   "id": "cb9e698e",
   "metadata": {},
   "source": [
    "## Geneadores custom\n",
    "\n",
    "Se crea igual que una función, ocn la palabra reservada `yield`."
   ]
  },
  {
   "cell_type": "code",
   "execution_count": 25,
   "id": "67b70c3e",
   "metadata": {},
   "outputs": [
    {
     "name": "stdout",
     "output_type": "stream",
     "text": [
      "[0, 1, 2, 3]\n",
      "[3, 4, 5, 6, 7, 8, 9]\n",
      "[8, 12, 16]\n",
      "1\n",
      "5\n",
      "9\n",
      "----------------------------------\n",
      "2\n",
      "[8, 14]\n",
      "-----------------------------------\n",
      "2\n",
      "4.5\n",
      "7.0\n",
      "9.5\n"
     ]
    },
    {
     "ename": "TypeError",
     "evalue": "'float' object cannot be interpreted as an integer",
     "output_type": "error",
     "traceback": [
      "\u001b[1;31m---------------------------------------------------------------------------\u001b[0m",
      "\u001b[1;31mTypeError\u001b[0m                                 Traceback (most recent call last)",
      "Cell \u001b[1;32mIn[25], line 55\u001b[0m\n\u001b[0;32m     52\u001b[0m \u001b[38;5;28;01mfor\u001b[39;00m i \u001b[38;5;129;01min\u001b[39;00m rang(\u001b[38;5;241m2\u001b[39m, \u001b[38;5;241m10\u001b[39m, \u001b[38;5;241m2.5\u001b[39m):\n\u001b[0;32m     53\u001b[0m     \u001b[38;5;28mprint\u001b[39m(i)  \u001b[38;5;66;03m# Si permite valores decimales\u001b[39;00m\n\u001b[1;32m---> 55\u001b[0m \u001b[38;5;28;01mfor\u001b[39;00m i \u001b[38;5;129;01min\u001b[39;00m \u001b[38;5;28;43mrange\u001b[39;49m\u001b[43m(\u001b[49m\u001b[38;5;241;43m2.5\u001b[39;49m\u001b[43m,\u001b[49m\u001b[43m \u001b[49m\u001b[38;5;241;43m10.5\u001b[39;49m\u001b[43m)\u001b[49m:\n\u001b[0;32m     56\u001b[0m     \u001b[38;5;28mprint\u001b[39m(i)  \u001b[38;5;66;03m# Error, no permite valores decimales\u001b[39;00m\n",
      "\u001b[1;31mTypeError\u001b[0m: 'float' object cannot be interpreted as an integer"
     ]
    }
   ],
   "source": [
    "def rang(*args):\n",
    "\n",
    "    if (len(args) == 1):\n",
    "        start = 0\n",
    "        stop = args[0]\n",
    "        step = 1\n",
    "    elif(len(args) == 2):\n",
    "        start = args[0]\n",
    "        stop = args[1]\n",
    "        step = 1\n",
    "    elif(len(args) == 3):\n",
    "        start = args[0]\n",
    "        stop = args[1]\n",
    "        step = args[2]\n",
    "    else:\n",
    "        pass\n",
    "\n",
    "    while start < stop:\n",
    "        yield start\n",
    "        start += step\n",
    "\n",
    "print(list(rang(4)))\n",
    "\n",
    "print(list(rang(3, 10)))\n",
    "\n",
    "print(list(rang(8, 20, 4)))\n",
    "\n",
    "bucle = rang(1, 10, 4)\n",
    "\n",
    "print(next(bucle))  # Saco un valor de la tupla\n",
    "\n",
    "print(next(bucle))  # Saco un valor de la tupla\n",
    "\n",
    "print(next(bucle))  # Saco un valor de la tupla\n",
    "\n",
    "#print(next(bucle))  # Error, ya no quedan valores en la tupla\n",
    "\n",
    "print(\"----------------------------------\")\n",
    "\n",
    "bucle = rang(2, 20, 6)\n",
    "\n",
    "numero = next(bucle)\n",
    "\n",
    "print(numero)  # Saco un valor de la tupla\n",
    "\n",
    "lista = list(bucle)  # Saco el resto de valores de la tupla\n",
    "print(lista)  # Saco el resto de valores de la tupla\n",
    "\n",
    "print(\"-----------------------------------\")\n",
    "# El range no permite valores decimales.\n",
    "\n",
    "for i in rang(2, 10, 2.5):\n",
    "    print(i)  # Si permite valores decimales\n",
    "\n",
    "for i in range(2.5, 10.5):\n",
    "    print(i)  # Error, no permite valores decimales\n",
    "\n",
    "\n"
   ]
  }
 ],
 "metadata": {
  "kernelspec": {
   "display_name": "Python 3",
   "language": "python",
   "name": "python3"
  },
  "language_info": {
   "codemirror_mode": {
    "name": "ipython",
    "version": 3
   },
   "file_extension": ".py",
   "mimetype": "text/x-python",
   "name": "python",
   "nbconvert_exporter": "python",
   "pygments_lexer": "ipython3",
   "version": "3.11.9"
  }
 },
 "nbformat": 4,
 "nbformat_minor": 5
}
