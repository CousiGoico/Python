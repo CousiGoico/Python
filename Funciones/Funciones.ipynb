{
 "cells": [
  {
   "cell_type": "markdown",
   "id": "149525c8",
   "metadata": {},
   "source": [
    "# Funciones"
   ]
  },
  {
   "cell_type": "markdown",
   "id": "483e2204",
   "metadata": {},
   "source": [
    "Podemos crear funciones con la palabra reservada `def` junto con el nombre (debe ser único en el contexto) al que la queremos asociar y parentesis con los argumentos (opcionales)."
   ]
  },
  {
   "cell_type": "code",
   "execution_count": null,
   "id": "6844dd42",
   "metadata": {},
   "outputs": [],
   "source": [
    "def nombre_funcion(argumentos):\n",
    "    # Sentencias de código que queremos ejecutar\n",
    "    return () # Devolución del valor, si no devuelve valor el invocador recibirá None"
   ]
  },
  {
   "cell_type": "code",
   "execution_count": 5,
   "id": "deaae39a",
   "metadata": {},
   "outputs": [],
   "source": [
    "def calcularImporte(cantidad, precio):\n",
    "    \"\"\"\n",
    "    Esta función calcula el importe total a pagar por una cantidad de productos a un precio determinado.\n",
    "    :param cantidad: Cantidad de productos\n",
    "    :param precio: Precio unitario del producto\n",
    "    :return: Importe total a pagar\n",
    "    \"\"\"\n",
    "    return cantidad * precio"
   ]
  },
  {
   "cell_type": "code",
   "execution_count": 6,
   "id": "713c598c",
   "metadata": {},
   "outputs": [
    {
     "name": "stdout",
     "output_type": "stream",
     "text": [
      "El importe total es: 50\n"
     ]
    }
   ],
   "source": [
    "importe = calcularImporte(5, 10)\n",
    "print(f\"El importe total es: {importe}\")"
   ]
  },
  {
   "cell_type": "markdown",
   "id": "8dd84c30",
   "metadata": {},
   "source": [
    "Existe una guía de bunas prácticas llamda [PEP8](https://peps.python.org/pep-0008) en la que se incluyen la nomenclatura de las funciones entre otra información."
   ]
  },
  {
   "cell_type": "markdown",
   "id": "d06e7ae0",
   "metadata": {},
   "source": [
    "Si dentro de una función ponemos un comentario, este comentario saldrá cuando invoquemos la función `help`de la función."
   ]
  },
  {
   "cell_type": "code",
   "execution_count": 4,
   "id": "2fe2455e",
   "metadata": {},
   "outputs": [],
   "source": [
    "def nombre_funcion(argumentos):\n",
    "    \"\"\"\n",
    "    Descripción: la función realiza una tarea específica.\n",
    "    Parámetros: \n",
    "        - argumentos: descripción de los parámetros que recibe la función.\n",
    "    Retorno:\n",
    "        - retorna: descripción del valor que devuelve la función.\n",
    "    \"\"\"\n",
    "    return () "
   ]
  },
  {
   "cell_type": "code",
   "execution_count": 7,
   "id": "fe9688da",
   "metadata": {},
   "outputs": [
    {
     "name": "stdout",
     "output_type": "stream",
     "text": [
      "Help on function nombre_funcion in module __main__:\n",
      "\n",
      "nombre_funcion(argumentos)\n",
      "    Descripción: la función realiza una tarea específica.\n",
      "    Parámetros: \n",
      "        - argumentos: descripción de los parámetros que recibe la función.\n",
      "    Retorno:\n",
      "        - retorna: descripción del valor que devuelve la función.\n",
      "\n",
      "None\n"
     ]
    }
   ],
   "source": [
    "print(help(nombre_funcion))"
   ]
  },
  {
   "cell_type": "markdown",
   "id": "e5d4baa6",
   "metadata": {},
   "source": [
    "## Sin devolución\n",
    "\n",
    "En ciertos casos, no queremos que nuestra función devuelva valor. Para ello, devolvemos la palabra reservada `None` o usamos la sentencia return."
   ]
  },
  {
   "cell_type": "code",
   "execution_count": null,
   "id": "05a14a07",
   "metadata": {},
   "outputs": [
    {
     "name": "stdout",
     "output_type": "stream",
     "text": [
      "None\n",
      "None\n"
     ]
    }
   ],
   "source": [
    "def funcion_devolucion_none():\n",
    "    return None\n",
    "\n",
    "resultado = funcion_devolucion_none()\n",
    "print(resultado)  # Imprime 'None'\n",
    "\n",
    "def funcion_devolucion_vacia():\n",
    "    a = 1 + 2\n",
    "    \n",
    "\n",
    "funcion_devolucion_vacia()\n",
    "print(resultado)  # Imprime 'None'\n"
   ]
  },
  {
   "cell_type": "code",
   "execution_count": null,
   "id": "975bd247",
   "metadata": {},
   "outputs": [
    {
     "name": "stdout",
     "output_type": "stream",
     "text": [
      "()\n"
     ]
    }
   ],
   "source": []
  }
 ],
 "metadata": {
  "kernelspec": {
   "display_name": "Python 3",
   "language": "python",
   "name": "python3"
  },
  "language_info": {
   "codemirror_mode": {
    "name": "ipython",
    "version": 3
   },
   "file_extension": ".py",
   "mimetype": "text/x-python",
   "name": "python",
   "nbconvert_exporter": "python",
   "pygments_lexer": "ipython3",
   "version": "3.11.9"
  }
 },
 "nbformat": 4,
 "nbformat_minor": 5
}
