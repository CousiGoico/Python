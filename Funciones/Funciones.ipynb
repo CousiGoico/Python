{
 "cells": [
  {
   "cell_type": "markdown",
   "id": "149525c8",
   "metadata": {},
   "source": [
    "# Funciones"
   ]
  },
  {
   "cell_type": "markdown",
   "id": "483e2204",
   "metadata": {},
   "source": [
    "Podemos crear funciones con la palabra reservada `def` junto con el nombre (debe ser único en el contexto) al que la queremos asociar y parentesis con los argumentos (opcionales)."
   ]
  },
  {
   "cell_type": "code",
   "execution_count": null,
   "id": "6844dd42",
   "metadata": {},
   "outputs": [],
   "source": [
    "def nombre_funcion(argumentos):\n",
    "    # Sentencias de código que queremos ejecutar\n",
    "    return () # Devolución del valor, si no devuelve valor el invocador recibirá None"
   ]
  },
  {
   "cell_type": "code",
   "execution_count": 5,
   "id": "deaae39a",
   "metadata": {},
   "outputs": [],
   "source": [
    "def calcularImporte(cantidad, precio):\n",
    "    \"\"\"\n",
    "    Esta función calcula el importe total a pagar por una cantidad de productos a un precio determinado.\n",
    "    :param cantidad: Cantidad de productos\n",
    "    :param precio: Precio unitario del producto\n",
    "    :return: Importe total a pagar\n",
    "    \"\"\"\n",
    "    return cantidad * precio"
   ]
  },
  {
   "cell_type": "code",
   "execution_count": 6,
   "id": "713c598c",
   "metadata": {},
   "outputs": [
    {
     "name": "stdout",
     "output_type": "stream",
     "text": [
      "El importe total es: 50\n"
     ]
    }
   ],
   "source": [
    "importe = calcularImporte(5, 10)\n",
    "print(f\"El importe total es: {importe}\")"
   ]
  },
  {
   "cell_type": "markdown",
   "id": "8dd84c30",
   "metadata": {},
   "source": [
    "Existe una guía de bunas prácticas llamda [PEP8](https://peps.python.org/pep-0008) en la que se incluyen la nomenclatura de las funciones entre otra información."
   ]
  },
  {
   "cell_type": "markdown",
   "id": "d06e7ae0",
   "metadata": {},
   "source": [
    "Si dentro de una función ponemos un comentario, este comentario saldrá cuando invoquemos la función `help`de la función."
   ]
  },
  {
   "cell_type": "code",
   "execution_count": 4,
   "id": "2fe2455e",
   "metadata": {},
   "outputs": [],
   "source": [
    "def nombre_funcion(argumentos):\n",
    "    \"\"\"\n",
    "    Descripción: la función realiza una tarea específica.\n",
    "    Parámetros: \n",
    "        - argumentos: descripción de los parámetros que recibe la función.\n",
    "    Retorno:\n",
    "        - retorna: descripción del valor que devuelve la función.\n",
    "    \"\"\"\n",
    "    return () "
   ]
  },
  {
   "cell_type": "code",
   "execution_count": 7,
   "id": "fe9688da",
   "metadata": {},
   "outputs": [
    {
     "name": "stdout",
     "output_type": "stream",
     "text": [
      "Help on function nombre_funcion in module __main__:\n",
      "\n",
      "nombre_funcion(argumentos)\n",
      "    Descripción: la función realiza una tarea específica.\n",
      "    Parámetros: \n",
      "        - argumentos: descripción de los parámetros que recibe la función.\n",
      "    Retorno:\n",
      "        - retorna: descripción del valor que devuelve la función.\n",
      "\n",
      "None\n"
     ]
    }
   ],
   "source": [
    "print(help(nombre_funcion))"
   ]
  },
  {
   "cell_type": "markdown",
   "id": "e5d4baa6",
   "metadata": {},
   "source": [
    "## Sin devolución\n",
    "\n",
    "En ciertos casos, no queremos que nuestra función devuelva valor. Para ello, devolvemos la palabra reservada `None` o usamos la sentencia return."
   ]
  },
  {
   "cell_type": "code",
   "execution_count": null,
   "id": "05a14a07",
   "metadata": {},
   "outputs": [
    {
     "name": "stdout",
     "output_type": "stream",
     "text": [
      "None\n",
      "None\n"
     ]
    }
   ],
   "source": [
    "def funcion_devolucion_none():\n",
    "    return None\n",
    "\n",
    "resultado = funcion_devolucion_none()\n",
    "print(resultado)  # Imprime 'None'\n",
    "\n",
    "def funcion_devolucion_vacia():\n",
    "    a = 1 + 2\n",
    "    \n",
    "\n",
    "funcion_devolucion_vacia()\n",
    "print(resultado)  # Imprime 'None'\n"
   ]
  },
  {
   "cell_type": "markdown",
   "id": "6fd89ef3",
   "metadata": {},
   "source": [
    "## Nombre de los argumentos\n",
    "\n",
    "A la hora de invocar podemos usar el nombre de los argumentos para indicar los valores y en este caso no importaría el orden. Sin embargo, si lo hacemos sin especificar los nombres, debemos indicar los argumentos en orden a como están definidos. "
   ]
  },
  {
   "cell_type": "code",
   "execution_count": 18,
   "id": "5cf5ec1b",
   "metadata": {},
   "outputs": [
    {
     "name": "stdout",
     "output_type": "stream",
     "text": [
      "Resultado 1:  6\n",
      "Resultado 2:  16\n"
     ]
    }
   ],
   "source": [
    "def nombre_funcion(arg1, arg2, arg3):\n",
    "    return arg1 + arg2 + arg3\n",
    "\n",
    "resultado1 = nombre_funcion(1, 2, 3) # Llamada a la función con tres valores, el 1 para el arg1, el 2 para el arg2 y el 3 para el arg3\n",
    "print(\"Resultado 1: \", resultado1)  \n",
    "\n",
    "resultado2 = nombre_funcion(arg2=1, arg3=6, arg1=9) # Llamada a la función indicando los nombres de los argumentos\n",
    "print(\"Resultado 2: \", resultado2)  \n"
   ]
  },
  {
   "cell_type": "markdown",
   "id": "96d1e472",
   "metadata": {},
   "source": [
    "## Parámetros por defecto\n",
    "\n",
    "Se puede definir argumentos con un valor inicial."
   ]
  },
  {
   "cell_type": "code",
   "execution_count": 2,
   "id": "0eb07ae0",
   "metadata": {},
   "outputs": [
    {
     "name": "stdout",
     "output_type": "stream",
     "text": [
      "Resultado:  7\n",
      "Resultado:  11\n"
     ]
    }
   ],
   "source": [
    "def nombre_funcion(arg1, arg2, arg3=4):\n",
    "    return arg1 + arg2 + arg3\n",
    "\n",
    "resultado = nombre_funcion(1, 2)\n",
    "print(\"Resultado: \", resultado)\n",
    "\n",
    "resultado = nombre_funcion(2, 3, 6)\n",
    "print(\"Resultado: \", resultado)  "
   ]
  },
  {
   "cell_type": "markdown",
   "id": "d9663777",
   "metadata": {},
   "source": [
    "## Args\n",
    "\n",
    "Con `args` podemos enviar a una función un número indeterminado de parámetros."
   ]
  },
  {
   "cell_type": "code",
   "execution_count": 7,
   "id": "20b29425",
   "metadata": {},
   "outputs": [
    {
     "name": "stdout",
     "output_type": "stream",
     "text": [
      "Args:  (1, 2, 3, 4, 5)\n",
      "15\n",
      "Args:  (2, 6, 8)\n",
      "16\n",
      "Args:  (9, 15, 147, 25)\n",
      "196\n"
     ]
    }
   ],
   "source": [
    "def nombre_funcion(*args):\n",
    "    \"\"\"\"Esta función suma un número indeterminado de argumentos\n",
    "    Argumentos:\n",
    "        args: número indeterminado de argumentos\n",
    "    Retorno:\n",
    "        suma: suma de los argumentos\n",
    "    \"\"\"\n",
    "\n",
    "    print(\"Args: \", args)  \n",
    "\n",
    "    return sum(args)  \n",
    "\n",
    "lista = [1, 2, 3, 4, 5]\n",
    "print(nombre_funcion(*lista))  \n",
    "\n",
    "lista = [2, 6, 8]\n",
    "print(nombre_funcion(*lista))\n",
    "\n",
    "lista = [9, 15, 147, 25]\n",
    "print(nombre_funcion(*lista))"
   ]
  },
  {
   "cell_type": "markdown",
   "id": "01dc4e30",
   "metadata": {},
   "source": [
    "## Kwargs\n",
    "\n",
    "Key arguments, son argumentos pero en formato clave-valor. El simbolo `**` coge los argumentos de un en uno sabiendo que es un diccionario clave-valor. "
   ]
  },
  {
   "cell_type": "code",
   "execution_count": 14,
   "id": "f43e7327",
   "metadata": {},
   "outputs": [
    {
     "name": "stdout",
     "output_type": "stream",
     "text": [
      "Hola Juan, colega\n",
      "Hello Pedro\n",
      "Hola Jose, colega\n"
     ]
    }
   ],
   "source": [
    "def saludar(nombre, lang='es', colega=True):\n",
    "    \"\"\"\n",
    "    Función para saludar a una persona.\n",
    "    :param nombre: Nombre de la persona a saludar.\n",
    "    :param lang: Idioma del saludo (por defecto 'en').\n",
    "    :param colega: Si es True, se añade \"colega\" al saludo.\n",
    "    :return: Saludo personalizado.\n",
    "    \"\"\"\n",
    "    if lang == 'es':\n",
    "        saludo = f\"Hola {nombre}\"\n",
    "    else:\n",
    "        saludo = f\"Hello {nombre}\"\n",
    "    \n",
    "    if colega:\n",
    "        saludo += \", colega\"\n",
    "    \n",
    "    return saludo\n",
    "\n",
    "print(saludar('Juan'))\n",
    "\n",
    "print(saludar('Pedro', 'en', False))\n",
    "\n",
    "print(saludar('Jose', colega=True))"
   ]
  },
  {
   "cell_type": "code",
   "execution_count": 12,
   "id": "85bfd792",
   "metadata": {},
   "outputs": [
    {
     "name": "stdout",
     "output_type": "stream",
     "text": [
      "Hola ['Juan', 'Javi', 'Oscar'], colega\n"
     ]
    }
   ],
   "source": [
    "def saludar_multiple(*nombres, lang='es', colega=True):\n",
    "    \"\"\"\n",
    "    Función para saludar a una persona.\n",
    "    :param nombres: Nombres de las personas a saludar.\n",
    "    :param lang: Idioma del saludo (por defecto 'en').\n",
    "    :param colega: Si es True, se añade \"colega\" al saludo.\n",
    "    :return: Saludo personalizado.\n",
    "    \"\"\"\n",
    "\n",
    "    for n in nombres:\n",
    "        print(saludar(n, lang, colega))\n",
    "\n",
    "\n",
    "saludar_multiple(['Juan', 'Javi', 'Oscar'])"
   ]
  },
  {
   "cell_type": "code",
   "execution_count": 13,
   "id": "2faa9563",
   "metadata": {},
   "outputs": [
    {
     "name": "stdout",
     "output_type": "stream",
     "text": [
      "Args:  (3, 5, 6)\n",
      "Kwargs:  {'a': 1, 'b': 2, 'c': 3}\n"
     ]
    },
    {
     "data": {
      "text/plain": [
       "((3, 5, 6), {'a': 1, 'b': 2, 'c': 3})"
      ]
     },
     "execution_count": 13,
     "metadata": {},
     "output_type": "execute_result"
    }
   ],
   "source": [
    "def nombre_funcion(*args, **kwargs):\n",
    "    \"\"\"\n",
    "    Esta función recibe un número indeterminado de argumentos y parámetros nombrados.\n",
    "    :param args: Argumentos posicionales.\n",
    "    :param kwargs: Argumentos nombrados.\n",
    "    \"\"\"\n",
    "    print(\"Args: \", args)\n",
    "    print(\"Kwargs: \", kwargs)\n",
    "    return args, kwargs\n",
    "\n",
    "nombre_funcion(*[3, 5, 6], **{'a': 1, 'b': 2, 'c': 3}) "
   ]
  }
 ],
 "metadata": {
  "kernelspec": {
   "display_name": "Python 3",
   "language": "python",
   "name": "python3"
  },
  "language_info": {
   "codemirror_mode": {
    "name": "ipython",
    "version": 3
   },
   "file_extension": ".py",
   "mimetype": "text/x-python",
   "name": "python",
   "nbconvert_exporter": "python",
   "pygments_lexer": "ipython3",
   "version": "3.11.9"
  }
 },
 "nbformat": 4,
 "nbformat_minor": 5
}
