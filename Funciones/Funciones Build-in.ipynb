{
 "cells": [
  {
   "cell_type": "markdown",
   "id": "6a3b7540",
   "metadata": {},
   "source": [
    "# Funciones"
   ]
  },
  {
   "cell_type": "markdown",
   "id": "2c5a8a9f",
   "metadata": {},
   "source": [
    "## Definición\n",
    "\n",
    "Una función es un algoritmo de código, es decir, un conjunto de sentencias a las que se le asocia un nombre. Se puede invocar o llamar a dicha función y se le puede pasar o no un numero de argumentos. Esta función puede devolver un valor cuando termina de ejecutarse."
   ]
  },
  {
   "cell_type": "markdown",
   "id": "bc6ab031",
   "metadata": {},
   "source": [
    "### Ventajas\n",
    "\n",
    "* Modularización: permite organizar el código en grupos de sentencias a las que puedes invocar.\n",
    "\n",
    "* Reutilización: se puede reutilizar el código e invocar tantas veces como se desee."
   ]
  },
  {
   "cell_type": "markdown",
   "id": "b28eb0cb",
   "metadata": {},
   "source": [
    "## Funciones propias de Python"
   ]
  },
  {
   "cell_type": "markdown",
   "id": "dc625aed",
   "metadata": {},
   "source": [
    "Existen funciones propias de Python: `len`, `print`, ..."
   ]
  },
  {
   "cell_type": "code",
   "execution_count": 1,
   "id": "09cdcf6a",
   "metadata": {},
   "outputs": [
    {
     "name": "stdout",
     "output_type": "stream",
     "text": [
      "Hola, mundo!\n",
      "12\n"
     ]
    }
   ],
   "source": [
    "print(\"Hola, mundo!\")\n",
    "\n",
    "print(len(\"Hola, mundo!\"))"
   ]
  }
 ],
 "metadata": {
  "kernelspec": {
   "display_name": "Python 3",
   "language": "python",
   "name": "python3"
  },
  "language_info": {
   "codemirror_mode": {
    "name": "ipython",
    "version": 3
   },
   "file_extension": ".py",
   "mimetype": "text/x-python",
   "name": "python",
   "nbconvert_exporter": "python",
   "pygments_lexer": "ipython3",
   "version": "3.11.9"
  }
 },
 "nbformat": 4,
 "nbformat_minor": 5
}
