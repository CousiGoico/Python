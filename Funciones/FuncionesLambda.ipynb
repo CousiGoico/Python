{
 "cells": [
  {
   "cell_type": "markdown",
   "id": "271533c7",
   "metadata": {},
   "source": [
    "# Lambdas"
   ]
  },
  {
   "cell_type": "markdown",
   "id": "a9cb37e2",
   "metadata": {},
   "source": [
    "Se refiere a una función anónima, sin nombre. Se usa como una pequeña función de pocas líneas que no se va a reutilizar y por lo tanto, no se va a guardar. La signtaxis de la función lambda e:\n",
    "\n",
    "        lambda param1, param2='Hola', param3: action(param1, param2, param3)\n",
    "\n",
    "        lambda *args, **kwargs: accion(*args, **kwargs)"
   ]
  },
  {
   "cell_type": "code",
   "execution_count": null,
   "id": "bc53f533",
   "metadata": {},
   "outputs": [
    {
     "name": "stdout",
     "output_type": "stream",
     "text": [
      "<class 'function'>\n",
      "8\n",
      "16\n",
      "48\n"
     ]
    }
   ],
   "source": [
    "def sumar(num1, num2):\n",
    "    \"\"\"\n",
    "    Esta función suma dos números y devuelve el resultado.\n",
    "    \n",
    "    :param num1: Primer número a sumar\n",
    "    :param num2: Segundo número a sumar\n",
    "    :return: Suma de num1 y num2\n",
    "    \"\"\"\n",
    "    return num1 + num2\n",
    "\n",
    "print(type(sumar))\n",
    "\n",
    "print(sumar(5, 3))  # Salida: 8\n",
    "\n",
    "lambda num1, num2, num3 : num1 + num2 + num3\n",
    "# Esta función lambda suma tres números y devuelve el resultado.\n",
    "\n",
    "print((lambda num1, num2, num3 : num1 + num2 + num3)(3, 5, 8))\n",
    "\n",
    "sumar2 = lambda num1, num2, num3 : num1 + num2 + num3\n",
    "\n",
    "print(sumar2(9, 14, 25))\n",
    "\n",
    "lambda *args : [3*e if 'o' in e else (e if 'v' in e else (5*e if 'a' in e else None)) for e in args]\n",
    "\n",
    "\n"
   ]
  }
 ],
 "metadata": {
  "kernelspec": {
   "display_name": "Python 3",
   "language": "python",
   "name": "python3"
  },
  "language_info": {
   "codemirror_mode": {
    "name": "ipython",
    "version": 3
   },
   "file_extension": ".py",
   "mimetype": "text/x-python",
   "name": "python",
   "nbconvert_exporter": "python",
   "pygments_lexer": "ipython3",
   "version": "3.11.9"
  }
 },
 "nbformat": 4,
 "nbformat_minor": 5
}
