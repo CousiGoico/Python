{
 "cells": [
  {
   "cell_type": "code",
   "execution_count": 2,
   "id": "f1ff3ef3",
   "metadata": {},
   "outputs": [],
   "source": [
    "def OtrasFuncionesSumar(a, b, c, d):\n",
    "    return a + b + c + d"
   ]
  },
  {
   "cell_type": "code",
   "execution_count": 3,
   "id": "5c8652ee",
   "metadata": {},
   "outputs": [],
   "source": [
    "def OtrasFuncionesRestar(a, b):\n",
    "    return a - b    "
   ]
  },
  {
   "cell_type": "code",
   "execution_count": 4,
   "id": "2cea5127",
   "metadata": {},
   "outputs": [],
   "source": [
    "def OtrasFuncionesMultiplicar(a, b):\n",
    "    return a * b\n",
    "\n"
   ]
  },
  {
   "cell_type": "code",
   "execution_count": 5,
   "id": "fc915a2d",
   "metadata": {},
   "outputs": [],
   "source": [
    "def OtrasFuncionesDividir(a, b):\n",
    "    if b == 0:\n",
    "        raise ValueError(\"No se puede dividir por cero\")\n",
    "    return a / b"
   ]
  }
 ],
 "metadata": {
  "kernelspec": {
   "display_name": "Python 3",
   "language": "python",
   "name": "python3"
  },
  "language_info": {
   "codemirror_mode": {
    "name": "ipython",
    "version": 3
   },
   "file_extension": ".py",
   "mimetype": "text/x-python",
   "name": "python",
   "nbconvert_exporter": "python",
   "pygments_lexer": "ipython3",
   "version": "3.11.9"
  }
 },
 "nbformat": 4,
 "nbformat_minor": 5
}
