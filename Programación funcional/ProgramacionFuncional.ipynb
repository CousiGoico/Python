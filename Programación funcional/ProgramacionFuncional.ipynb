{
 "cells": [
  {
   "cell_type": "markdown",
   "id": "470508ce",
   "metadata": {},
   "source": [
    "# Programación funcional\n",
    "\n",
    "Se hace la distinción entre datos y comportamiento, esto quiere decir que los programas tienen dos partes separadas, las acciones y los datos, funciones que se ejecutan con o sobre los datos. Esto hace que los datos sean inmutables en la programaicón funciónal, a no ser que sean sobreescritos a propósito. \n",
    "\n",
    "**Beneficios de la Programación funcional**\n",
    "\n",
    "- **Predecibilidad:** las funciones puras son predecibles porque siempre producen la misma salida para la misma salida.\n",
    "- **Facilidad de depuración y pruebas:** la inmutabilidad y la fatla de efectos secundarios hacen\n",
    "- **Paralelismo:** la inmutabilidad facilita la ejecución en paralelo, ya que no hay riesgos de condiciones de carrera.\n",
    "- **Abstracción:** una función podría funcionar como una caja negra, donde nosotros no comprendemos sufuncionamiento intenro, pero somos capaces de usarla y trabajar con su resultado.\n",
    "- **Modularización:** las funciones tienen un objetivo específico, realizan una acción, para luego poder construir un proceso completo con varias funciones, varios pasos dentro del mismo.\n",
    "- **Reusabilidad:** las funciones pueden ser utilizadas cuantas veces sea necesario, son módulos inependientes."
   ]
  },
  {
   "cell_type": "markdown",
   "id": "8abbbf30",
   "metadata": {},
   "source": [
    "## Recursividad\n",
    "\n",
    "Es una técnica en programación donde una función se llama a si misma pra resolver un problema. Es una forma de resolver problemas uqe pueden ser divididos en subrproblemas más pequeños del mismo tipo. En Python, como en muchos otros lenguajes de programación, la recursividad se usa comúnmente para trabajar con estructuras de datos como listas, árboles y grafos, así como para resolver problemas algorítmicos.\n",
    "\n",
    "**Conceptos clave de la recursividad:**\n",
    "\n",
    "1. **Caso base:** es la condición en la que la recursión termina. Si un caso base, la función recursiva se llamaría a sí misma indefinidamente, provocando un desbordamiento de memoria (stack overflow).\n",
    "\n",
    "2. **Caso recursivo:** es la parte de la función que se llama a sí misma con una versión simplificada o reducida del programa original."
   ]
  },
  {
   "cell_type": "markdown",
   "id": "ccec9c7c",
   "metadata": {},
   "source": [
    "**Ejemplo: Factorial de un número**\n",
    "\n",
    "El factorial de un número `n`, denominado como `n!`, es el producto de todos los números enteros positivos menores o iguales a `n`.\n",
    "\n",
    "`n! = nX (n-1)!`\n",
    "\n",
    "Donde el caso base es 0! = 1"
   ]
  },
  {
   "cell_type": "code",
   "execution_count": 8,
   "id": "409a0402",
   "metadata": {},
   "outputs": [
    {
     "data": {
      "text/plain": [
       "6"
      ]
     },
     "execution_count": 8,
     "metadata": {},
     "output_type": "execute_result"
    }
   ],
   "source": [
    "def factorial(n):\n",
    "    if n < 0:\n",
    "        raise ValueError(\"Factorial is not defined for negative numbers\")\n",
    "    if n == 0:\n",
    "        return 1\n",
    "    else: \n",
    "        # print(n)\n",
    "        # print(n-1)\n",
    "        # print(\"Resultado: \", n * (n - 1))\n",
    "        return n * factorial(n - 1)\n",
    "\n",
    "factorial(3)"
   ]
  },
  {
   "cell_type": "markdown",
   "id": "7278c85a",
   "metadata": {},
   "source": [
    "**Ejemplo: Fibonacci**\n",
    "\n",
    "La secuencia de Fibonacci es una serie de números en la que cada número es la suma de los daots anteriores. Comienza con 0 y 1.\n",
    "\n",
    "`F(n) = F(n-1)+F(n-2)`\n",
    "\n",
    "Donde los casos base son F(0) = 0 y F(1) = 1."
   ]
  },
  {
   "cell_type": "code",
   "execution_count": 13,
   "id": "e86977ec",
   "metadata": {},
   "outputs": [
    {
     "name": "stdout",
     "output_type": "stream",
     "text": [
      "0\n",
      "1\n",
      "1\n",
      "2\n",
      "3\n",
      "5\n"
     ]
    }
   ],
   "source": [
    "def fibonacci(n):\n",
    "    if n < 0:\n",
    "        raise ValueError(\"Fibonacci is not defined for negative numbers\")\n",
    "    elif n == 0:\n",
    "        return 0\n",
    "    elif n == 1:\n",
    "        return 1\n",
    "    else:\n",
    "        return fibonacci(n - 1) + fibonacci(n - 2)\n",
    "    \n",
    "print(fibonacci(0))\n",
    "print(fibonacci(1))\n",
    "print(fibonacci(2))\n",
    "print(fibonacci(3))\n",
    "print(fibonacci(4))\n",
    "print(fibonacci(5))"
   ]
  }
 ],
 "metadata": {
  "kernelspec": {
   "display_name": "Python 3",
   "language": "python",
   "name": "python3"
  },
  "language_info": {
   "codemirror_mode": {
    "name": "ipython",
    "version": 3
   },
   "file_extension": ".py",
   "mimetype": "text/x-python",
   "name": "python",
   "nbconvert_exporter": "python",
   "pygments_lexer": "ipython3",
   "version": "3.11.9"
  }
 },
 "nbformat": 4,
 "nbformat_minor": 5
}
