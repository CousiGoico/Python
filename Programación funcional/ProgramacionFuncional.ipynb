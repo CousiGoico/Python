{
 "cells": [
  {
   "cell_type": "markdown",
   "id": "470508ce",
   "metadata": {},
   "source": [
    "# Programación funcional\n",
    "\n",
    "Se hace la distinción entre datos y comportamiento, esto quiere decir que los programas tienen dos partes separadas, las acciones y los datos, funciones que se ejecutan con o sobre los datos. Esto hace que los datos sean inmutables en la programaicón funciónal, a no ser que sean sobreescritos a propósito. \n",
    "\n",
    "**Beneficios de la Programación funcional**\n",
    "\n",
    "- **Predecibilidad:** las funciones puras son predecibles porque siempre producen la misma salida para la misma salida.\n",
    "- **Facilidad de depuración y pruebas:** la inmutabilidad y la fatla de efectos secundarios hacen\n",
    "- **Paralelismo:** la inmutabilidad facilita la ejecución en paralelo, ya que no hay riesgos de condiciones de carrera.\n",
    "- **Abstracción:** una función podría funcionar como una caja negra, donde nosotros no comprendemos sufuncionamiento intenro, pero somos capaces de usarla y trabajar con su resultado.\n",
    "- **Modularización:** las funciones tienen un objetivo específico, realizan una acción, para luego poder construir un proceso completo con varias funciones, varios pasos dentro del mismo.\n",
    "- **Reusabilidad:** las funciones pueden ser utilizadas cuantas veces sea necesario, son módulos inependientes."
   ]
  },
  {
   "cell_type": "markdown",
   "id": "8abbbf30",
   "metadata": {},
   "source": [
    "## Recursividad\n",
    "\n",
    "Es una técnica en programación donde una función se llama a si misma pra resolver un problema. Es una forma de resolver problemas uqe pueden ser divididos en subrproblemas más pequeños del mismo tipo. En Python, como en muchos otros lenguajes de programación, la recursividad se usa comúnmente para trabajar con estructuras de datos como listas, árboles y grafos, así como para resolver problemas algorítmicos.\n",
    "\n",
    "**Conceptos clave de la recursividad:**\n",
    "\n",
    "1. **Caso base:** es la condición en la que la recursión termina. Si un caso base, la función recursiva se llamaría a sí misma indefinidamente, provocando un desbordamiento de memoria (stack overflow).\n",
    "\n",
    "2. **Caso recursivo:** es la parte de la función que se llama a sí misma con una versión simplificada o reducida del programa original."
   ]
  },
  {
   "cell_type": "markdown",
   "id": "ccec9c7c",
   "metadata": {},
   "source": [
    "**Ejemplo: Factorial de un número**\n",
    "\n",
    "El factorial de un número `n`, denominado como `n!`, es el producto de todos los números enteros positivos menores o iguales a `n`.\n",
    "\n",
    "`n! = nX (n-1)!`\n",
    "\n",
    "Donde el caso base es 0! = 1"
   ]
  },
  {
   "cell_type": "code",
   "execution_count": 8,
   "id": "409a0402",
   "metadata": {},
   "outputs": [
    {
     "data": {
      "text/plain": [
       "6"
      ]
     },
     "execution_count": 8,
     "metadata": {},
     "output_type": "execute_result"
    }
   ],
   "source": [
    "def factorial(n):\n",
    "    if n < 0:\n",
    "        raise ValueError(\"Factorial is not defined for negative numbers\")\n",
    "    if n == 0:\n",
    "        return 1\n",
    "    else: \n",
    "        # print(n)\n",
    "        # print(n-1)\n",
    "        # print(\"Resultado: \", n * (n - 1))\n",
    "        return n * factorial(n - 1)\n",
    "\n",
    "factorial(3)"
   ]
  },
  {
   "cell_type": "markdown",
   "id": "7278c85a",
   "metadata": {},
   "source": [
    "**Ejemplo: Fibonacci**\n",
    "\n",
    "La secuencia de Fibonacci es una serie de números en la que cada número es la suma de los daots anteriores. Comienza con 0 y 1.\n",
    "\n",
    "`F(n) = F(n-1)+F(n-2)`\n",
    "\n",
    "Donde los casos base son F(0) = 0 y F(1) = 1."
   ]
  },
  {
   "cell_type": "code",
   "execution_count": 13,
   "id": "e86977ec",
   "metadata": {},
   "outputs": [
    {
     "name": "stdout",
     "output_type": "stream",
     "text": [
      "0\n",
      "1\n",
      "1\n",
      "2\n",
      "3\n",
      "5\n"
     ]
    }
   ],
   "source": [
    "def fibonacci(n):\n",
    "    if n < 0:\n",
    "        raise ValueError(\"Fibonacci is not defined for negative numbers\")\n",
    "    elif n == 0:\n",
    "        return 0\n",
    "    elif n == 1:\n",
    "        return 1\n",
    "    else:\n",
    "        return fibonacci(n - 1) + fibonacci(n - 2)\n",
    "    \n",
    "print(fibonacci(0))\n",
    "print(fibonacci(1))\n",
    "print(fibonacci(2))\n",
    "print(fibonacci(3))\n",
    "print(fibonacci(4))\n",
    "print(fibonacci(5))"
   ]
  },
  {
   "cell_type": "markdown",
   "id": "ee2ab19c",
   "metadata": {},
   "source": [
    "## Decoradores\n",
    "\n",
    "son una característica poderosa y flexible que permite modificar el comportamiento de las funciones. Son funciones que toman otra función como argumento y evuelven una nueva función que generalmente extiende el comportamiento de la original sin modificar su estructura. Se usan comúnmente para la valdiación, el registro, la sincronización y la gestión de acceso entre otras cosas.\n",
    "\n",
    "**Conceptos clave de los decoradores**\n",
    "\n",
    "- **Funciones de orden superior:** es aquella que acepta una función como argumento o devuelve una función como resultado.\n",
    "- **Funciones anidadas:** es una función definida dentro de otra. Pueden acceder a las variables locales de la función contenedora.\n",
    "- **Clausuras (closures):** es una función que recuerda el entorno en el cual fue creada. Puede acceder a las variables de dicho entorno incluso después de que la función conteneora haya terminado su ejecución."
   ]
  },
  {
   "cell_type": "code",
   "execution_count": null,
   "id": "cc155d6a",
   "metadata": {},
   "outputs": [],
   "source": [
    "# Decorador de ejemplo\n",
    "\n",
    "def decorador(func):\n",
    "    def envoltura(*args, **kwargs):\n",
    "        print(\"Antes de llamar a la función\")\n",
    "        resultado = func(*args, **kwargs)\n",
    "        print(\"Después de llamar a la función\")\n",
    "        return resultado\n",
    "    return envoltura"
   ]
  },
  {
   "cell_type": "code",
   "execution_count": 3,
   "id": "15885dfd",
   "metadata": {},
   "outputs": [],
   "source": [
    "# Aplicando el decorador a una función\n",
    "@decorador \n",
    "\n",
    "def saludar(nombre):\n",
    "    print(f\"Hola, {nombre}!\")"
   ]
  },
  {
   "cell_type": "code",
   "execution_count": 4,
   "id": "3ef9bd88",
   "metadata": {},
   "outputs": [
    {
     "name": "stdout",
     "output_type": "stream",
     "text": [
      "Antes de llamar a la función\n",
      "Hola, Mundo!\n",
      "Después de llamar a la función\n"
     ]
    }
   ],
   "source": [
    "# Llamando a la función decorada\n",
    "saludar(\"Mundo\")"
   ]
  },
  {
   "cell_type": "markdown",
   "id": "a83d334f",
   "metadata": {},
   "source": [
    "Otro ejemplo"
   ]
  },
  {
   "cell_type": "code",
   "execution_count": 5,
   "id": "7537d406",
   "metadata": {},
   "outputs": [],
   "source": [
    "# Decorador debug\n",
    "\n",
    "def debug(func):\n",
    "    def wrap(*args, **kwargs):\n",
    "        print(f\"Args: {args}\")\n",
    "        print(f\"kwargs: {kwargs}\")\n",
    "        print(f\"Return: {func(*args, **kwargs)}\")\n",
    "        return func(*args, **kwargs)\n",
    "    return wrap"
   ]
  },
  {
   "cell_type": "code",
   "execution_count": 8,
   "id": "6dbf8549",
   "metadata": {},
   "outputs": [],
   "source": [
    "# Aplicando el decorador a una función\n",
    "@debug\n",
    "def sumar(a, b, c, d):\n",
    "    return a + b + c + d"
   ]
  },
  {
   "cell_type": "code",
   "execution_count": 9,
   "id": "b8618b3d",
   "metadata": {},
   "outputs": [
    {
     "name": "stdout",
     "output_type": "stream",
     "text": [
      "Args: (1, 2, 3, 4)\n",
      "kwargs: {}\n",
      "Return: 10\n",
      "Resultado de la suma: 10\n"
     ]
    }
   ],
   "source": [
    "# llamada a la función decorada\n",
    "resultado = sumar(1, 2, 3, 4)\n",
    "print(f\"Resultado de la suma: {resultado}\")"
   ]
  },
  {
   "cell_type": "markdown",
   "id": "231a9107",
   "metadata": {},
   "source": [
    "Otro ejemplo"
   ]
  },
  {
   "cell_type": "code",
   "execution_count": 10,
   "id": "01ed7a5a",
   "metadata": {},
   "outputs": [],
   "source": [
    "# Decorador repetidor\n",
    "# Este decorador repetirá la ejecución de la función n veces\n",
    "\n",
    "def repetidor(n):\n",
    "    def decorador(func):\n",
    "        def envoltura(*args, **kwargs):\n",
    "            for _ in range(n):\n",
    "                func(*args, **kwargs)\n",
    "        return envoltura\n",
    "    return decorador"
   ]
  },
  {
   "cell_type": "code",
   "execution_count": 15,
   "id": "3c82d11f",
   "metadata": {},
   "outputs": [],
   "source": [
    "# Aplicando el decorador a una función\n",
    "\n",
    "@repetidor(7)\n",
    "def saludar(nombre):\n",
    "    print(f\"Hola, {nombre}!\")"
   ]
  },
  {
   "cell_type": "code",
   "execution_count": 16,
   "id": "2821707d",
   "metadata": {},
   "outputs": [
    {
     "name": "stdout",
     "output_type": "stream",
     "text": [
      "Hola, Cesar!\n",
      "Hola, Cesar!\n",
      "Hola, Cesar!\n",
      "Hola, Cesar!\n",
      "Hola, Cesar!\n",
      "Hola, Cesar!\n",
      "Hola, Cesar!\n"
     ]
    }
   ],
   "source": [
    "# Ejecución de la función decorada\n",
    "\n",
    "resultado = saludar('Cesar')"
   ]
  },
  {
   "cell_type": "markdown",
   "id": "e363e480",
   "metadata": {},
   "source": [
    "## Importación de módulos propios\n",
    "\n",
    "Se refiere a la capacidad de importar y utilizar módulos que nosotros mismos hemos escritos, además de usar módulos estándar de Python o módulos de terceros. Esto es útil para organizar y administrar nuestro código, para modularizar y mantener el código. "
   ]
  },
  {
   "cell_type": "code",
   "execution_count": 21,
   "id": "fbc9c198",
   "metadata": {},
   "outputs": [
    {
     "data": {
      "text/plain": [
       "<module 'Functions' from 'n:\\\\Python\\\\Programación funcional\\\\Functions.py'>"
      ]
     },
     "execution_count": 21,
     "metadata": {},
     "output_type": "execute_result"
    }
   ],
   "source": [
    "# Importación de módulos propios\n",
    "# Se refiere a la capacidad de importar y utilizar módulos que nosotros mismos hemos escritos, además de\n",
    "\n",
    "import Functions\n",
    "\n",
    "Functions"
   ]
  },
  {
   "cell_type": "code",
   "execution_count": 19,
   "id": "40a4cd83",
   "metadata": {},
   "outputs": [
    {
     "data": {
      "text/plain": [
       "25"
      ]
     },
     "execution_count": 19,
     "metadata": {},
     "output_type": "execute_result"
    }
   ],
   "source": [
    "Functions.sumar(6, 4, 8, 7)"
   ]
  },
  {
   "cell_type": "markdown",
   "id": "a1b9bc09",
   "metadata": {},
   "source": [
    "También se pueden importar funciones"
   ]
  },
  {
   "cell_type": "code",
   "execution_count": 22,
   "id": "c220f546",
   "metadata": {},
   "outputs": [
    {
     "ename": "ImportError",
     "evalue": "cannot import name 'dividir' from 'Functions' (n:\\Python\\Programación funcional\\Functions.py)",
     "output_type": "error",
     "traceback": [
      "\u001b[1;31m---------------------------------------------------------------------------\u001b[0m",
      "\u001b[1;31mImportError\u001b[0m                               Traceback (most recent call last)",
      "Cell \u001b[1;32mIn[22], line 1\u001b[0m\n\u001b[1;32m----> 1\u001b[0m \u001b[38;5;28;01mfrom\u001b[39;00m \u001b[38;5;21;01mFunctions\u001b[39;00m \u001b[38;5;28;01mimport\u001b[39;00m dividir\n\u001b[0;32m      3\u001b[0m resultado \u001b[38;5;241m=\u001b[39m dividir(\u001b[38;5;241m10\u001b[39m, \u001b[38;5;241m2\u001b[39m)\n\u001b[0;32m      4\u001b[0m \u001b[38;5;28mprint\u001b[39m(\u001b[38;5;124mf\u001b[39m\u001b[38;5;124m\"\u001b[39m\u001b[38;5;124mResultado de la división: \u001b[39m\u001b[38;5;132;01m{\u001b[39;00mresultado\u001b[38;5;132;01m}\u001b[39;00m\u001b[38;5;124m\"\u001b[39m)\n",
      "\u001b[1;31mImportError\u001b[0m: cannot import name 'dividir' from 'Functions' (n:\\Python\\Programación funcional\\Functions.py)"
     ]
    }
   ],
   "source": [
    "from Functions import dividir\n",
    "\n",
    "resultado = dividir(10, 2)\n",
    "print(f\"Resultado de la división: {resultado}\")\n"
   ]
  },
  {
   "cell_type": "markdown",
   "id": "15fda26e",
   "metadata": {},
   "source": [
    "Alias"
   ]
  },
  {
   "cell_type": "code",
   "execution_count": 23,
   "id": "21715888",
   "metadata": {},
   "outputs": [
    {
     "data": {
      "text/plain": [
       "25"
      ]
     },
     "execution_count": 23,
     "metadata": {},
     "output_type": "execute_result"
    }
   ],
   "source": [
    "import Functions as f\n",
    "\n",
    "f.sumar(6, 4, 8, 7)"
   ]
  },
  {
   "cell_type": "markdown",
   "id": "c0b37c4d",
   "metadata": {},
   "source": [
    "Si el archivo estuviera en una carpeta habría que usar la siguiente sintaxis:\n",
    "\n",
    "`from folder.file import *`"
   ]
  },
  {
   "cell_type": "markdown",
   "id": "88e858e2",
   "metadata": {},
   "source": [
    "Se puede importar un jupyter notebook en otro, para ello hay que instalar la herramienta import_ipynb mediante la siguiente sintaxis:\n",
    "\n",
    "`pip install import_ipynb`"
   ]
  },
  {
   "cell_type": "code",
   "execution_count": 30,
   "id": "66ef9795",
   "metadata": {},
   "outputs": [
    {
     "ename": "NotJSONError",
     "evalue": "Notebook does not appear to be JSON: ''",
     "output_type": "error",
     "traceback": [
      "\u001b[1;31m---------------------------------------------------------------------------\u001b[0m",
      "\u001b[1;31mJSONDecodeError\u001b[0m                           Traceback (most recent call last)",
      "File \u001b[1;32m~\\AppData\\Local\\Packages\\PythonSoftwareFoundation.Python.3.11_qbz5n2kfra8p0\\LocalCache\\local-packages\\Python311\\site-packages\\nbformat\\reader.py:19\u001b[0m, in \u001b[0;36mparse_json\u001b[1;34m(s, **kwargs)\u001b[0m\n\u001b[0;32m     18\u001b[0m \u001b[38;5;28;01mtry\u001b[39;00m:\n\u001b[1;32m---> 19\u001b[0m     nb_dict \u001b[38;5;241m=\u001b[39m \u001b[43mjson\u001b[49m\u001b[38;5;241;43m.\u001b[39;49m\u001b[43mloads\u001b[49m\u001b[43m(\u001b[49m\u001b[43ms\u001b[49m\u001b[43m,\u001b[49m\u001b[43m \u001b[49m\u001b[38;5;241;43m*\u001b[39;49m\u001b[38;5;241;43m*\u001b[39;49m\u001b[43mkwargs\u001b[49m\u001b[43m)\u001b[49m\n\u001b[0;32m     20\u001b[0m \u001b[38;5;28;01mexcept\u001b[39;00m \u001b[38;5;167;01mValueError\u001b[39;00m \u001b[38;5;28;01mas\u001b[39;00m e:\n",
      "File \u001b[1;32mC:\\Program Files\\WindowsApps\\PythonSoftwareFoundation.Python.3.11_3.11.2544.0_x64__qbz5n2kfra8p0\\Lib\\json\\__init__.py:346\u001b[0m, in \u001b[0;36mloads\u001b[1;34m(s, cls, object_hook, parse_float, parse_int, parse_constant, object_pairs_hook, **kw)\u001b[0m\n\u001b[0;32m    343\u001b[0m \u001b[38;5;28;01mif\u001b[39;00m (\u001b[38;5;28mcls\u001b[39m \u001b[38;5;129;01mis\u001b[39;00m \u001b[38;5;28;01mNone\u001b[39;00m \u001b[38;5;129;01mand\u001b[39;00m object_hook \u001b[38;5;129;01mis\u001b[39;00m \u001b[38;5;28;01mNone\u001b[39;00m \u001b[38;5;129;01mand\u001b[39;00m\n\u001b[0;32m    344\u001b[0m         parse_int \u001b[38;5;129;01mis\u001b[39;00m \u001b[38;5;28;01mNone\u001b[39;00m \u001b[38;5;129;01mand\u001b[39;00m parse_float \u001b[38;5;129;01mis\u001b[39;00m \u001b[38;5;28;01mNone\u001b[39;00m \u001b[38;5;129;01mand\u001b[39;00m\n\u001b[0;32m    345\u001b[0m         parse_constant \u001b[38;5;129;01mis\u001b[39;00m \u001b[38;5;28;01mNone\u001b[39;00m \u001b[38;5;129;01mand\u001b[39;00m object_pairs_hook \u001b[38;5;129;01mis\u001b[39;00m \u001b[38;5;28;01mNone\u001b[39;00m \u001b[38;5;129;01mand\u001b[39;00m \u001b[38;5;129;01mnot\u001b[39;00m kw):\n\u001b[1;32m--> 346\u001b[0m     \u001b[38;5;28;01mreturn\u001b[39;00m \u001b[43m_default_decoder\u001b[49m\u001b[38;5;241;43m.\u001b[39;49m\u001b[43mdecode\u001b[49m\u001b[43m(\u001b[49m\u001b[43ms\u001b[49m\u001b[43m)\u001b[49m\n\u001b[0;32m    347\u001b[0m \u001b[38;5;28;01mif\u001b[39;00m \u001b[38;5;28mcls\u001b[39m \u001b[38;5;129;01mis\u001b[39;00m \u001b[38;5;28;01mNone\u001b[39;00m:\n",
      "File \u001b[1;32mC:\\Program Files\\WindowsApps\\PythonSoftwareFoundation.Python.3.11_3.11.2544.0_x64__qbz5n2kfra8p0\\Lib\\json\\decoder.py:337\u001b[0m, in \u001b[0;36mJSONDecoder.decode\u001b[1;34m(self, s, _w)\u001b[0m\n\u001b[0;32m    333\u001b[0m \u001b[38;5;250m\u001b[39m\u001b[38;5;124;03m\"\"\"Return the Python representation of ``s`` (a ``str`` instance\u001b[39;00m\n\u001b[0;32m    334\u001b[0m \u001b[38;5;124;03mcontaining a JSON document).\u001b[39;00m\n\u001b[0;32m    335\u001b[0m \n\u001b[0;32m    336\u001b[0m \u001b[38;5;124;03m\"\"\"\u001b[39;00m\n\u001b[1;32m--> 337\u001b[0m obj, end \u001b[38;5;241m=\u001b[39m \u001b[38;5;28;43mself\u001b[39;49m\u001b[38;5;241;43m.\u001b[39;49m\u001b[43mraw_decode\u001b[49m\u001b[43m(\u001b[49m\u001b[43ms\u001b[49m\u001b[43m,\u001b[49m\u001b[43m \u001b[49m\u001b[43midx\u001b[49m\u001b[38;5;241;43m=\u001b[39;49m\u001b[43m_w\u001b[49m\u001b[43m(\u001b[49m\u001b[43ms\u001b[49m\u001b[43m,\u001b[49m\u001b[43m \u001b[49m\u001b[38;5;241;43m0\u001b[39;49m\u001b[43m)\u001b[49m\u001b[38;5;241;43m.\u001b[39;49m\u001b[43mend\u001b[49m\u001b[43m(\u001b[49m\u001b[43m)\u001b[49m\u001b[43m)\u001b[49m\n\u001b[0;32m    338\u001b[0m end \u001b[38;5;241m=\u001b[39m _w(s, end)\u001b[38;5;241m.\u001b[39mend()\n",
      "File \u001b[1;32mC:\\Program Files\\WindowsApps\\PythonSoftwareFoundation.Python.3.11_3.11.2544.0_x64__qbz5n2kfra8p0\\Lib\\json\\decoder.py:355\u001b[0m, in \u001b[0;36mJSONDecoder.raw_decode\u001b[1;34m(self, s, idx)\u001b[0m\n\u001b[0;32m    354\u001b[0m \u001b[38;5;28;01mexcept\u001b[39;00m \u001b[38;5;167;01mStopIteration\u001b[39;00m \u001b[38;5;28;01mas\u001b[39;00m err:\n\u001b[1;32m--> 355\u001b[0m     \u001b[38;5;28;01mraise\u001b[39;00m JSONDecodeError(\u001b[38;5;124m\"\u001b[39m\u001b[38;5;124mExpecting value\u001b[39m\u001b[38;5;124m\"\u001b[39m, s, err\u001b[38;5;241m.\u001b[39mvalue) \u001b[38;5;28;01mfrom\u001b[39;00m \u001b[38;5;28;01mNone\u001b[39;00m\n\u001b[0;32m    356\u001b[0m \u001b[38;5;28;01mreturn\u001b[39;00m obj, end\n",
      "\u001b[1;31mJSONDecodeError\u001b[0m: Expecting value: line 1 column 1 (char 0)",
      "\nThe above exception was the direct cause of the following exception:\n",
      "\u001b[1;31mNotJSONError\u001b[0m                              Traceback (most recent call last)",
      "Cell \u001b[1;32mIn[30], line 5\u001b[0m\n\u001b[0;32m      1\u001b[0m \u001b[38;5;28;01mimport\u001b[39;00m \u001b[38;5;21;01mimport_ipynb\u001b[39;00m\n\u001b[0;32m      3\u001b[0m \u001b[38;5;66;03m# Importo otro jupyter notebook\u001b[39;00m\n\u001b[1;32m----> 5\u001b[0m \u001b[38;5;28;01mfrom\u001b[39;00m \u001b[38;5;21;01mOtrasFunciones\u001b[39;00m \u001b[38;5;28;01mimport\u001b[39;00m \u001b[38;5;241m*\u001b[39m\n\u001b[0;32m      7\u001b[0m \u001b[38;5;66;03m# Se pueden importar funciones de otros archivos de Python o Jupyter Notebook para reutilizar código y mantener la modularidad.\u001b[39;00m\n\u001b[0;32m      8\u001b[0m \u001b[38;5;66;03m# Esto permite organizar el código en diferentes archivos y reutilizar funciones sin necesidad de reescribir\u001b[39;00m\n\u001b[0;32m     10\u001b[0m OtasFuncionesSumar(\u001b[38;5;241m6\u001b[39m, \u001b[38;5;241m4\u001b[39m, \u001b[38;5;241m8\u001b[39m, \u001b[38;5;241m7\u001b[39m)\n",
      "File \u001b[1;32m<frozen importlib._bootstrap>:1176\u001b[0m, in \u001b[0;36m_find_and_load\u001b[1;34m(name, import_)\u001b[0m\n",
      "File \u001b[1;32m<frozen importlib._bootstrap>:1147\u001b[0m, in \u001b[0;36m_find_and_load_unlocked\u001b[1;34m(name, import_)\u001b[0m\n",
      "File \u001b[1;32m<frozen importlib._bootstrap>:690\u001b[0m, in \u001b[0;36m_load_unlocked\u001b[1;34m(spec)\u001b[0m\n",
      "File \u001b[1;32m~\\AppData\\Local\\Packages\\PythonSoftwareFoundation.Python.3.11_qbz5n2kfra8p0\\LocalCache\\local-packages\\Python311\\site-packages\\import_ipynb.py:49\u001b[0m, in \u001b[0;36mNotebookLoader.exec_module\u001b[1;34m(self, mod)\u001b[0m\n\u001b[0;32m     46\u001b[0m \u001b[38;5;28;01mdef\u001b[39;00m \u001b[38;5;21mexec_module\u001b[39m(\u001b[38;5;28mself\u001b[39m, mod):\n\u001b[0;32m     47\u001b[0m     \u001b[38;5;66;03m# load the notebook object\u001b[39;00m\n\u001b[0;32m     48\u001b[0m     \u001b[38;5;28;01mwith\u001b[39;00m io\u001b[38;5;241m.\u001b[39mopen(mod\u001b[38;5;241m.\u001b[39morigin, \u001b[38;5;124m\"\u001b[39m\u001b[38;5;124mr\u001b[39m\u001b[38;5;124m\"\u001b[39m, encoding\u001b[38;5;241m=\u001b[39m\u001b[38;5;124m\"\u001b[39m\u001b[38;5;124mutf-8\u001b[39m\u001b[38;5;124m\"\u001b[39m) \u001b[38;5;28;01mas\u001b[39;00m f:\n\u001b[1;32m---> 49\u001b[0m         nb \u001b[38;5;241m=\u001b[39m \u001b[43mread\u001b[49m\u001b[43m(\u001b[49m\u001b[43mf\u001b[49m\u001b[43m,\u001b[49m\u001b[43m \u001b[49m\u001b[38;5;241;43m4\u001b[39;49m\u001b[43m)\u001b[49m\n\u001b[0;32m     51\u001b[0m     \u001b[38;5;66;03m# extra work to ensure that magics that would affect the user_ns\u001b[39;00m\n\u001b[0;32m     52\u001b[0m     \u001b[38;5;66;03m# actually affect the notebook module's ns\u001b[39;00m\n\u001b[0;32m     53\u001b[0m     save_user_ns \u001b[38;5;241m=\u001b[39m \u001b[38;5;28mself\u001b[39m\u001b[38;5;241m.\u001b[39mshell\u001b[38;5;241m.\u001b[39muser_ns\n",
      "File \u001b[1;32m~\\AppData\\Local\\Packages\\PythonSoftwareFoundation.Python.3.11_qbz5n2kfra8p0\\LocalCache\\local-packages\\Python311\\site-packages\\nbformat\\__init__.py:174\u001b[0m, in \u001b[0;36mread\u001b[1;34m(fp, as_version, capture_validation_error, **kwargs)\u001b[0m\n\u001b[0;32m    171\u001b[0m     \u001b[38;5;28;01mwith\u001b[39;00m \u001b[38;5;28mopen\u001b[39m(fp, encoding\u001b[38;5;241m=\u001b[39m\u001b[38;5;124m\"\u001b[39m\u001b[38;5;124mutf8\u001b[39m\u001b[38;5;124m\"\u001b[39m) \u001b[38;5;28;01mas\u001b[39;00m f:  \u001b[38;5;66;03m# noqa: PTH123\u001b[39;00m\n\u001b[0;32m    172\u001b[0m         \u001b[38;5;28;01mreturn\u001b[39;00m reads(f\u001b[38;5;241m.\u001b[39mread(), as_version, capture_validation_error, \u001b[38;5;241m*\u001b[39m\u001b[38;5;241m*\u001b[39mkwargs)\n\u001b[1;32m--> 174\u001b[0m \u001b[38;5;28;01mreturn\u001b[39;00m \u001b[43mreads\u001b[49m\u001b[43m(\u001b[49m\u001b[43mbuf\u001b[49m\u001b[43m,\u001b[49m\u001b[43m \u001b[49m\u001b[43mas_version\u001b[49m\u001b[43m,\u001b[49m\u001b[43m \u001b[49m\u001b[43mcapture_validation_error\u001b[49m\u001b[43m,\u001b[49m\u001b[43m \u001b[49m\u001b[38;5;241;43m*\u001b[39;49m\u001b[38;5;241;43m*\u001b[39;49m\u001b[43mkwargs\u001b[49m\u001b[43m)\u001b[49m\n",
      "File \u001b[1;32m~\\AppData\\Local\\Packages\\PythonSoftwareFoundation.Python.3.11_qbz5n2kfra8p0\\LocalCache\\local-packages\\Python311\\site-packages\\nbformat\\__init__.py:92\u001b[0m, in \u001b[0;36mreads\u001b[1;34m(s, as_version, capture_validation_error, **kwargs)\u001b[0m\n\u001b[0;32m     66\u001b[0m \u001b[38;5;28;01mdef\u001b[39;00m \u001b[38;5;21mreads\u001b[39m(s, as_version, capture_validation_error\u001b[38;5;241m=\u001b[39m\u001b[38;5;28;01mNone\u001b[39;00m, \u001b[38;5;241m*\u001b[39m\u001b[38;5;241m*\u001b[39mkwargs):\n\u001b[0;32m     67\u001b[0m \u001b[38;5;250m    \u001b[39m\u001b[38;5;124;03m\"\"\"Read a notebook from a string and return the NotebookNode object as the given version.\u001b[39;00m\n\u001b[0;32m     68\u001b[0m \n\u001b[0;32m     69\u001b[0m \u001b[38;5;124;03m    The string can contain a notebook of any version.\u001b[39;00m\n\u001b[1;32m   (...)\u001b[0m\n\u001b[0;32m     90\u001b[0m \u001b[38;5;124;03m        The notebook that was read.\u001b[39;00m\n\u001b[0;32m     91\u001b[0m \u001b[38;5;124;03m    \"\"\"\u001b[39;00m\n\u001b[1;32m---> 92\u001b[0m     nb \u001b[38;5;241m=\u001b[39m \u001b[43mreader\u001b[49m\u001b[38;5;241;43m.\u001b[39;49m\u001b[43mreads\u001b[49m\u001b[43m(\u001b[49m\u001b[43ms\u001b[49m\u001b[43m,\u001b[49m\u001b[43m \u001b[49m\u001b[38;5;241;43m*\u001b[39;49m\u001b[38;5;241;43m*\u001b[39;49m\u001b[43mkwargs\u001b[49m\u001b[43m)\u001b[49m\n\u001b[0;32m     93\u001b[0m     \u001b[38;5;28;01mif\u001b[39;00m as_version \u001b[38;5;129;01mis\u001b[39;00m \u001b[38;5;129;01mnot\u001b[39;00m NO_CONVERT:\n\u001b[0;32m     94\u001b[0m         nb \u001b[38;5;241m=\u001b[39m convert(nb, as_version)\n",
      "File \u001b[1;32m~\\AppData\\Local\\Packages\\PythonSoftwareFoundation.Python.3.11_qbz5n2kfra8p0\\LocalCache\\local-packages\\Python311\\site-packages\\nbformat\\reader.py:75\u001b[0m, in \u001b[0;36mreads\u001b[1;34m(s, **kwargs)\u001b[0m\n\u001b[0;32m     50\u001b[0m \u001b[38;5;250m\u001b[39m\u001b[38;5;124;03m\"\"\"Read a notebook from a json string and return the\u001b[39;00m\n\u001b[0;32m     51\u001b[0m \u001b[38;5;124;03mNotebookNode object.\u001b[39;00m\n\u001b[0;32m     52\u001b[0m \n\u001b[1;32m   (...)\u001b[0m\n\u001b[0;32m     71\u001b[0m \u001b[38;5;124;03m    Specified major version is invalid or unsupported.\u001b[39;00m\n\u001b[0;32m     72\u001b[0m \u001b[38;5;124;03m\"\"\"\u001b[39;00m\n\u001b[0;32m     73\u001b[0m \u001b[38;5;28;01mfrom\u001b[39;00m \u001b[38;5;21;01m.\u001b[39;00m \u001b[38;5;28;01mimport\u001b[39;00m NBFormatError, versions\n\u001b[1;32m---> 75\u001b[0m nb_dict \u001b[38;5;241m=\u001b[39m \u001b[43mparse_json\u001b[49m\u001b[43m(\u001b[49m\u001b[43ms\u001b[49m\u001b[43m,\u001b[49m\u001b[43m \u001b[49m\u001b[38;5;241;43m*\u001b[39;49m\u001b[38;5;241;43m*\u001b[39;49m\u001b[43mkwargs\u001b[49m\u001b[43m)\u001b[49m\n\u001b[0;32m     76\u001b[0m (major, minor) \u001b[38;5;241m=\u001b[39m get_version(nb_dict)\n\u001b[0;32m     77\u001b[0m \u001b[38;5;28;01mif\u001b[39;00m major \u001b[38;5;129;01min\u001b[39;00m versions:\n",
      "File \u001b[1;32m~\\AppData\\Local\\Packages\\PythonSoftwareFoundation.Python.3.11_qbz5n2kfra8p0\\LocalCache\\local-packages\\Python311\\site-packages\\nbformat\\reader.py:25\u001b[0m, in \u001b[0;36mparse_json\u001b[1;34m(s, **kwargs)\u001b[0m\n\u001b[0;32m     23\u001b[0m     \u001b[38;5;28;01mif\u001b[39;00m \u001b[38;5;28mlen\u001b[39m(message) \u001b[38;5;241m>\u001b[39m \u001b[38;5;241m80\u001b[39m:\n\u001b[0;32m     24\u001b[0m         message \u001b[38;5;241m=\u001b[39m message[:\u001b[38;5;241m77\u001b[39m] \u001b[38;5;241m+\u001b[39m \u001b[38;5;124m\"\u001b[39m\u001b[38;5;124m...\u001b[39m\u001b[38;5;124m\"\u001b[39m\n\u001b[1;32m---> 25\u001b[0m     \u001b[38;5;28;01mraise\u001b[39;00m NotJSONError(message) \u001b[38;5;28;01mfrom\u001b[39;00m \u001b[38;5;21;01me\u001b[39;00m\n\u001b[0;32m     26\u001b[0m \u001b[38;5;28;01mreturn\u001b[39;00m nb_dict\n",
      "\u001b[1;31mNotJSONError\u001b[0m: Notebook does not appear to be JSON: ''"
     ]
    }
   ],
   "source": [
    "import import_ipynb\n",
    "\n",
    "# Importo otro jupyter notebook\n",
    "\n",
    "from OtrasFunciones import *\n",
    "\n",
    "# Se pueden importar funciones de otros archivos de Python o Jupyter Notebook para reutilizar código y mantener la modularidad.\n",
    "# Esto permite organizar el código en diferentes archivos y reutilizar funciones sin necesidad de reescribir\n",
    "\n",
    "OtasFuncionesSumar(6, 4, 8, 7)\n"
   ]
  }
 ],
 "metadata": {
  "kernelspec": {
   "display_name": "Python 3",
   "language": "python",
   "name": "python3"
  },
  "language_info": {
   "codemirror_mode": {
    "name": "ipython",
    "version": 3
   },
   "file_extension": ".py",
   "mimetype": "text/x-python",
   "name": "python",
   "nbconvert_exporter": "python",
   "pygments_lexer": "ipython3",
   "version": "3.11.9"
  }
 },
 "nbformat": 4,
 "nbformat_minor": 5
}
