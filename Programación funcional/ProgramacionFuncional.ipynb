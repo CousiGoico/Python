{
 "cells": [
  {
   "cell_type": "markdown",
   "id": "470508ce",
   "metadata": {},
   "source": [
    "# Programación funcional\n",
    "\n",
    "Se hace la distinción entre datos y comportamiento, esto quiere decir que los programas tienen dos partes separadas, las acciones y los datos, funciones que se ejecutan con o sobre los datos. Esto hace que los datos sean inmutables en la programaicón funciónal, a no ser que sean sobreescritos a propósito. \n",
    "\n",
    "**Beneficios de la Programación funcional**\n",
    "\n",
    "- **Predecibilidad:** las funciones puras son predecibles porque siempre producen la misma salida para la misma salida.\n",
    "- **Facilidad de depuración y pruebas:** la inmutabilidad y la fatla de efectos secundarios hacen\n",
    "- **Paralelismo:** la inmutabilidad facilita la ejecución en paralelo, ya que no hay riesgos de condiciones de carrera.\n",
    "- **Abstracción:** una función podría funcionar como una caja negra, donde nosotros no comprendemos sufuncionamiento intenro, pero somos capaces de usarla y trabajar con su resultado.\n",
    "- **Modularización:** las funciones tienen un objetivo específico, realizan una acción, para luego poder construir un proceso completo con varias funciones, varios pasos dentro del mismo.\n",
    "- **Reusabilidad:** las funciones pueden ser utilizadas cuantas veces sea necesario, son módulos inependientes."
   ]
  },
  {
   "cell_type": "markdown",
   "id": "8abbbf30",
   "metadata": {},
   "source": [
    "## Recursividad\n",
    "\n",
    "Es una técnica en programación donde una función se llama a si misma pra resolver un problema. Es una forma de resolver problemas uqe pueden ser divididos en subrproblemas más pequeños del mismo tipo. En Python, como en muchos otros lenguajes de programación, la recursividad se usa comúnmente para trabajar con estructuras de datos como listas, árboles y grafos, así como para resolver problemas algorítmicos.\n",
    "\n",
    "**Conceptos clave de la recursividad:**\n",
    "\n",
    "1. **Caso base:** es la condición en la que la recursión termina. Si un caso base, la función recursiva se llamaría a sí misma indefinidamente, provocando un desbordamiento de memoria (stack overflow).\n",
    "\n",
    "2. **Caso recursivo:** es la parte de la función que se llama a sí misma con una versión simplificada o reducida del programa original."
   ]
  },
  {
   "cell_type": "markdown",
   "id": "ccec9c7c",
   "metadata": {},
   "source": [
    "**Ejemplo: Factorial de un número**\n",
    "\n",
    "El factorial de un número `n`, denominado como `n!`, es el producto de todos los números enteros positivos menores o iguales a `n`.\n",
    "\n",
    "`n! = nX (n-1)!`\n",
    "\n",
    "Donde el caso base es 0! = 1"
   ]
  },
  {
   "cell_type": "code",
   "execution_count": 8,
   "id": "409a0402",
   "metadata": {},
   "outputs": [
    {
     "data": {
      "text/plain": [
       "6"
      ]
     },
     "execution_count": 8,
     "metadata": {},
     "output_type": "execute_result"
    }
   ],
   "source": [
    "def factorial(n):\n",
    "    if n < 0:\n",
    "        raise ValueError(\"Factorial is not defined for negative numbers\")\n",
    "    if n == 0:\n",
    "        return 1\n",
    "    else: \n",
    "        # print(n)\n",
    "        # print(n-1)\n",
    "        # print(\"Resultado: \", n * (n - 1))\n",
    "        return n * factorial(n - 1)\n",
    "\n",
    "factorial(3)"
   ]
  },
  {
   "cell_type": "markdown",
   "id": "7278c85a",
   "metadata": {},
   "source": [
    "**Ejemplo: Fibonacci**\n",
    "\n",
    "La secuencia de Fibonacci es una serie de números en la que cada número es la suma de los daots anteriores. Comienza con 0 y 1.\n",
    "\n",
    "`F(n) = F(n-1)+F(n-2)`\n",
    "\n",
    "Donde los casos base son F(0) = 0 y F(1) = 1."
   ]
  },
  {
   "cell_type": "code",
   "execution_count": 13,
   "id": "e86977ec",
   "metadata": {},
   "outputs": [
    {
     "name": "stdout",
     "output_type": "stream",
     "text": [
      "0\n",
      "1\n",
      "1\n",
      "2\n",
      "3\n",
      "5\n"
     ]
    }
   ],
   "source": [
    "def fibonacci(n):\n",
    "    if n < 0:\n",
    "        raise ValueError(\"Fibonacci is not defined for negative numbers\")\n",
    "    elif n == 0:\n",
    "        return 0\n",
    "    elif n == 1:\n",
    "        return 1\n",
    "    else:\n",
    "        return fibonacci(n - 1) + fibonacci(n - 2)\n",
    "    \n",
    "print(fibonacci(0))\n",
    "print(fibonacci(1))\n",
    "print(fibonacci(2))\n",
    "print(fibonacci(3))\n",
    "print(fibonacci(4))\n",
    "print(fibonacci(5))"
   ]
  },
  {
   "cell_type": "markdown",
   "id": "ee2ab19c",
   "metadata": {},
   "source": [
    "## Decoradores\n",
    "\n",
    "son una característica poderosa y flexible que permite modificar el comportamiento de las funciones. Son funciones que toman otra función como argumento y evuelven una nueva función que generalmente extiende el comportamiento de la original sin modificar su estructura. Se usan comúnmente para la valdiación, el registro, la sincronización y la gestión de acceso entre otras cosas.\n",
    "\n",
    "**Conceptos clave de los decoradores**\n",
    "\n",
    "- **Funciones de orden superior:** es aquella que acepta una función como argumento o devuelve una función como resultado.\n",
    "- **Funciones anidadas:** es una función definida dentro de otra. Pueden acceder a las variables locales de la función contenedora.\n",
    "- **Clausuras (closures):** es una función que recuerda el entorno en el cual fue creada. Puede acceder a las variables de dicho entorno incluso después de que la función conteneora haya terminado su ejecución."
   ]
  },
  {
   "cell_type": "code",
   "execution_count": null,
   "id": "cc155d6a",
   "metadata": {},
   "outputs": [],
   "source": [
    "# Decorador de ejemplo\n",
    "\n",
    "def decorador(func):\n",
    "    def envoltura(*args, **kwargs):\n",
    "        print(\"Antes de llamar a la función\")\n",
    "        resultado = func(*args, **kwargs)\n",
    "        print(\"Después de llamar a la función\")\n",
    "        return resultado\n",
    "    return envoltura"
   ]
  },
  {
   "cell_type": "code",
   "execution_count": 3,
   "id": "15885dfd",
   "metadata": {},
   "outputs": [],
   "source": [
    "# Aplicando el decorador a una función\n",
    "@decorador \n",
    "\n",
    "def saludar(nombre):\n",
    "    print(f\"Hola, {nombre}!\")"
   ]
  },
  {
   "cell_type": "code",
   "execution_count": 4,
   "id": "3ef9bd88",
   "metadata": {},
   "outputs": [
    {
     "name": "stdout",
     "output_type": "stream",
     "text": [
      "Antes de llamar a la función\n",
      "Hola, Mundo!\n",
      "Después de llamar a la función\n"
     ]
    }
   ],
   "source": [
    "# Llamando a la función decorada\n",
    "saludar(\"Mundo\")"
   ]
  },
  {
   "cell_type": "markdown",
   "id": "a83d334f",
   "metadata": {},
   "source": [
    "Otro ejemplo"
   ]
  },
  {
   "cell_type": "code",
   "execution_count": 5,
   "id": "7537d406",
   "metadata": {},
   "outputs": [],
   "source": [
    "# Decorador debug\n",
    "\n",
    "def debug(func):\n",
    "    def wrap(*args, **kwargs):\n",
    "        print(f\"Args: {args}\")\n",
    "        print(f\"kwargs: {kwargs}\")\n",
    "        print(f\"Return: {func(*args, **kwargs)}\")\n",
    "        return func(*args, **kwargs)\n",
    "    return wrap"
   ]
  },
  {
   "cell_type": "code",
   "execution_count": 8,
   "id": "6dbf8549",
   "metadata": {},
   "outputs": [],
   "source": [
    "# Aplicando el decorador a una función\n",
    "@debug\n",
    "def sumar(a, b, c, d):\n",
    "    return a + b + c + d"
   ]
  },
  {
   "cell_type": "code",
   "execution_count": 9,
   "id": "b8618b3d",
   "metadata": {},
   "outputs": [
    {
     "name": "stdout",
     "output_type": "stream",
     "text": [
      "Args: (1, 2, 3, 4)\n",
      "kwargs: {}\n",
      "Return: 10\n",
      "Resultado de la suma: 10\n"
     ]
    }
   ],
   "source": [
    "# llamada a la función decorada\n",
    "resultado = sumar(1, 2, 3, 4)\n",
    "print(f\"Resultado de la suma: {resultado}\")"
   ]
  },
  {
   "cell_type": "markdown",
   "id": "231a9107",
   "metadata": {},
   "source": [
    "Otro ejemplo"
   ]
  },
  {
   "cell_type": "code",
   "execution_count": 10,
   "id": "01ed7a5a",
   "metadata": {},
   "outputs": [],
   "source": [
    "# Decorador repetidor\n",
    "# Este decorador repetirá la ejecución de la función n veces\n",
    "\n",
    "def repetidor(n):\n",
    "    def decorador(func):\n",
    "        def envoltura(*args, **kwargs):\n",
    "            for _ in range(n):\n",
    "                func(*args, **kwargs)\n",
    "        return envoltura\n",
    "    return decorador"
   ]
  },
  {
   "cell_type": "code",
   "execution_count": 15,
   "id": "3c82d11f",
   "metadata": {},
   "outputs": [],
   "source": [
    "# Aplicando el decorador a una función\n",
    "\n",
    "@repetidor(7)\n",
    "def saludar(nombre):\n",
    "    print(f\"Hola, {nombre}!\")"
   ]
  },
  {
   "cell_type": "code",
   "execution_count": 16,
   "id": "2821707d",
   "metadata": {},
   "outputs": [
    {
     "name": "stdout",
     "output_type": "stream",
     "text": [
      "Hola, Cesar!\n",
      "Hola, Cesar!\n",
      "Hola, Cesar!\n",
      "Hola, Cesar!\n",
      "Hola, Cesar!\n",
      "Hola, Cesar!\n",
      "Hola, Cesar!\n"
     ]
    }
   ],
   "source": [
    "# Ejecución de la función decorada\n",
    "\n",
    "resultado = saludar('Cesar')"
   ]
  }
 ],
 "metadata": {
  "kernelspec": {
   "display_name": "Python 3",
   "language": "python",
   "name": "python3"
  },
  "language_info": {
   "codemirror_mode": {
    "name": "ipython",
    "version": 3
   },
   "file_extension": ".py",
   "mimetype": "text/x-python",
   "name": "python",
   "nbconvert_exporter": "python",
   "pygments_lexer": "ipython3",
   "version": "3.11.9"
  }
 },
 "nbformat": 4,
 "nbformat_minor": 5
}
