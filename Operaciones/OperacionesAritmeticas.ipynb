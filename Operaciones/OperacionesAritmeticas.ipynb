{
 "cells": [
  {
   "cell_type": "markdown",
   "id": "c5244309",
   "metadata": {},
   "source": [
    "# Operaciones aritméticas"
   ]
  },
  {
   "cell_type": "markdown",
   "id": "e18bdf8a",
   "metadata": {},
   "source": [
    "Las operaciones aritméticas más usadas son la suma, la resta, la multiplicación, la división, el exponente y el redondeo."
   ]
  },
  {
   "cell_type": "code",
   "execution_count": 1,
   "id": "6d0d3186",
   "metadata": {},
   "outputs": [
    {
     "name": "stdout",
     "output_type": "stream",
     "text": [
      "La suma de 15 y 36.5 es: 51.5\n"
     ]
    }
   ],
   "source": [
    "num1 = 15\n",
    "\n",
    "num2 = 36.5\n",
    "\n",
    "resultadoSuma = num1 + num2\n",
    "\n",
    "print(\"La suma de\", num1, \"y\", num2, \"es:\", resultadoSuma)"
   ]
  },
  {
   "cell_type": "code",
   "execution_count": null,
   "id": "3953cc91",
   "metadata": {},
   "outputs": [
    {
     "name": "stdout",
     "output_type": "stream",
     "text": [
      "La resta de 15 y 36.5 es: -21.5\n"
     ]
    }
   ],
   "source": [
    "resultadoResta = num1 - num2\n",
    "\n",
    "print(\"La resta de\", num1, \"y\", num2, \"es:\", resultadoResta)"
   ]
  },
  {
   "cell_type": "code",
   "execution_count": 3,
   "id": "c0cae0ed",
   "metadata": {},
   "outputs": [
    {
     "name": "stdout",
     "output_type": "stream",
     "text": [
      "La multiplicación de 15 y 36.5 es: 547.5\n"
     ]
    }
   ],
   "source": [
    "resultadoMultiplicacion = num1 * num2\n",
    "\n",
    "print(\"La multiplicación de\", num1, \"y\", num2, \"es:\", resultadoMultiplicacion)"
   ]
  },
  {
   "cell_type": "code",
   "execution_count": null,
   "id": "cc108e78",
   "metadata": {},
   "outputs": [
    {
     "name": "stdout",
     "output_type": "stream",
     "text": [
      "La división de 15 y 36.5 es: 0.410958904109589\n"
     ]
    }
   ],
   "source": [
    "resultadoDivision = num1 / num2\n",
    "\n",
    "print(\"La división de\", num1, \"y\", num2, \"es:\", resultadoDivision)"
   ]
  },
  {
   "cell_type": "code",
   "execution_count": 10,
   "id": "766cb5c6",
   "metadata": {},
   "outputs": [
    {
     "name": "stdout",
     "output_type": "stream",
     "text": [
      "La división entera de 100 y 36.5 es: 2.0\n"
     ]
    }
   ],
   "source": [
    "num3 = 100\n",
    "\n",
    "resultadoDivisonEntera = num3 // num2\n",
    "\n",
    "print(\"La división entera de\", num3, \"y\", num2, \"es:\", resultadoDivisonEntera)"
   ]
  },
  {
   "cell_type": "code",
   "execution_count": 8,
   "id": "06e77604",
   "metadata": {},
   "outputs": [
    {
     "name": "stdout",
     "output_type": "stream",
     "text": [
      "El valor del número 15 con el exponente 3 es: 3375\n"
     ]
    }
   ],
   "source": [
    "exponente = 3\n",
    "resultadoExponente = num1 ** exponente # Cubo de num1\n",
    "\n",
    "print(\"El valor del número\", num1, \"con el exponente\", exponente, \"es:\", resultadoExponente)"
   ]
  },
  {
   "cell_type": "code",
   "execution_count": 12,
   "id": "1152992d",
   "metadata": {},
   "outputs": [
    {
     "name": "stdout",
     "output_type": "stream",
     "text": [
      "El número 1.145285 redondeado a 3 decimales es: 1.145\n"
     ]
    }
   ],
   "source": [
    "num4 = 1.145285\n",
    "decimales = 3\n",
    "resultadoRedondeo = round(num4, decimales) # Redondeo a tres decimal\n",
    "\n",
    "print(\"El número\", num4, \"redondeado a\", decimales, \"decimales es:\", resultadoRedondeo)"
   ]
  },
  {
   "cell_type": "markdown",
   "id": "020c2c55",
   "metadata": {},
   "source": [
    "## Errores matemáticos\n",
    "\n",
    "En algunos casos, la operación aritmética puede dar lugar a valores incoherentes."
   ]
  },
  {
   "cell_type": "code",
   "execution_count": 4,
   "id": "d3cfa73a",
   "metadata": {},
   "outputs": [
    {
     "name": "stdout",
     "output_type": "stream",
     "text": [
      "La suma de 0.1 y 0.2 es: 0.30000000000000004\n"
     ]
    }
   ],
   "source": [
    "resultado = 0.1 + 0.2\n",
    "\n",
    "print(\"La suma de 0.1 y 0.2 es:\", resultado)"
   ]
  }
 ],
 "metadata": {
  "kernelspec": {
   "display_name": "Python 3",
   "language": "python",
   "name": "python3"
  },
  "language_info": {
   "codemirror_mode": {
    "name": "ipython",
    "version": 3
   },
   "file_extension": ".py",
   "mimetype": "text/x-python",
   "name": "python",
   "nbconvert_exporter": "python",
   "pygments_lexer": "ipython3",
   "version": "3.11.9"
  }
 },
 "nbformat": 4,
 "nbformat_minor": 5
}
