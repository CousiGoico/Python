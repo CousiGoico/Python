{
 "cells": [
  {
   "cell_type": "markdown",
   "id": "cf85484a",
   "metadata": {},
   "source": [
    "# Operaciones de comparación"
   ]
  },
  {
   "cell_type": "markdown",
   "id": "2989bd63",
   "metadata": {},
   "source": [
    "Las operaciones de comparación o relacionales se usan para comparar dos valores y saber su relación entre dos valores. Es decir, saber si dos valores son iguales o distintos, si uno es mayor o menos a otro, etc."
   ]
  },
  {
   "cell_type": "markdown",
   "id": "88b8f679",
   "metadata": {},
   "source": [
    "## And\n",
    "\n",
    "Operador que nos permite realizar varias comparaciones y todas ellas deben ser correctas. Si una de las comparaciones no es correcta, ningúna es correcta."
   ]
  },
  {
   "cell_type": "code",
   "execution_count": 2,
   "id": "d8b93e6f",
   "metadata": {},
   "outputs": [
    {
     "name": "stdout",
     "output_type": "stream",
     "text": [
      "El resultado de la comparación es: True\n",
      "El resultado de la comparación es: False\n"
     ]
    }
   ],
   "source": [
    "valor1 = True\n",
    "\n",
    "valor2 = False\n",
    "\n",
    "valor3 = 0.5\n",
    "\n",
    "resultado = valor1 == True and valor2 == False and valor3 == 0.5\n",
    "\n",
    "print(\"El resultado de la comparación es:\", resultado)\n",
    "\n",
    "resultado = valor1 == False and valor2 == False and valor3 == 0.5\n",
    "\n",
    "print(\"El resultado de la comparación es:\", resultado)\n"
   ]
  }
 ],
 "metadata": {
  "kernelspec": {
   "display_name": "Python 3",
   "language": "python",
   "name": "python3"
  },
  "language_info": {
   "codemirror_mode": {
    "name": "ipython",
    "version": 3
   },
   "file_extension": ".py",
   "mimetype": "text/x-python",
   "name": "python",
   "nbconvert_exporter": "python",
   "pygments_lexer": "ipython3",
   "version": "3.11.9"
  }
 },
 "nbformat": 4,
 "nbformat_minor": 5
}
