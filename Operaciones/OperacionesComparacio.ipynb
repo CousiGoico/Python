{
 "cells": [
  {
   "cell_type": "markdown",
   "id": "cf85484a",
   "metadata": {},
   "source": [
    "# Operaciones de comparación"
   ]
  },
  {
   "cell_type": "markdown",
   "id": "2989bd63",
   "metadata": {},
   "source": [
    "Las operaciones de comparación o relacionales se usan para comparar dos valores y saber su relación entre dos valores. Es decir, saber si dos valores son iguales o distintos, si uno es mayor o menos a otro, etc."
   ]
  },
  {
   "cell_type": "markdown",
   "id": "77fdb252",
   "metadata": {},
   "source": [
    "## Operadores de comparación"
   ]
  },
  {
   "cell_type": "markdown",
   "id": "44d852a7",
   "metadata": {},
   "source": [
    "### Igual\n",
    "\n",
    "Para comparar si dos valores son iguales se usa dos simbolos igual seguidos `==`."
   ]
  },
  {
   "cell_type": "code",
   "execution_count": 4,
   "id": "45c95c39",
   "metadata": {},
   "outputs": [
    {
     "name": "stdout",
     "output_type": "stream",
     "text": [
      "Los valores son diferentes\n"
     ]
    }
   ],
   "source": [
    "valor1 = 5\n",
    "\n",
    "valor2 = 10\n",
    "\n",
    "if (valor1 == valor2):\n",
    "    print(\"Los valores son iguales\")\n",
    "else:\n",
    "    print(\"Los valores son diferentes\")"
   ]
  },
  {
   "cell_type": "markdown",
   "id": "adfff5f6",
   "metadata": {},
   "source": [
    "### Distinto\n",
    "\n",
    "Se usa la exclamación seguido del simbolo igual `!=`."
   ]
  },
  {
   "cell_type": "code",
   "execution_count": 5,
   "id": "3a52f54f",
   "metadata": {},
   "outputs": [
    {
     "name": "stdout",
     "output_type": "stream",
     "text": [
      "Los valores son diferentes\n"
     ]
    }
   ],
   "source": [
    "valor1 = True\n",
    "\n",
    "valor2 = False  \n",
    "\n",
    "if (valor1 != valor2):\n",
    "    print(\"Los valores son diferentes\")"
   ]
  },
  {
   "cell_type": "markdown",
   "id": "97fed10b",
   "metadata": {},
   "source": [
    "### Mayor que\n",
    "\n",
    "Con el simbolo `>` indicamos que el valor existente antes del simbolo es mayor que el valor situado a la derecha del simbolo."
   ]
  },
  {
   "cell_type": "code",
   "execution_count": 6,
   "id": "a1338606",
   "metadata": {},
   "outputs": [
    {
     "name": "stdout",
     "output_type": "stream",
     "text": [
      "El valor 24 es mayor que el valor 12\n"
     ]
    }
   ],
   "source": [
    "valor1 = 24\n",
    "\n",
    "valor2 = 12\n",
    "\n",
    "if (valor1 > valor2):\n",
    "    print(\"El valor\", valor1, \"es mayor que el valor\", valor2)"
   ]
  },
  {
   "cell_type": "markdown",
   "id": "08926bd5",
   "metadata": {},
   "source": [
    "### Menor que\n",
    "\n",
    "Con el simbolo `<` indicamos que el valor existente antes del simbolo es menor que el valor situado a la derecha del simbolo."
   ]
  },
  {
   "cell_type": "code",
   "execution_count": 7,
   "id": "7ad7389a",
   "metadata": {},
   "outputs": [
    {
     "name": "stdout",
     "output_type": "stream",
     "text": [
      "El valor 17 es menor que el valor 36\n"
     ]
    }
   ],
   "source": [
    "valor1 = 17\n",
    "\n",
    "valor2 = 36\n",
    "\n",
    "if (valor1 < valor2):\n",
    "    print(\"El valor\", valor1, \"es menor que el valor\", valor2)"
   ]
  },
  {
   "cell_type": "markdown",
   "id": "c800fc27",
   "metadata": {},
   "source": [
    "### Mayor o igual\n",
    "\n",
    "Con el simbolo `>=` indicamos que el valor existente antes del simbolo es mayor o igual que el valor situado a la derecha del simbolo."
   ]
  },
  {
   "cell_type": "code",
   "execution_count": 8,
   "id": "827aa421",
   "metadata": {},
   "outputs": [
    {
     "name": "stdout",
     "output_type": "stream",
     "text": [
      "El valor 38 es mayor o igual que el valor 14\n",
      "El valor 14 es mayor o igual que el valor 14\n"
     ]
    }
   ],
   "source": [
    "valor1 = 38\n",
    "\n",
    "valor2 = 14\n",
    "\n",
    "if (valor1 >= valor2):\n",
    "    print(\"El valor\", valor1, \"es mayor o igual que el valor\", valor2)\n",
    "\n",
    "valor1 = 14\n",
    "\n",
    "if (valor1 >= valor2):\n",
    "    print(\"El valor\", valor1, \"es mayor o igual que el valor\", valor2)"
   ]
  },
  {
   "cell_type": "markdown",
   "id": "cf1ebd74",
   "metadata": {},
   "source": [
    "### Menor o igual\n",
    "\n",
    "Con el simbolo `<=` indicamos que el valor existente antes del simbolo es menor o igual que el valor situado a la derecha del simbolo."
   ]
  },
  {
   "cell_type": "code",
   "execution_count": 9,
   "id": "531b8686",
   "metadata": {},
   "outputs": [
    {
     "name": "stdout",
     "output_type": "stream",
     "text": [
      "El valor 6 es menor o igual que el valor 69\n",
      "El valor 69 es menor o igual que el valor 69\n"
     ]
    }
   ],
   "source": [
    "valor1 = 6\n",
    "\n",
    "valor2 = 69\n",
    "\n",
    "if (valor1 <= valor2):\n",
    "    print(\"El valor\", valor1, \"es menor o igual que el valor\", valor2)\n",
    "\n",
    "valor1 = 69\n",
    "\n",
    "if (valor1 <= valor2):\n",
    "    print(\"El valor\", valor1, \"es menor o igual que el valor\", valor2)"
   ]
  },
  {
   "cell_type": "markdown",
   "id": "f86ef796",
   "metadata": {},
   "source": [
    "## Operadores lógicos"
   ]
  },
  {
   "cell_type": "markdown",
   "id": "88b8f679",
   "metadata": {},
   "source": [
    "### And\n",
    "\n",
    "Operador que nos permite realizar varias comparaciones y todas ellas deben ser correctas. Si una de las comparaciones no es correcta, ningúna es correcta."
   ]
  },
  {
   "cell_type": "code",
   "execution_count": 2,
   "id": "d8b93e6f",
   "metadata": {},
   "outputs": [
    {
     "name": "stdout",
     "output_type": "stream",
     "text": [
      "El resultado de la comparación es: True\n",
      "El resultado de la comparación es: False\n"
     ]
    }
   ],
   "source": [
    "valor1 = True\n",
    "\n",
    "valor2 = False\n",
    "\n",
    "valor3 = 0.5\n",
    "\n",
    "resultado = valor1 == True and valor2 == False and valor3 == 0.5\n",
    "\n",
    "print(\"El resultado de la comparación es:\", resultado)\n",
    "\n",
    "resultado = valor1 == False and valor2 == False and valor3 == 0.5\n",
    "\n",
    "print(\"El resultado de la comparación es:\", resultado)\n"
   ]
  },
  {
   "cell_type": "markdown",
   "id": "23f128a5",
   "metadata": {},
   "source": [
    "### Or\n",
    "\n",
    "Operador que nos permite realizar varias comparaciones y una de ellas deben ser correcta. "
   ]
  },
  {
   "cell_type": "code",
   "execution_count": 2,
   "id": "93ec3523",
   "metadata": {},
   "outputs": [
    {
     "name": "stdout",
     "output_type": "stream",
     "text": [
      "El resultado de la comparación es: True\n",
      "El resultado de la comparación es: False\n"
     ]
    }
   ],
   "source": [
    "valor1 = True\n",
    "\n",
    "valor2 = False\n",
    "\n",
    "valor3 = 0.5\n",
    "\n",
    "resultado = valor1 == True or valor2 == True or valor3 == 7\n",
    "\n",
    "print(\"El resultado de la comparación es:\", resultado)\n",
    "\n",
    "resultado = valor1 == False or valor2 == True or valor3 == 1\n",
    "\n",
    "print(\"El resultado de la comparación es:\", resultado)"
   ]
  },
  {
   "cell_type": "markdown",
   "id": "ee47388c",
   "metadata": {},
   "source": [
    "### Not\n",
    "\n",
    "Invierte el valor."
   ]
  },
  {
   "cell_type": "code",
   "execution_count": 3,
   "id": "db0f3d93",
   "metadata": {},
   "outputs": [
    {
     "name": "stdout",
     "output_type": "stream",
     "text": [
      "La comparación es verdadera\n"
     ]
    }
   ],
   "source": [
    "valor1 = True\n",
    "\n",
    "if not valor1 == False:\n",
    "    print(\"La comparación es verdadera\")\n",
    "else:\n",
    "    print(\"La comparación es falsa\")"
   ]
  }
 ],
 "metadata": {
  "kernelspec": {
   "display_name": "Python 3",
   "language": "python",
   "name": "python3"
  },
  "language_info": {
   "codemirror_mode": {
    "name": "ipython",
    "version": 3
   },
   "file_extension": ".py",
   "mimetype": "text/x-python",
   "name": "python",
   "nbconvert_exporter": "python",
   "pygments_lexer": "ipython3",
   "version": "3.11.9"
  }
 },
 "nbformat": 4,
 "nbformat_minor": 5
}
