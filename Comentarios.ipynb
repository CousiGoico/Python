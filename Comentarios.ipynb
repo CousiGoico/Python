{
 "cells": [
  {
   "cell_type": "markdown",
   "id": "1f67ea87",
   "metadata": {},
   "source": [
    "# Comentarios"
   ]
  },
  {
   "cell_type": "markdown",
   "id": "9b4e5f2a",
   "metadata": {},
   "source": [
    "Los comentarios son textos que se establecen en el código pero se omiten, no se ejecutan. Los comentarios se deben marcar con el carácter almohadilla `#` o con triple comilla doble cuando se desea escribir más de una línea."
   ]
  },
  {
   "cell_type": "code",
   "execution_count": 1,
   "id": "7e012245",
   "metadata": {},
   "outputs": [
    {
     "name": "stdout",
     "output_type": "stream",
     "text": [
      "Hola Mundo\n"
     ]
    }
   ],
   "source": [
    "# Esto es un comentario y se omite por el intérprete.\n",
    "\n",
    "texto  = \"Hola Mundo\"  \n",
    "\n",
    "print(texto)"
   ]
  },
  {
   "cell_type": "code",
   "execution_count": 2,
   "id": "bc7cc24c",
   "metadata": {},
   "outputs": [
    {
     "name": "stdout",
     "output_type": "stream",
     "text": [
      "Hola Mundo\n"
     ]
    }
   ],
   "source": [
    "\"\"\" Esto es un comentario\n",
    "multilinea y se omite por el intérprete. \"\"\"\n",
    "\n",
    "texto  = \"Hola Mundo\"\n",
    "\n",
    "print(texto)"
   ]
  },
  {
   "cell_type": "code",
   "execution_count": 5,
   "id": "966605c4",
   "metadata": {},
   "outputs": [
    {
     "name": "stdout",
     "output_type": "stream",
     "text": [
      "('3', '3', '3')\n"
     ]
    }
   ],
   "source": [
    "number = 333\n",
    "\n",
    "listN = tuple(str(number))\n",
    "\n",
    "print(listN)"
   ]
  }
 ],
 "metadata": {
  "kernelspec": {
   "display_name": "Python 3",
   "language": "python",
   "name": "python3"
  },
  "language_info": {
   "codemirror_mode": {
    "name": "ipython",
    "version": 3
   },
   "file_extension": ".py",
   "mimetype": "text/x-python",
   "name": "python",
   "nbconvert_exporter": "python",
   "pygments_lexer": "ipython3",
   "version": "3.11.9"
  }
 },
 "nbformat": 4,
 "nbformat_minor": 5
}
