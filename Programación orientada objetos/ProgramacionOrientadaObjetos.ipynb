{
 "cells": [
  {
   "cell_type": "markdown",
   "id": "fe161b5a",
   "metadata": {},
   "source": [
    "# Programación orientada a objetos\n",
    "\n",
    "El mayor paradigma de la programación orientada a objetos e que los datos no son inmutables.\n",
    "\n",
    "**Conceptos clave**\n",
    "\n",
    "1. **Clases y objetos:** es un molde con el que crear objetos. Define un tipo según los atributos y métodos que tendrán. Un objeto es una instania de una clase. Cada objeto puede tener diferentes valores para los atributos definidos en su clase.\n",
    "2. **Atributo:** es una variable asociada a la clase o al objeto. Los atributos de instancia son de objetos y los atributos de clase pertenecen a la clase.\n",
    "3. **Método:** función interna de la clase.\n",
    "4. **Encapsulamiento:** oculta los detalles internos de los objetos.\n",
    "5. **Herencia:** permite heredar las propiedades y métodos de una clase.\n",
    "6. **Polimorfismo:** permite tener en varios objetos los mismos nombres y argumentos de las funciones de una interfaz pero cada objeto decidirá el comportamiento de sus funciones.\n",
    "7. **Astracción:** simplificación de conceptos complejos mediante la reducción de los detalles.\n",
    "\n",
    "**Ventajas**\n",
    "\n",
    "* **Modularidad:** facilita la división de un programa en partes más pequeñas.\n",
    "* **Reutilización:** pueden reutilizarse los objetos y clases.\n",
    "* **Mantenimiento:** mayor facilidad para mantener el código.\n",
    "* **Abstracción:** centrarse en las interacciones sin preocuparse de los detalles.\n",
    "* **Encapsulamiento:** mejora la seguridad del código\n",
    "\n",
    "**Desventajas**\n",
    "\n",
    "* **Complejidad:** programas sencillos pueden complicarse debido a la complejidad.\n",
    "* **Rendimiento:** debido a la alta administración de objetos puede perder eficiencia."
   ]
  }
 ],
 "metadata": {
  "kernelspec": {
   "display_name": "Python 3",
   "language": "python",
   "name": "python3"
  },
  "language_info": {
   "codemirror_mode": {
    "name": "ipython",
    "version": 3
   },
   "file_extension": ".py",
   "mimetype": "text/x-python",
   "name": "python",
   "nbconvert_exporter": "python",
   "pygments_lexer": "ipython3",
   "version": "3.11.9"
  }
 },
 "nbformat": 4,
 "nbformat_minor": 5
}
