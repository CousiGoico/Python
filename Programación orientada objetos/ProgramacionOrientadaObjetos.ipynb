{
 "cells": [
  {
   "cell_type": "markdown",
   "id": "fe161b5a",
   "metadata": {},
   "source": [
    "# Programación orientada a objetos\n",
    "\n",
    "El mayor paradigma de la programación orientada a objetos e que los datos no son inmutables.\n",
    "\n",
    "**Conceptos clave**\n",
    "\n",
    "1. **Clases y objetos:** es un molde con el que crear objetos. Define un tipo según los atributos y métodos que tendrán. Un objeto es una instania de una clase. Cada objeto puede tener diferentes valores para los atributos definidos en su clase.\n",
    "2. **Atributo:** es una variable asociada a la clase o al objeto. Los atributos de instancia son de objetos y los atributos de clase pertenecen a la clase.\n",
    "3. **Método:** función interna de la clase.\n",
    "4. **Encapsulamiento:** oculta los detalles internos de los objetos.\n",
    "5. **Herencia:** permite heredar las propiedades y métodos de una clase.\n",
    "6. **Polimorfismo:** permite tener en varios objetos los mismos nombres y argumentos de las funciones de una interfaz pero cada objeto decidirá el comportamiento de sus funciones.\n",
    "7. **Astracción:** simplificación de conceptos complejos mediante la reducción de los detalles.\n",
    "\n",
    "**Ventajas**\n",
    "\n",
    "* **Modularidad:** facilita la división de un programa en partes más pequeñas.\n",
    "* **Reutilización:** pueden reutilizarse los objetos y clases.\n",
    "* **Mantenimiento:** mayor facilidad para mantener el código.\n",
    "* **Abstracción:** centrarse en las interacciones sin preocuparse de los detalles.\n",
    "* **Encapsulamiento:** mejora la seguridad del código\n",
    "\n",
    "**Desventajas**\n",
    "\n",
    "* **Complejidad:** programas sencillos pueden complicarse debido a la complejidad.\n",
    "* **Rendimiento:** debido a la alta administración de objetos puede perder eficiencia."
   ]
  },
  {
   "cell_type": "markdown",
   "id": "ce34ec9b",
   "metadata": {},
   "source": [
    "## Atributos"
   ]
  },
  {
   "cell_type": "markdown",
   "id": "ed4ffa53",
   "metadata": {},
   "source": [
    "### Atributos de instancia\n",
    "\n",
    "Son varialbes que pertenecen a una instancia específica de una clase. Cada objeto creado a partir de la clase puede tener valores diferentes para estos atributos. Se definen dentro del método constructor `__init__`."
   ]
  },
  {
   "cell_type": "code",
   "execution_count": 12,
   "id": "c9a5896d",
   "metadata": {},
   "outputs": [],
   "source": [
    "# Definición de clase\n",
    "\n",
    "class Persona:\n",
    "\n",
    "    # Método constructor\n",
    "    def __init__(self, nombre, edad):\n",
    "\n",
    "        # Atributos de instancia\n",
    "        self.nombre = nombre\n",
    "        self.edad = edad\n",
    "\n",
    "    def saludar(self):\n",
    "        return f\"Hola, mi nombre es {self.nombre} y tengo {self.edad} años.\""
   ]
  },
  {
   "cell_type": "code",
   "execution_count": 13,
   "id": "039b85c8",
   "metadata": {},
   "outputs": [
    {
     "name": "stdout",
     "output_type": "stream",
     "text": [
      "Hola, mi nombre es Juan y tengo 30 años.\n",
      "Help on Persona in module __main__ object:\n",
      "\n",
      "class Persona(builtins.object)\n",
      " |  Persona(nombre, edad)\n",
      " |  \n",
      " |  Methods defined here:\n",
      " |  \n",
      " |  __init__(self, nombre, edad)\n",
      " |      Initialize self.  See help(type(self)) for accurate signature.\n",
      " |  \n",
      " |  saludar(self)\n",
      " |  \n",
      " |  ----------------------------------------------------------------------\n",
      " |  Data descriptors defined here:\n",
      " |  \n",
      " |  __dict__\n",
      " |      dictionary for instance variables\n",
      " |  \n",
      " |  __weakref__\n",
      " |      list of weak references to the object\n",
      "\n"
     ]
    }
   ],
   "source": [
    "# Iniciar objeto de la clase\n",
    "\n",
    "persona1 = Persona(\"Juan\", 30)\n",
    "\n",
    "print(persona1.saludar())\n",
    "\n",
    "help(persona1)  # Muestra la documentación de la instancia"
   ]
  },
  {
   "cell_type": "markdown",
   "id": "13925a41",
   "metadata": {},
   "source": [
    "### Atributos de clase\n",
    "\n",
    "Son variables que pertenecen a la clase en sí y son compartidos por todas las instancias de la clase. Se definen directamente dentro de la clase, fuera de cualquier método."
   ]
  },
  {
   "cell_type": "code",
   "execution_count": 14,
   "id": "74707cca",
   "metadata": {},
   "outputs": [],
   "source": [
    "# Definición de clase\n",
    "\n",
    "class Persona:\n",
    "\n",
    "    # atributos de clase\n",
    "    apellidos = \"Gómez\"\n",
    "\n",
    "    def __init__(self, nombre, edad):\n",
    "        self.nombre = nombre\n",
    "        self.edad = edad\n",
    "\n",
    "    def saludar(self):\n",
    "        return f\"Hola, mi nombre es {self.nombre} y tengo {self.edad} años.\""
   ]
  },
  {
   "cell_type": "code",
   "execution_count": 15,
   "id": "36a54a33",
   "metadata": {},
   "outputs": [
    {
     "name": "stdout",
     "output_type": "stream",
     "text": [
      "Gómez\n"
     ]
    }
   ],
   "source": [
    "persona1 = Persona(\"Juan\", 30)\n",
    "\n",
    "print(persona1.apellidos)  # Acceso al atributo de clase"
   ]
  },
  {
   "cell_type": "markdown",
   "id": "6e0f936e",
   "metadata": {},
   "source": [
    "## Métodos\n",
    "\n",
    "### Métodos de instancia\n",
    "\n",
    "Función específica de una clase. Pueden acceder y modificar los atributos de la instancia. Se definen con al menos un parámetro, `self`, que hace referencia a la instancia actual de la clase, la autoreferencia."
   ]
  },
  {
   "cell_type": "code",
   "execution_count": null,
   "id": "f80a494c",
   "metadata": {},
   "outputs": [],
   "source": [
    "# Definición de clase\n",
    "\n",
    "class Persona:\n",
    "    def __init__(self, nombre, edad):\n",
    "        self.nombre = nombre\n",
    "        self.edad = edad\n",
    "\n",
    "    # Método de instancia\n",
    "    def presentarse(self):\n",
    "        return f\"Hola, mi nombre es {self.nombre} y tengo {self.edad} años.\""
   ]
  },
  {
   "cell_type": "markdown",
   "id": "9e79bf7f",
   "metadata": {},
   "source": [
    "### Métodos de clase\n",
    "\n",
    "Función que se decoran con `@classmethod`. Son funciones en la clase no en instancias individuales. Se definen con un parámetro `cls`, que hace referencia a la clase actual."
   ]
  },
  {
   "cell_type": "code",
   "execution_count": 7,
   "id": "cf8af492",
   "metadata": {},
   "outputs": [],
   "source": [
    "# Definición de clase\n",
    "\n",
    "class Persona:\n",
    "    def __init__(self, nombre, edad):\n",
    "        self.nombre = nombre\n",
    "        self.edad = edad\n",
    "\n",
    "    # Método de clase\n",
    "    @classmethod\n",
    "    def crear_con_apellido(cls, nombre, edad, apellido):\n",
    "        persona = cls(nombre, edad)\n",
    "        persona.apellido = apellido\n",
    "        return persona\n",
    "\n",
    "    # Método de instancia\n",
    "    def saludar(self):\n",
    "        return f\"Hola, mi nombre es {self.nombre} y tengo {self.edad} años.\""
   ]
  },
  {
   "cell_type": "code",
   "execution_count": 9,
   "id": "7fa00bca",
   "metadata": {},
   "outputs": [
    {
     "name": "stdout",
     "output_type": "stream",
     "text": [
      "Hola, mi nombre es Juan y tengo 30 años.\n"
     ]
    }
   ],
   "source": [
    "# Llamada al método de clase\n",
    "persona1 = Persona.crear_con_apellido(\"Juan\", 30, \"Pérez\")\n",
    "\n",
    "# Presentación de la persona\n",
    "print(persona1.saludar())"
   ]
  },
  {
   "cell_type": "markdown",
   "id": "bcae9dd6",
   "metadata": {},
   "source": [
    "### Métodos estáticos\n",
    "\n",
    "Se representan con el decorador `@staticmethod` y son funciones que no operan en instancias ni en clases. No pueden acceder ni modificar a loa atributos de instancia o de clase."
   ]
  },
  {
   "cell_type": "code",
   "execution_count": 10,
   "id": "0aa55639",
   "metadata": {},
   "outputs": [],
   "source": [
    "# Definición de clase\n",
    "\n",
    "class Persona:\n",
    "    def __init__(self, nombre, edad):\n",
    "        self.nombre = nombre\n",
    "        self.edad = edad\n",
    "\n",
    "    # Método estático\n",
    "    @staticmethod\n",
    "    def crear_con_apellido(nombre, edad, apellido):\n",
    "        return Persona(nombre + \" \" + apellido, edad)\n",
    "\n",
    "    def saludar(self):\n",
    "        return f\"Hola, mi nombre es {self.nombre} y tengo {self.edad} años.\""
   ]
  },
  {
   "cell_type": "code",
   "execution_count": 11,
   "id": "3c5e7bbf",
   "metadata": {},
   "outputs": [
    {
     "name": "stdout",
     "output_type": "stream",
     "text": [
      "Hola, mi nombre es Ana Gómez y tengo 25 años.\n"
     ]
    }
   ],
   "source": [
    "# Ejecución del método estático\n",
    "\n",
    "persona2 = Persona.crear_con_apellido(\"Ana\", 25, \"Gómez\")\n",
    "\n",
    "# Presentación de la persona\n",
    "print(persona2.saludar())"
   ]
  },
  {
   "cell_type": "markdown",
   "id": "98316e46",
   "metadata": {},
   "source": [
    "## Encapsulamiento\n",
    "\n",
    "Se puede ocultar detalles internos de los objetos. Esto se realiza mediante métodos públicos y privados y atributos públicos y privados."
   ]
  },
  {
   "cell_type": "code",
   "execution_count": 18,
   "id": "2ff6eb63",
   "metadata": {},
   "outputs": [],
   "source": [
    "# Definición de clase\n",
    "\n",
    "class Coche:\n",
    "    def __init__(self, marca, modelo):\n",
    "        self.marca = marca\n",
    "        self.modelo = modelo\n",
    "        # Atributo privado\n",
    "        self.__numero_serie = \"12345ABC\"\n",
    "\n",
    "    # Método de instancia o método público\n",
    "    def mostrar_informacion(self):\n",
    "        return f\"Coche: {self.marca} {self.modelo} - Serie: {self.__numero_serie}\"\n",
    "    \n",
    "    # Método privado\n",
    "    def __numero_serie_privado(self):\n",
    "        return self.__numero_serie "
   ]
  },
  {
   "cell_type": "code",
   "execution_count": 17,
   "id": "a819c62b",
   "metadata": {},
   "outputs": [
    {
     "name": "stdout",
     "output_type": "stream",
     "text": [
      "Coche: Toyota Corolla - Serie: 12345ABC\n"
     ]
    }
   ],
   "source": [
    "# Creción de un objeto de la clase Coche\n",
    "\n",
    "coche1 = Coche(\"Toyota\", \"Corolla\")\n",
    "\n",
    "# Presentación de la información del coche\n",
    "\n",
    "print(coche1.mostrar_informacion())"
   ]
  },
  {
   "cell_type": "code",
   "execution_count": 20,
   "id": "cc033ede",
   "metadata": {},
   "outputs": [
    {
     "ename": "AttributeError",
     "evalue": "'Coche' object has no attribute '__numero_serie'",
     "output_type": "error",
     "traceback": [
      "\u001b[1;31m---------------------------------------------------------------------------\u001b[0m",
      "\u001b[1;31mAttributeError\u001b[0m                            Traceback (most recent call last)",
      "Cell \u001b[1;32mIn[20], line 1\u001b[0m\n\u001b[1;32m----> 1\u001b[0m \u001b[38;5;28mprint\u001b[39m(\u001b[43mcoche1\u001b[49m\u001b[38;5;241;43m.\u001b[39;49m\u001b[43m__numero_serie\u001b[49m)\n",
      "\u001b[1;31mAttributeError\u001b[0m: 'Coche' object has no attribute '__numero_serie'"
     ]
    }
   ],
   "source": [
    "print(coche1.__numero_serie)"
   ]
  },
  {
   "cell_type": "code",
   "execution_count": 19,
   "id": "c393022c",
   "metadata": {},
   "outputs": [
    {
     "ename": "AttributeError",
     "evalue": "'Coche' object has no attribute '__numero_serie_privado'",
     "output_type": "error",
     "traceback": [
      "\u001b[1;31m---------------------------------------------------------------------------\u001b[0m",
      "\u001b[1;31mAttributeError\u001b[0m                            Traceback (most recent call last)",
      "Cell \u001b[1;32mIn[19], line 1\u001b[0m\n\u001b[1;32m----> 1\u001b[0m \u001b[43mcoche1\u001b[49m\u001b[38;5;241;43m.\u001b[39;49m\u001b[43m__numero_serie_privado\u001b[49m()  \u001b[38;5;66;03m# Esto generará un error porque el método es privado y no se puede acceder directamente desde fuera de la clase.   \u001b[39;00m\n",
      "\u001b[1;31mAttributeError\u001b[0m: 'Coche' object has no attribute '__numero_serie_privado'"
     ]
    }
   ],
   "source": [
    "coche1.__numero_serie_privado()  # Esto generará un error porque el método es privado y no se puede acceder directamente desde fuera de la clase.   "
   ]
  }
 ],
 "metadata": {
  "kernelspec": {
   "display_name": "Python 3",
   "language": "python",
   "name": "python3"
  },
  "language_info": {
   "codemirror_mode": {
    "name": "ipython",
    "version": 3
   },
   "file_extension": ".py",
   "mimetype": "text/x-python",
   "name": "python",
   "nbconvert_exporter": "python",
   "pygments_lexer": "ipython3",
   "version": "3.11.9"
  }
 },
 "nbformat": 4,
 "nbformat_minor": 5
}
