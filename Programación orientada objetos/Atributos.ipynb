{
 "cells": [
  {
   "cell_type": "markdown",
   "id": "14b6a863",
   "metadata": {},
   "source": [
    "# Atributos"
   ]
  },
  {
   "cell_type": "markdown",
   "id": "3d7df20f",
   "metadata": {},
   "source": [
    "## 1. Atributos de instancia\n",
    "\n",
    "Son varialbes que pertenecen a una instancia específica de una clase. Cada objeto creado a partir de la clase puede tener valores diferentes para estos atributos. Se definen dentro del método constructor `__init__`."
   ]
  },
  {
   "cell_type": "code",
   "execution_count": null,
   "id": "d1404f8f",
   "metadata": {},
   "outputs": [],
   "source": [
    "# Definición de clase\n",
    "\n",
    "class Persona:\n",
    "\n",
    "    # Método constructor\n",
    "    def __init__(self, nombre, edad):\n",
    "\n",
    "        # Atributos de instancia\n",
    "        self.nombre = nombre\n",
    "        self.edad = edad\n",
    "\n",
    "    def saludar(self):\n",
    "        return f\"Hola, mi nombre es {self.nombre} y tengo {self.edad} años.\""
   ]
  },
  {
   "cell_type": "code",
   "execution_count": null,
   "id": "d54af3c3",
   "metadata": {},
   "outputs": [],
   "source": [
    "# Iniciar objeto de la clase\n",
    "\n",
    "persona1 = Persona(\"Juan\", 30)\n",
    "\n",
    "print(persona1.saludar())\n",
    "\n",
    "help(persona1)  # Muestra la documentación de la instancia"
   ]
  },
  {
   "cell_type": "markdown",
   "id": "8c3c7353",
   "metadata": {},
   "source": [
    "## 2. Atributos de clase\n",
    "\n",
    "Son variables que pertenecen a la clase en sí y son compartidos por todas las instancias de la clase. Se definen directamente dentro de la clase, fuera de cualquier método."
   ]
  },
  {
   "cell_type": "code",
   "execution_count": 1,
   "id": "8db39cf4",
   "metadata": {},
   "outputs": [],
   "source": [
    "# Definición de clase\n",
    "\n",
    "class Persona:\n",
    "\n",
    "    # atributos de clase\n",
    "    apellidos = \"Gómez\"\n",
    "\n",
    "    def __init__(self, nombre, edad):\n",
    "        self.nombre = nombre\n",
    "        self.edad = edad\n",
    "\n",
    "    def saludar(self):\n",
    "        return f\"Hola, mi nombre es {self.nombre} y tengo {self.edad} años.\""
   ]
  },
  {
   "cell_type": "code",
   "execution_count": null,
   "id": "c4b58f6c",
   "metadata": {},
   "outputs": [],
   "source": [
    "persona1 = Persona(\"Juan\", 30)\n",
    "\n",
    "print(persona1.apellidos)  # Acceso al atributo de clase"
   ]
  }
 ],
 "metadata": {
  "kernelspec": {
   "display_name": "Python 3",
   "language": "python",
   "name": "python3"
  },
  "language_info": {
   "codemirror_mode": {
    "name": "ipython",
    "version": 3
   },
   "file_extension": ".py",
   "mimetype": "text/x-python",
   "name": "python",
   "nbconvert_exporter": "python",
   "pygments_lexer": "ipython3",
   "version": "3.11.9"
  }
 },
 "nbformat": 4,
 "nbformat_minor": 5
}
