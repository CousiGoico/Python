{
 "cells": [
  {
   "cell_type": "markdown",
   "id": "7993cc5c",
   "metadata": {},
   "source": [
    "# Control de flujo"
   ]
  },
  {
   "cell_type": "markdown",
   "id": "f0c3da35",
   "metadata": {},
   "source": [
    "## ¿Qué es el control de flujo?\n",
    "\n",
    "Se refiere a la dirección en la que se ejecutan las sentencias de un programa. Es la manera de controlar el flujo por donde la ejecución de nuestro código se ejecuta. Estos son los proincipales controles de flujo:\n",
    "\n",
    "* Declaraciones condicionales (If, else, switch): según la condición se ejecutará un bloque de código u otro. \n",
    "\n",
    "* Bucles (For, While): repites la ejecución de un bloque de código n veces.\n",
    "\n",
    "* Excepciones: se redirige el el flujo mediante los errores."
   ]
  },
  {
   "cell_type": "markdown",
   "id": "ee3fb94f",
   "metadata": {},
   "source": [
    "## Iterables\n",
    "\n",
    "Son elementos de tipo lista o colección que pueden ser recorridos uno por uno. Ejemplos: listas, tuplas, diccionarios, ..."
   ]
  },
  {
   "cell_type": "code",
   "execution_count": null,
   "id": "00e3bd84",
   "metadata": {},
   "outputs": [],
   "source": [
    "lista = [3, 7, 2, 5, 1, 4, 6]"
   ]
  },
  {
   "cell_type": "markdown",
   "id": "a73c95eb",
   "metadata": {},
   "source": [
    "### Len (int len(iterable))\n",
    "\n",
    "Función con la que obtienes la longitud del iterable."
   ]
  },
  {
   "cell_type": "code",
   "execution_count": 2,
   "id": "53fcf474",
   "metadata": {},
   "outputs": [
    {
     "data": {
      "text/plain": [
       "7"
      ]
     },
     "execution_count": 2,
     "metadata": {},
     "output_type": "execute_result"
    }
   ],
   "source": [
    "lista = [3, 7, 2, 5, 1, 4, 6]\n",
    "\n",
    "len(lista)"
   ]
  },
  {
   "cell_type": "markdown",
   "id": "6dd47524",
   "metadata": {},
   "source": [
    "### Min (int min(iterable)) y Max (int max(iterable))\n",
    "\n",
    "Obtiene el valor mínimo y/o máximo del iterable."
   ]
  },
  {
   "cell_type": "code",
   "execution_count": 4,
   "id": "bd00b518",
   "metadata": {},
   "outputs": [
    {
     "data": {
      "text/plain": [
       "7"
      ]
     },
     "execution_count": 4,
     "metadata": {},
     "output_type": "execute_result"
    }
   ],
   "source": [
    "lista = [1,7,2,5,3,4,6]\n",
    "\n",
    "min(lista)\n",
    "\n",
    "max (lista)"
   ]
  },
  {
   "cell_type": "markdown",
   "id": "b9b25322",
   "metadata": {},
   "source": [
    "### Sorted (iterable sorted(iterable))\n",
    "\n",
    "Ordena el iterable en la dirección deseada."
   ]
  },
  {
   "cell_type": "code",
   "execution_count": 1,
   "id": "8d4a2c05",
   "metadata": {},
   "outputs": [
    {
     "name": "stdout",
     "output_type": "stream",
     "text": [
      "[1, 2, 4, 5, 6, 7, 9]\n",
      "[9, 7, 6, 5, 4, 2, 1]\n"
     ]
    }
   ],
   "source": [
    "lista = [9, 7, 2, 5, 1, 4, 6]\n",
    "\n",
    "lista = sorted(lista)\n",
    "print(lista)\n",
    "\n",
    "lista = sorted(lista, reverse=True)\n",
    "print(lista)"
   ]
  },
  {
   "cell_type": "markdown",
   "id": "5cab6a4d",
   "metadata": {},
   "source": [
    "También se puede trabajar con textos. La manera de ordenar u obtener el valor mínimo o máximo se basa en la tabla Ascii, dónde la A siempre tendrá un valor menor y la letra Z un valor mayor."
   ]
  },
  {
   "cell_type": "code",
   "execution_count": null,
   "id": "080eced2",
   "metadata": {},
   "outputs": [
    {
     "name": "stdout",
     "output_type": "stream",
     "text": [
      "7\n",
      "Antonio\n",
      "María\n",
      "['Antonio', 'Eduardo', 'Francisco', 'Javier', 'Joaquín', 'José', 'María']\n",
      "['María', 'José', 'Joaquín', 'Javier', 'Francisco', 'Eduardo', 'Antonio']\n"
     ]
    }
   ],
   "source": [
    "lista_strings = ['Javier', 'Eduardo', 'Joaquín', 'María', 'José', 'Antonio', 'Francisco']\n",
    "\n",
    "print(len(lista_strings))\n",
    "\n",
    "print(min(lista_strings))\n",
    "\n",
    "print(max(lista_strings))\n",
    "\n",
    "print(sorted(lista_strings))\n",
    "\n",
    "print(sorted(lista_strings, reverse=True))"
   ]
  },
  {
   "cell_type": "markdown",
   "id": "19f21e3d",
   "metadata": {},
   "source": [
    "### In (bool valor in iterable)\n",
    "\n",
    "Función que comprueba si un valor esta dentro del iterable."
   ]
  },
  {
   "cell_type": "code",
   "execution_count": 4,
   "id": "5bc159d4",
   "metadata": {},
   "outputs": [
    {
     "name": "stdout",
     "output_type": "stream",
     "text": [
      "True\n",
      "False\n"
     ]
    }
   ],
   "source": [
    "lista_strings = ['Javier', 'Eduardo', 'Joaquín', 'María', 'José', 'Antonio', 'Francisco']\n",
    "\n",
    "print('Javier' in lista_strings)\n",
    "\n",
    "print('Lucía' in lista_strings)"
   ]
  },
  {
   "cell_type": "markdown",
   "id": "cd51789b",
   "metadata": {},
   "source": [
    "### Range (iterable range(start, end, step))\n",
    "\n",
    "Función que devuelve un listado de valores numéricos en base a un rango."
   ]
  },
  {
   "cell_type": "code",
   "execution_count": 13,
   "id": "6c01e15e",
   "metadata": {},
   "outputs": [
    {
     "name": "stdout",
     "output_type": "stream",
     "text": [
      "[0, 1, 2, 3]\n",
      "[3, 4, 5, 6, 7, 8, 9]\n",
      "[6, 10, 14, 18]\n"
     ]
    }
   ],
   "source": [
    "print(list(range(4)))\n",
    "\n",
    "print(list(range(3, 10)))\n",
    "\n",
    "print(list(range(6, 19, 4)))"
   ]
  },
  {
   "cell_type": "markdown",
   "id": "49a09246",
   "metadata": {},
   "source": [
    "### Zip (iterable zip(iterable, iterable2))\n",
    "\n",
    "Combina dos o más iterables"
   ]
  },
  {
   "cell_type": "code",
   "execution_count": 19,
   "id": "555a5403",
   "metadata": {},
   "outputs": [
    {
     "name": "stdout",
     "output_type": "stream",
     "text": [
      "[(3, 'Javier'), (7, 'Eduardo'), (2, 'Joaquín'), (5, 'María'), (1, 'José'), (4, 'Antonio'), (6, 'Francisco')]\n",
      "{3: 'Javier', 7: 'Eduardo', 2: 'Joaquín', 5: 'María', 1: 'José', 4: 'Antonio', 6: 'Francisco'}\n",
      "[(3, 'Javier', 'a', 'asdfasdfa'), (7, 'Eduardo', 4, 'asdfasdf'), (2, 'Joaquín', 2.5, True), (5, 'María', 'b', 21.51), (1, 'José', 3, False), (4, 'Antonio', 1, 'b'), (6, 'Francisco', 7, 3)]\n"
     ]
    }
   ],
   "source": [
    "lista = [3, 7, 2, 5, 1, 4, 6]\n",
    "lista_strings = ['Javier', 'Eduardo', 'Joaquín', 'María', 'José', 'Antonio', 'Francisco']\n",
    "lista_valores = ['a', 4, 2.5, 'b', 3, 1, 7]\n",
    "lista_otros = ['asdfasdfa', 'asdfasdf', True, 21.51, False, 'b', 3, 1, 7]\n",
    "\n",
    "print(list(zip(lista, lista_strings)))\n",
    "\n",
    "print(dict(zip(lista, lista_strings)))\n",
    "\n",
    "print(list(zip(lista, lista_strings, lista_valores, lista_otros)))"
   ]
  }
 ],
 "metadata": {
  "kernelspec": {
   "display_name": "Python 3",
   "language": "python",
   "name": "python3"
  },
  "language_info": {
   "codemirror_mode": {
    "name": "ipython",
    "version": 3
   },
   "file_extension": ".py",
   "mimetype": "text/x-python",
   "name": "python",
   "nbconvert_exporter": "python",
   "pygments_lexer": "ipython3",
   "version": "3.11.9"
  }
 },
 "nbformat": 4,
 "nbformat_minor": 5
}
