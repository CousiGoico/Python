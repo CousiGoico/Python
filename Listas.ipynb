{
 "cells": [
  {
   "cell_type": "markdown",
   "id": "403c9acd",
   "metadata": {},
   "source": [
    "# Listas"
   ]
  },
  {
   "cell_type": "markdown",
   "id": "bd43686b",
   "metadata": {},
   "source": [
    "## DEfinición de listas\n",
    "\n",
    "Son estructuras de datos que nos permiten añadir otros datos dentro. Son colecciones ordenadas y mutables, podemos meter diferentes datos en la misma lista. Se definen con `[]` o con la palabra reservada `lista`. Permiten elementos duplicados."
   ]
  },
  {
   "cell_type": "code",
   "execution_count": 3,
   "id": "935c9bd1",
   "metadata": {},
   "outputs": [],
   "source": [
    "# Definimos tres listas\n",
    "\n",
    "lista_1 = [3, 5, 4, 12, 36, 98]\n",
    "\n",
    "lista_2 = ['hola', 'adios', 'que tal', 'alegre']\n",
    "\n",
    "lista_3 = [3, 'Paco', 45, False, True]"
   ]
  },
  {
   "cell_type": "code",
   "execution_count": 6,
   "id": "ee6281d1",
   "metadata": {},
   "outputs": [
    {
     "name": "stdout",
     "output_type": "stream",
     "text": [
      "[3, 5, 4, 12, 36, 98]\n"
     ]
    }
   ],
   "source": [
    "# Imprimir lista 1\n",
    "\n",
    "print(lista_1)"
   ]
  },
  {
   "cell_type": "code",
   "execution_count": 3,
   "id": "80c893e7",
   "metadata": {},
   "outputs": [
    {
     "name": "stdout",
     "output_type": "stream",
     "text": [
      "['hola', 'adios', 'que tal', 'alegre']\n"
     ]
    }
   ],
   "source": [
    "# Imprimir lista 2\n",
    "\n",
    "print(lista_2)"
   ]
  },
  {
   "cell_type": "code",
   "execution_count": 5,
   "id": "5b0c2a00",
   "metadata": {},
   "outputs": [
    {
     "name": "stdout",
     "output_type": "stream",
     "text": [
      "[3, 'Paco', 45, False, True]\n"
     ]
    }
   ],
   "source": [
    "# Imprimir lista 3\n",
    "\n",
    "print(lista_3)"
   ]
  },
  {
   "cell_type": "code",
   "execution_count": 4,
   "id": "137a0f35",
   "metadata": {},
   "outputs": [
    {
     "data": {
      "text/plain": [
       "list"
      ]
     },
     "execution_count": 4,
     "metadata": {},
     "output_type": "execute_result"
    }
   ],
   "source": [
    "# Tipo de dato\n",
    "\n",
    "type(lista_1)"
   ]
  },
  {
   "cell_type": "markdown",
   "id": "4216c114",
   "metadata": {},
   "source": [
    "## Acceso a elementos de una lista\n",
    "\n",
    "Acceder a los elementos de una lista se puede realizar de diferentes maneras, mediante el índice o con el método slice. El índice empieza por cero, y si se usan indices negativos se obtendría desde el final hacía el principio de la lista. "
   ]
  },
  {
   "cell_type": "code",
   "execution_count": 7,
   "id": "87ae8352",
   "metadata": {},
   "outputs": [
    {
     "data": {
      "text/plain": [
       "3"
      ]
     },
     "execution_count": 7,
     "metadata": {},
     "output_type": "execute_result"
    }
   ],
   "source": [
    "# Primer elemento\n",
    "\n",
    "lista_1[0]"
   ]
  },
  {
   "cell_type": "code",
   "execution_count": 8,
   "id": "91bfd1ef",
   "metadata": {},
   "outputs": [
    {
     "data": {
      "text/plain": [
       "5"
      ]
     },
     "execution_count": 8,
     "metadata": {},
     "output_type": "execute_result"
    }
   ],
   "source": [
    "# Segundo elemento\n",
    "\n",
    "lista_1[1]"
   ]
  },
  {
   "cell_type": "code",
   "execution_count": 9,
   "id": "079bab97",
   "metadata": {},
   "outputs": [
    {
     "data": {
      "text/plain": [
       "98"
      ]
     },
     "execution_count": 9,
     "metadata": {},
     "output_type": "execute_result"
    }
   ],
   "source": [
    "# Último elemento\n",
    "\n",
    "lista_1[-1]"
   ]
  },
  {
   "cell_type": "code",
   "execution_count": 10,
   "id": "b4037a8e",
   "metadata": {},
   "outputs": [
    {
     "data": {
      "text/plain": [
       "36"
      ]
     },
     "execution_count": 10,
     "metadata": {},
     "output_type": "execute_result"
    }
   ],
   "source": [
    "# Penúltimo elemento\n",
    "\n",
    "lista_1[-2]"
   ]
  },
  {
   "cell_type": "markdown",
   "id": "8a52a913",
   "metadata": {},
   "source": [
    "Para usar el método slice debemos usar dos argumentos el inicio y el final. Se puede omitir cualquiera de los dos argumentos, pero siempre dejando el carácter `:`.\n",
    "\n",
    "        list[start:end]"
   ]
  },
  {
   "cell_type": "code",
   "execution_count": 11,
   "id": "efdd6d86",
   "metadata": {},
   "outputs": [
    {
     "data": {
      "text/plain": [
       "[3, 5, 4, 12]"
      ]
     },
     "execution_count": 11,
     "metadata": {},
     "output_type": "execute_result"
    }
   ],
   "source": [
    "# Del primer al cuarto elemento\n",
    "\n",
    "lista_1[0:4]"
   ]
  },
  {
   "cell_type": "code",
   "execution_count": 12,
   "id": "de9ea32d",
   "metadata": {},
   "outputs": [
    {
     "data": {
      "text/plain": [
       "[3, 5, 4, 12]"
      ]
     },
     "execution_count": 12,
     "metadata": {},
     "output_type": "execute_result"
    }
   ],
   "source": [
    "# Omitiendo argumentos\n",
    "\n",
    "lista_1[:4]"
   ]
  },
  {
   "cell_type": "code",
   "execution_count": 14,
   "id": "d02ca0a6",
   "metadata": {},
   "outputs": [
    {
     "data": {
      "text/plain": [
       "[4, 12, 36, 98]"
      ]
     },
     "execution_count": 14,
     "metadata": {},
     "output_type": "execute_result"
    }
   ],
   "source": [
    "# Omitiendo argumentos II\n",
    "\n",
    "lista_1[2:]"
   ]
  },
  {
   "cell_type": "markdown",
   "id": "25614aa2",
   "metadata": {},
   "source": [
    "El método también tiene un tercer argumento que se utiliza para saltar valores en base a dicho valor introducido:\n",
    "\n",
    "        list[start:end:step]"
   ]
  },
  {
   "cell_type": "code",
   "execution_count": 13,
   "id": "ac6a875e",
   "metadata": {},
   "outputs": [
    {
     "data": {
      "text/plain": [
       "[3, 12]"
      ]
     },
     "execution_count": 13,
     "metadata": {},
     "output_type": "execute_result"
    }
   ],
   "source": [
    "# Desde el primero al último de tres en tres\n",
    "\n",
    "lista_1[::3]"
   ]
  },
  {
   "cell_type": "markdown",
   "id": "3aea17a0",
   "metadata": {},
   "source": [
    "## Métodos de las listas\n",
    "\n",
    "Dentro de un objeto de tipo `list`existen funciones predefinidas."
   ]
  },
  {
   "cell_type": "markdown",
   "id": "1dfb95c6",
   "metadata": {},
   "source": [
    "### Append\n",
    "\n",
    "Agrega un elemento al final de la lista."
   ]
  },
  {
   "cell_type": "code",
   "execution_count": 4,
   "id": "baa8571c",
   "metadata": {},
   "outputs": [],
   "source": [
    "# Añado valores a la lista 1\n",
    "\n",
    "lista_1.append(100)\n",
    "\n",
    "lista_1.append(200)"
   ]
  },
  {
   "cell_type": "markdown",
   "id": "a56cf029",
   "metadata": {},
   "source": [
    "### Extend\n",
    "\n",
    "Añade un listado de valores a una lista."
   ]
  },
  {
   "cell_type": "code",
   "execution_count": 6,
   "id": "b39a444a",
   "metadata": {},
   "outputs": [],
   "source": [
    "# Añado valores a la lista 2\n",
    "\n",
    "lista_aux = ['feliz', 'triste']\n",
    "\n",
    "lista_2.extend(lista_aux)"
   ]
  },
  {
   "cell_type": "markdown",
   "id": "93dc89a7",
   "metadata": {},
   "source": [
    "### Insert\n",
    "\n",
    "Inserta un valor a la lista en una posición determinada."
   ]
  },
  {
   "cell_type": "code",
   "execution_count": 5,
   "id": "c7550268",
   "metadata": {},
   "outputs": [],
   "source": [
    "# Inserto un valor en la lista 1\n",
    "\n",
    "lista_1.insert(99, 1)"
   ]
  },
  {
   "cell_type": "markdown",
   "id": "f283deef",
   "metadata": {},
   "source": [
    "### Remove\n",
    "\n",
    "Elimina un valor de la lista."
   ]
  },
  {
   "cell_type": "code",
   "execution_count": null,
   "id": "8d285da1",
   "metadata": {},
   "outputs": [],
   "source": [
    "# Elimino un valor de la lista.\n",
    "\n",
    "lista_1.remove(1)"
   ]
  },
  {
   "cell_type": "markdown",
   "id": "0e602882",
   "metadata": {},
   "source": [
    "### Pop\n",
    "\n",
    "Se extra el último valor de la lista. Este valor se elimina de la lista."
   ]
  },
  {
   "cell_type": "code",
   "execution_count": 14,
   "id": "d70c627d",
   "metadata": {},
   "outputs": [
    {
     "name": "stdout",
     "output_type": "stream",
     "text": [
      "100\n",
      "[3, 5, 4, 12, 36, 98]\n"
     ]
    }
   ],
   "source": [
    "# Obtengo el último valor de la lista\n",
    "\n",
    "valor = lista_1.pop()\n",
    "\n",
    "print(valor)\n",
    "\n",
    "print(lista_1) # Falta el último valor."
   ]
  },
  {
   "cell_type": "markdown",
   "id": "00765532",
   "metadata": {},
   "source": [
    "### Index\n",
    "\n",
    "Obtiene el indice de un valor en la lista."
   ]
  },
  {
   "cell_type": "code",
   "execution_count": 10,
   "id": "ea2b7c5e",
   "metadata": {},
   "outputs": [
    {
     "data": {
      "text/plain": [
       "0"
      ]
     },
     "execution_count": 10,
     "metadata": {},
     "output_type": "execute_result"
    }
   ],
   "source": [
    "# Obtengo el índice de un valor\n",
    "\n",
    "lista_1.index(3)"
   ]
  },
  {
   "cell_type": "markdown",
   "id": "755a93fd",
   "metadata": {},
   "source": [
    "### Count\n",
    "\n",
    "Devuelve el número de valores que contiene la lista."
   ]
  },
  {
   "cell_type": "code",
   "execution_count": 12,
   "id": "2f07f35d",
   "metadata": {},
   "outputs": [
    {
     "data": {
      "text/plain": [
       "1"
      ]
     },
     "execution_count": 12,
     "metadata": {},
     "output_type": "execute_result"
    }
   ],
   "source": [
    "# Obtengo el número de elementos de la lista.\n",
    "\n",
    "lista_1.count(3)"
   ]
  },
  {
   "cell_type": "code",
   "execution_count": 13,
   "id": "59be9dea",
   "metadata": {},
   "outputs": [
    {
     "data": {
      "text/plain": [
       "7"
      ]
     },
     "execution_count": 13,
     "metadata": {},
     "output_type": "execute_result"
    }
   ],
   "source": [
    "# Otro ejemplo para obtener el núero de elementos de la lista.\n",
    "\n",
    "len(lista_1)"
   ]
  },
  {
   "cell_type": "markdown",
   "id": "e527ca7d",
   "metadata": {},
   "source": [
    "### Sort\n",
    "\n",
    "Ordena los valores de la lista."
   ]
  },
  {
   "cell_type": "code",
   "execution_count": 18,
   "id": "0804c1e4",
   "metadata": {},
   "outputs": [
    {
     "name": "stdout",
     "output_type": "stream",
     "text": [
      "[3, 4, 5, 12, 36, 98]\n"
     ]
    }
   ],
   "source": [
    "# Ordeno la lista 1\n",
    "\n",
    "lista_1.sort()\n",
    "\n",
    "print(lista_1)  "
   ]
  },
  {
   "cell_type": "markdown",
   "id": "c36ce519",
   "metadata": {},
   "source": [
    "### Reverse\n",
    "\n",
    "Invierte el orden de los valores de la lista."
   ]
  },
  {
   "cell_type": "code",
   "execution_count": 19,
   "id": "b6dd6ebb",
   "metadata": {},
   "outputs": [
    {
     "name": "stdout",
     "output_type": "stream",
     "text": [
      "[98, 36, 12, 5, 4, 3]\n"
     ]
    }
   ],
   "source": [
    "# Ordeno de manera inversa.\n",
    "\n",
    "lista_1.sort(reverse=True)\n",
    "\n",
    "print(lista_1)"
   ]
  },
  {
   "cell_type": "markdown",
   "id": "f84d5346",
   "metadata": {},
   "source": [
    "### Copy\n",
    "\n",
    "Copia la lista en otra lista."
   ]
  },
  {
   "cell_type": "code",
   "execution_count": null,
   "id": "87e968da",
   "metadata": {},
   "outputs": [
    {
     "name": "stdout",
     "output_type": "stream",
     "text": [
      "[98, 36, 12, 5, 4, 3]\n"
     ]
    }
   ],
   "source": [
    "# Copio la lista 1 en la lista 4.\n",
    "\n",
    "lista_4 = lista_1.copy()\n",
    "\n",
    "print(lista_4)"
   ]
  },
  {
   "cell_type": "markdown",
   "id": "145c6b4f",
   "metadata": {},
   "source": [
    "### Clear\n",
    "\n",
    "Vacía la lista de valores."
   ]
  },
  {
   "cell_type": "code",
   "execution_count": 21,
   "id": "9ab64791",
   "metadata": {},
   "outputs": [
    {
     "name": "stdout",
     "output_type": "stream",
     "text": [
      "[]\n"
     ]
    }
   ],
   "source": [
    "# Vacío la lista.\n",
    "\n",
    "lista_1.clear()\n",
    "\n",
    "print(lista_1)"
   ]
  }
 ],
 "metadata": {
  "kernelspec": {
   "display_name": "Python 3",
   "language": "python",
   "name": "python3"
  },
  "language_info": {
   "codemirror_mode": {
    "name": "ipython",
    "version": 3
   },
   "file_extension": ".py",
   "mimetype": "text/x-python",
   "name": "python",
   "nbconvert_exporter": "python",
   "pygments_lexer": "ipython3",
   "version": "3.11.9"
  }
 },
 "nbformat": 4,
 "nbformat_minor": 5
}
