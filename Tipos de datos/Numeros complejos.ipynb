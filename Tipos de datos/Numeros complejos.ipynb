{
 "cells": [
  {
   "cell_type": "markdown",
   "id": "08d6b2c2",
   "metadata": {},
   "source": [
    "# Numeros complejos"
   ]
  },
  {
   "cell_type": "markdown",
   "id": "94dc0b63",
   "metadata": {},
   "source": [
    "Los números complejos son aquellas constantes que se han usado en matemáticas como PI, número imaginario, ..."
   ]
  },
  {
   "cell_type": "markdown",
   "id": "55d99f2e",
   "metadata": {},
   "source": [
    "## Número imaginario\n",
    "\n",
    "Se representa con `1j`.\n"
   ]
  },
  {
   "cell_type": "code",
   "execution_count": null,
   "id": "e18740a9",
   "metadata": {},
   "outputs": [
    {
     "name": "stdout",
     "output_type": "stream",
     "text": [
      "El número imaginario es: 1j\n",
      "El tipo es: <class 'complex'>\n",
      "El resultado de la suma es: (4+1j)\n"
     ]
    }
   ],
   "source": [
    "numero = 1j\n",
    "\n",
    "print(\"El número imaginario es:\", numero)\n"
   ]
  },
  {
   "cell_type": "code",
   "execution_count": 4,
   "id": "6afc23af",
   "metadata": {},
   "outputs": [
    {
     "name": "stdout",
     "output_type": "stream",
     "text": [
      "El resultado de la suma es: (4+1j)\n"
     ]
    }
   ],
   "source": [
    "resultado = 4 + numero\n",
    "\n",
    "print(\"El resultado de la suma es:\", resultado)"
   ]
  },
  {
   "cell_type": "code",
   "execution_count": 7,
   "id": "9f7ef611",
   "metadata": {},
   "outputs": [
    {
     "name": "stdout",
     "output_type": "stream",
     "text": [
      "El número imaginario es: 4.0\n",
      "El número real es: 3.0\n"
     ]
    }
   ],
   "source": [
    "numero = 3 + 4j\n",
    "\n",
    "print(\"El número imaginario es:\", numero.imag)\n",
    "print(\"El número real es:\", numero.real)"
   ]
  },
  {
   "cell_type": "code",
   "execution_count": 5,
   "id": "61baa1db",
   "metadata": {},
   "outputs": [
    {
     "name": "stdout",
     "output_type": "stream",
     "text": [
      "El tipo es: <class 'complex'>\n"
     ]
    }
   ],
   "source": [
    "print(\"El tipo es:\", type(numero))"
   ]
  }
 ],
 "metadata": {
  "kernelspec": {
   "display_name": "Python 3",
   "language": "python",
   "name": "python3"
  },
  "language_info": {
   "codemirror_mode": {
    "name": "ipython",
    "version": 3
   },
   "file_extension": ".py",
   "mimetype": "text/x-python",
   "name": "python",
   "nbconvert_exporter": "python",
   "pygments_lexer": "ipython3",
   "version": "3.11.9"
  }
 },
 "nbformat": 4,
 "nbformat_minor": 5
}
