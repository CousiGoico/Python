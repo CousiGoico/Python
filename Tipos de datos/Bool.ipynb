{
 "cells": [
  {
   "cell_type": "markdown",
   "id": "e1c409bf",
   "metadata": {},
   "source": [
    "# Bool"
   ]
  },
  {
   "cell_type": "markdown",
   "id": "7792dd2d",
   "metadata": {},
   "source": [
    "Los valores bool o booleanos sólo se les puede asignar los valores `True`o `False`."
   ]
  },
  {
   "cell_type": "code",
   "execution_count": 4,
   "id": "b6ff7113",
   "metadata": {},
   "outputs": [
    {
     "name": "stdout",
     "output_type": "stream",
     "text": [
      "False\n",
      "Check: False\n"
     ]
    }
   ],
   "source": [
    "check = False\n",
    "\n",
    "print(check)\n",
    "print(\"Check: \" + str(check))"
   ]
  },
  {
   "cell_type": "code",
   "execution_count": 5,
   "id": "71c55669",
   "metadata": {},
   "outputs": [
    {
     "name": "stdout",
     "output_type": "stream",
     "text": [
      "El tipo de check es: <class 'bool'>\n"
     ]
    }
   ],
   "source": [
    "check = True\n",
    "\n",
    "print(\"El tipo de check es: \" + str(type(check)))"
   ]
  },
  {
   "cell_type": "code",
   "execution_count": null,
   "id": "7a74ba9d",
   "metadata": {},
   "outputs": [
    {
     "name": "stdout",
     "output_type": "stream",
     "text": [
      "El valor de check es: False\n",
      "El valor de check es: True\n"
     ]
    }
   ],
   "source": [
    "check = bool(0)\n",
    "\n",
    "print(\"El valor de check es: \" + str(check))\n",
    "\n",
    "check = bool(1) # Todo aquello que no sea 0 es True\n",
    "\n",
    "print(\"El valor de check es: \" + str(check))"
   ]
  },
  {
   "cell_type": "code",
   "execution_count": 8,
   "id": "23abf515",
   "metadata": {},
   "outputs": [
    {
     "name": "stdout",
     "output_type": "stream",
     "text": [
      "isInstance: True\n",
      "isSubClass: True\n"
     ]
    }
   ],
   "source": [
    "isInstance = isinstance(True, int)\n",
    "\n",
    "print(\"isInstance: \" + str(isInstance))\n",
    "\n",
    "isSubClass = issubclass(bool, int)\n",
    "\n",
    "print(\"isSubClass: \" + str(isSubClass))"
   ]
  }
 ],
 "metadata": {
  "kernelspec": {
   "display_name": "Python 3",
   "language": "python",
   "name": "python3"
  },
  "language_info": {
   "codemirror_mode": {
    "name": "ipython",
    "version": 3
   },
   "file_extension": ".py",
   "mimetype": "text/x-python",
   "name": "python",
   "nbconvert_exporter": "python",
   "pygments_lexer": "ipython3",
   "version": "3.11.9"
  }
 },
 "nbformat": 4,
 "nbformat_minor": 5
}
