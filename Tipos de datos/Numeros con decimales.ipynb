{
 "cells": [
  {
   "cell_type": "markdown",
   "id": "d388a522",
   "metadata": {},
   "source": [
    "# Números con decimales"
   ]
  },
  {
   "cell_type": "markdown",
   "id": "ac19befd",
   "metadata": {},
   "source": [
    "Los números con decimales o float son aquellos que tiene su parte decimal. Para ello usamos el punto flotante `.`."
   ]
  },
  {
   "cell_type": "code",
   "execution_count": 1,
   "id": "fe9f55a8",
   "metadata": {},
   "outputs": [
    {
     "name": "stdout",
     "output_type": "stream",
     "text": [
      "El número es:  5.36\n"
     ]
    }
   ],
   "source": [
    "numero = 5.36\n",
    "\n",
    "print(\"El número es: \", numero)"
   ]
  },
  {
   "cell_type": "markdown",
   "id": "04de0926",
   "metadata": {},
   "source": [
    "# Type\n",
    "\n",
    "Devuelve el tipo de dato del valor numérico."
   ]
  },
  {
   "cell_type": "code",
   "execution_count": null,
   "id": "0b22357b",
   "metadata": {},
   "outputs": [
    {
     "name": "stdout",
     "output_type": "stream",
     "text": [
      "El tipo es:  <class 'float'>\n"
     ]
    }
   ],
   "source": [
    "numero = 6.251425\n",
    "\n",
    "print(\"El tipo es: \", type(numero))"
   ]
  },
  {
   "cell_type": "markdown",
   "id": "d04c251b",
   "metadata": {},
   "source": [
    "## Float\n",
    "\n",
    "Conversión de un valor a número con parte decimal."
   ]
  },
  {
   "cell_type": "code",
   "execution_count": 3,
   "id": "d07e8bd2",
   "metadata": {},
   "outputs": [
    {
     "name": "stdout",
     "output_type": "stream",
     "text": [
      "El número es:  4.1525\n"
     ]
    }
   ],
   "source": [
    "numero = \"4.1525\"\n",
    "\n",
    "print(\"El número es: \", float(numero))"
   ]
  }
 ],
 "metadata": {
  "kernelspec": {
   "display_name": "Python 3",
   "language": "python",
   "name": "python3"
  },
  "language_info": {
   "codemirror_mode": {
    "name": "ipython",
    "version": 3
   },
   "file_extension": ".py",
   "mimetype": "text/x-python",
   "name": "python",
   "nbconvert_exporter": "python",
   "pygments_lexer": "ipython3",
   "version": "3.11.9"
  }
 },
 "nbformat": 4,
 "nbformat_minor": 5
}
