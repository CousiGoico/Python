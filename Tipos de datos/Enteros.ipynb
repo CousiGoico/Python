{
 "cells": [
  {
   "cell_type": "markdown",
   "id": "cfeb5c0c",
   "metadata": {},
   "source": [
    "# Enteros"
   ]
  },
  {
   "cell_type": "markdown",
   "id": "be63879a",
   "metadata": {},
   "source": [
    "Tipo de dato que permite utiizar números positivos y negativos sin la parte decimal. "
   ]
  },
  {
   "cell_type": "code",
   "execution_count": 1,
   "id": "6a337f93",
   "metadata": {},
   "outputs": [
    {
     "name": "stdout",
     "output_type": "stream",
     "text": [
      "El número es: 54\n"
     ]
    }
   ],
   "source": [
    "numero = 54\n",
    "\n",
    "print(\"El número es:\", numero)"
   ]
  },
  {
   "cell_type": "code",
   "execution_count": 4,
   "id": "1149bc72",
   "metadata": {},
   "outputs": [
    {
     "name": "stdout",
     "output_type": "stream",
     "text": [
      "El número es: -147\n"
     ]
    }
   ],
   "source": [
    "numero = -147\n",
    "\n",
    "print(\"El número es:\", numero)"
   ]
  },
  {
   "cell_type": "markdown",
   "id": "2a924129",
   "metadata": {},
   "source": [
    "## Abs\n",
    "\n",
    "Método que permite devolver el valor positivo del número indicado."
   ]
  },
  {
   "cell_type": "code",
   "execution_count": null,
   "id": "2e3f1ff2",
   "metadata": {},
   "outputs": [],
   "source": [
    "numero = -159\n",
    "\n",
    "print(\"El número absoluto es:\", abs(numero))"
   ]
  },
  {
   "cell_type": "markdown",
   "id": "44d78608",
   "metadata": {},
   "source": [
    "## Type\n",
    "\n",
    "Obtiene el tipo de datos."
   ]
  },
  {
   "cell_type": "code",
   "execution_count": null,
   "id": "960fea0b",
   "metadata": {},
   "outputs": [
    {
     "name": "stdout",
     "output_type": "stream",
     "text": [
      "El tipo de dato es: <class 'int'>\n"
     ]
    }
   ],
   "source": [
    "numero = 145\n",
    "\n",
    "print(\"El tipo de dato es:\", type(numero))"
   ]
  },
  {
   "cell_type": "markdown",
   "id": "823cadbb",
   "metadata": {},
   "source": [
    "## Int\n",
    "\n",
    "Permite la conversión a valor numérico de un valor."
   ]
  },
  {
   "cell_type": "code",
   "execution_count": 3,
   "id": "1f94d9a3",
   "metadata": {},
   "outputs": [
    {
     "name": "stdout",
     "output_type": "stream",
     "text": [
      "El número es: 369\n"
     ]
    }
   ],
   "source": [
    "numero = \"369\"\n",
    "\n",
    "print(\"El número es:\", int(numero))"
   ]
  }
 ],
 "metadata": {
  "kernelspec": {
   "display_name": "Python 3",
   "language": "python",
   "name": "python3"
  },
  "language_info": {
   "codemirror_mode": {
    "name": "ipython",
    "version": 3
   },
   "file_extension": ".py",
   "mimetype": "text/x-python",
   "name": "python",
   "nbconvert_exporter": "python",
   "pygments_lexer": "ipython3",
   "version": "3.11.9"
  }
 },
 "nbformat": 4,
 "nbformat_minor": 5
}
