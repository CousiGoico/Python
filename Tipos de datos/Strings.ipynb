{
 "cells": [
  {
   "cell_type": "markdown",
   "id": "627ce7ef",
   "metadata": {},
   "source": [
    "# String"
   ]
  },
  {
   "cell_type": "markdown",
   "id": "1d19eec0",
   "metadata": {},
   "source": [
    "Un `string` es un texto, que se puede definir con comillas simples, dobles o con triple commilla (suele usarse para escribir párrafos). Una buena práctica es internar usar siempre las mismas comillas en todo el proyecto."
   ]
  },
  {
   "cell_type": "code",
   "execution_count": 17,
   "id": "2dd23339",
   "metadata": {},
   "outputs": [
    {
     "name": "stdout",
     "output_type": "stream",
     "text": [
      "rojo\n"
     ]
    }
   ],
   "source": [
    "color = \"rojo\"\n",
    "\n",
    "print (color)"
   ]
  },
  {
   "cell_type": "code",
   "execution_count": 18,
   "id": "d3f50ea1",
   "metadata": {},
   "outputs": [
    {
     "name": "stdout",
     "output_type": "stream",
     "text": [
      "tres\n"
     ]
    }
   ],
   "source": [
    "numero = 'tres'\n",
    "\n",
    "print (numero)"
   ]
  },
  {
   "cell_type": "code",
   "execution_count": 19,
   "id": "a98687c6",
   "metadata": {},
   "outputs": [
    {
     "name": "stdout",
     "output_type": "stream",
     "text": [
      "Hola,\n",
      " mundo!\n"
     ]
    }
   ],
   "source": [
    "triple_comilla = '''Hola,\n",
    " mundo!'''\n",
    "\n",
    "print (triple_comilla)"
   ]
  },
  {
   "cell_type": "markdown",
   "id": "0efa6bcd",
   "metadata": {},
   "source": [
    "## Métodos"
   ]
  },
  {
   "cell_type": "markdown",
   "id": "9cf2ba4c",
   "metadata": {},
   "source": [
    "Un objeto de tipo string tiene varias funciones internas definidias que nos ayuda a interactuar con ellas."
   ]
  },
  {
   "cell_type": "markdown",
   "id": "f6cf9671",
   "metadata": {},
   "source": [
    "### Join\n",
    "\n",
    "El método join nos permite unir diferentes strings."
   ]
  },
  {
   "cell_type": "code",
   "execution_count": 20,
   "id": "972b6841",
   "metadata": {},
   "outputs": [
    {
     "name": "stdout",
     "output_type": "stream",
     "text": [
      "Hola, mundo!\n"
     ]
    }
   ],
   "source": [
    "var1 = \"Hola, \"\n",
    "var2 = \"mundo\"\n",
    "var3 = \"!\"\n",
    "\n",
    "print (''.join([var1, var2, var3]))"
   ]
  },
  {
   "cell_type": "code",
   "execution_count": 21,
   "id": "4de0c861",
   "metadata": {},
   "outputs": [
    {
     "name": "stdout",
     "output_type": "stream",
     "text": [
      "ArithmeticError AssertionError AttributeError EOFError ImportError IndexError KeyError KeyboardInterrupt MemoryError NameError OSError OverflowError ReferenceError RuntimeError StopIteration SyntaxError IndentationError TabError SystemExit TypeError UnboundLocalError UnicodeDecodeError UnicodeEncodeError UnicodeTranslateError ValueError\n"
     ]
    }
   ],
   "source": [
    "lista = [\"ArithmeticError\", \"AssertionError\", \"AttributeError\", \"EOFError\", \"ImportError\", \"IndexError\", \"KeyError\", \"KeyboardInterrupt\", \"MemoryError\", \"NameError\", \"OSError\", \"OverflowError\", \"ReferenceError\", \"RuntimeError\", \"StopIteration\", \"SyntaxError\", \"IndentationError\", \"TabError\", \"SystemExit\", \"TypeError\", \"UnboundLocalError\", \"UnicodeDecodeError\", \"UnicodeEncodeError\", \"UnicodeTranslateError\", \"ValueError\"]\n",
    "print(' '.join(lista))"
   ]
  },
  {
   "cell_type": "markdown",
   "id": "48dfc415",
   "metadata": {},
   "source": [
    "## Split\n",
    "\n",
    "Divide un texto por un carácter o texto, conviertiendolo en un listado. El carácter o texto desaparece. Por defecto, es el carácter espacio ` `."
   ]
  },
  {
   "cell_type": "code",
   "execution_count": 22,
   "id": "5ba52632",
   "metadata": {},
   "outputs": [
    {
     "name": "stdout",
     "output_type": "stream",
     "text": [
      "['Hola', 'soy', 'Javier', 'y', 'me', 'gusta', 'programar.']\n"
     ]
    }
   ],
   "source": [
    "texto = \"Hola soy Javier y me gusta programar.\"\n",
    "\n",
    "print(texto.split())"
   ]
  },
  {
   "cell_type": "code",
   "execution_count": 23,
   "id": "fcdff5aa",
   "metadata": {},
   "outputs": [
    {
     "name": "stdout",
     "output_type": "stream",
     "text": [
      "['Hola', 'soy', 'Javier', 'y', 'me', 'gusta', 'programar.']\n"
     ]
    }
   ],
   "source": [
    "texto = \"Hola|soy|Javier|y|me|gusta|programar.\"\n",
    "\n",
    "print(texto.split('|'))"
   ]
  },
  {
   "cell_type": "markdown",
   "id": "33c90673",
   "metadata": {},
   "source": [
    "## Capitalize\n",
    "\n",
    "Pone en mayúscula la primera letra de un texto, dejando el resto en minúscula."
   ]
  },
  {
   "cell_type": "code",
   "execution_count": 24,
   "id": "320c3047",
   "metadata": {},
   "outputs": [
    {
     "name": "stdout",
     "output_type": "stream",
     "text": [
      "Hola soy javier y me gusta programar.\n"
     ]
    }
   ],
   "source": [
    "texto = \"hola soy Javier y me gusta programar.\"\n",
    "\n",
    "print(texto.capitalize())"
   ]
  },
  {
   "cell_type": "markdown",
   "id": "285fae5c",
   "metadata": {},
   "source": [
    "## Upper\n",
    "\n",
    "Pone en mayúscula todo el texto."
   ]
  },
  {
   "cell_type": "code",
   "execution_count": 25,
   "id": "621dc79c",
   "metadata": {},
   "outputs": [
    {
     "name": "stdout",
     "output_type": "stream",
     "text": [
      "HOLA SOY JAVIER Y ME GUSTA PROGRAMAR.\n"
     ]
    }
   ],
   "source": [
    "texto = \"hola soy Javier y me gusta programar.\"\n",
    "\n",
    "print(texto.upper())"
   ]
  },
  {
   "cell_type": "markdown",
   "id": "5ee1b967",
   "metadata": {},
   "source": [
    "## Lower\n",
    "\n",
    "Pone en minúscula todo el texto."
   ]
  },
  {
   "cell_type": "code",
   "execution_count": 26,
   "id": "a7dbc271",
   "metadata": {},
   "outputs": [
    {
     "name": "stdout",
     "output_type": "stream",
     "text": [
      "hola soy javier y me gusta programar.\n"
     ]
    }
   ],
   "source": [
    "texto  = \"HOLA SOY JAVIER Y ME GUSTA PROGRAMAR.\"\n",
    "\n",
    "print(texto.lower())"
   ]
  },
  {
   "cell_type": "markdown",
   "id": "322ba9ca",
   "metadata": {},
   "source": [
    "## Title\n",
    "\n",
    "Pone en mayúscula la primera letra de cada palabra. Ojo! hay ciertos carácters como los numéros, la comilla o apostrofe, que la considera como espacio. Para evitarlo, lo tienes que escapar con el carácter `\\`."
   ]
  },
  {
   "cell_type": "code",
   "execution_count": 27,
   "id": "052bb55c",
   "metadata": {},
   "outputs": [
    {
     "name": "stdout",
     "output_type": "stream",
     "text": [
      "Hola Soy Javier Y Me Gusta Programar.\n"
     ]
    }
   ],
   "source": [
    "texto = \"Hola soy Javier y me gusta programar.\"\n",
    "\n",
    "print(texto.title())"
   ]
  },
  {
   "cell_type": "code",
   "execution_count": 34,
   "id": "5e8c3a1d",
   "metadata": {},
   "outputs": [
    {
     "name": "stdout",
     "output_type": "stream",
     "text": [
      "I'M Javier And I'M Developer.\n"
     ]
    }
   ],
   "source": [
    "texto = \"I'm Javier and I'm developer.\"\n",
    "\n",
    "print(texto.title())"
   ]
  },
  {
   "cell_type": "code",
   "execution_count": 33,
   "id": "5a783253",
   "metadata": {},
   "outputs": [
    {
     "name": "stdout",
     "output_type": "stream",
     "text": [
      "Welcome To My 2Nd World\n"
     ]
    }
   ],
   "source": [
    "texto = \"Welcome to my 2nd world\"\n",
    "\n",
    "print(texto.title())"
   ]
  },
  {
   "cell_type": "markdown",
   "id": "2068046a",
   "metadata": {},
   "source": [
    "## Replace\n",
    "\n",
    "Permite cambiar un carácter o texto por otro."
   ]
  },
  {
   "cell_type": "code",
   "execution_count": 35,
   "id": "6fc97dda",
   "metadata": {},
   "outputs": [
    {
     "name": "stdout",
     "output_type": "stream",
     "text": [
      "Buenos días, me llamo Javier\n"
     ]
    }
   ],
   "source": [
    "texto = \"Hola, me llamo Javier\"\n",
    "\n",
    "print(texto.replace(\"Hola\", \"Buenos días\"))"
   ]
  },
  {
   "cell_type": "markdown",
   "id": "ac67ef0b",
   "metadata": {},
   "source": [
    "## Count\n",
    "\n",
    "Te devuelve el número de veces que aparece un carácter o texto dentro de otro."
   ]
  },
  {
   "cell_type": "code",
   "execution_count": 36,
   "id": "5423bf4e",
   "metadata": {},
   "outputs": [
    {
     "name": "stdout",
     "output_type": "stream",
     "text": [
      "2\n"
     ]
    }
   ],
   "source": [
    "texto = \"Hola, me llamo Javier\"\n",
    "\n",
    "print(texto.count(\"e\"))"
   ]
  },
  {
   "cell_type": "markdown",
   "id": "136db2e2",
   "metadata": {},
   "source": [
    "## Strip\n",
    "\n",
    "Elimina una letra o texto por ambos lados de un texto. Por defecto, es el carácter espacio ` `."
   ]
  },
  {
   "cell_type": "code",
   "execution_count": 44,
   "id": "4f205c09",
   "metadata": {},
   "outputs": [
    {
     "name": "stdout",
     "output_type": "stream",
     "text": [
      "Hola, me llamo Javier\n"
     ]
    }
   ],
   "source": [
    "texto = \"AAAHola, me llamo JavierAAA\"\n",
    "\n",
    "print(texto.strip(\"AAA\"))"
   ]
  },
  {
   "cell_type": "markdown",
   "id": "cc88bb9b",
   "metadata": {},
   "source": [
    "## Lstrip\n",
    "\n",
    "Igual que el strip pero eliminando por la izquierda únicamente."
   ]
  },
  {
   "cell_type": "code",
   "execution_count": 41,
   "id": "e35f93dc",
   "metadata": {},
   "outputs": [
    {
     "name": "stdout",
     "output_type": "stream",
     "text": [
      "Hola, me llamo Javier\n"
     ]
    }
   ],
   "source": [
    "texto = \"AAAHola, me llamo Javier\"\n",
    "\n",
    "print(texto.lstrip(\"AAA\"))"
   ]
  },
  {
   "cell_type": "markdown",
   "id": "42c482bb",
   "metadata": {},
   "source": [
    "## Rstrip\n",
    "\n",
    "Igual que en el caso anterior, pero esta vez, elimina el texto por la derecha."
   ]
  },
  {
   "cell_type": "code",
   "execution_count": 43,
   "id": "80682dec",
   "metadata": {},
   "outputs": [
    {
     "name": "stdout",
     "output_type": "stream",
     "text": [
      "Hola, me llamo Javier\n"
     ]
    }
   ],
   "source": [
    "texto = \"Hola, me llamo JavierAAA\"\n",
    "\n",
    "\n",
    "print(texto.rstrip(\"AAA\"))"
   ]
  },
  {
   "cell_type": "markdown",
   "id": "a65ef943",
   "metadata": {},
   "source": [
    "## Islower\n",
    "\n",
    "Devuelve un booleano (True o False) indicando si todo el texto esta en minúscula."
   ]
  },
  {
   "cell_type": "code",
   "execution_count": 45,
   "id": "047fa181",
   "metadata": {},
   "outputs": [
    {
     "name": "stdout",
     "output_type": "stream",
     "text": [
      "True\n"
     ]
    }
   ],
   "source": [
    "texto = \"qwuerty\"\n",
    "\n",
    "print(texto.islower())"
   ]
  },
  {
   "cell_type": "markdown",
   "id": "c80191cf",
   "metadata": {},
   "source": [
    "## Isupper\n",
    "\n",
    "Devuelve un booleano (True o False) indicando si todo el texto esta en mayúscula."
   ]
  },
  {
   "cell_type": "code",
   "execution_count": 46,
   "id": "9a2b2a6a",
   "metadata": {},
   "outputs": [
    {
     "name": "stdout",
     "output_type": "stream",
     "text": [
      "False\n"
     ]
    }
   ],
   "source": [
    "texto = \"qwuerty\"\n",
    "\n",
    "print(texto.isupper())"
   ]
  },
  {
   "cell_type": "markdown",
   "id": "84081177",
   "metadata": {},
   "source": [
    "## Isnumeric\n",
    "\n",
    "Devuelve un booleano (True o False) indicando si todo el texto es un valor numérico."
   ]
  },
  {
   "cell_type": "code",
   "execution_count": 47,
   "id": "6cab254e",
   "metadata": {},
   "outputs": [
    {
     "name": "stdout",
     "output_type": "stream",
     "text": [
      "True\n"
     ]
    }
   ],
   "source": [
    "num = \"95\"\n",
    "\n",
    "print(num.isnumeric())"
   ]
  },
  {
   "cell_type": "markdown",
   "id": "78af8458",
   "metadata": {},
   "source": [
    "## Format\n",
    "\n",
    "Permite la introducción de una variable dentro del texto."
   ]
  },
  {
   "cell_type": "code",
   "execution_count": 49,
   "id": "233b5d49",
   "metadata": {},
   "outputs": [
    {
     "name": "stdout",
     "output_type": "stream",
     "text": [
      "Hola Javier, ¿qué tal estás?\n"
     ]
    }
   ],
   "source": [
    "nombre = \"Javier\"\n",
    "\n",
    "texto = \"Hola {}, ¿qué tal estás?\".format(nombre)\n",
    "\n",
    "print(texto)"
   ]
  },
  {
   "cell_type": "code",
   "execution_count": 50,
   "id": "69420a5a",
   "metadata": {},
   "outputs": [
    {
     "name": "stdout",
     "output_type": "stream",
     "text": [
      "Hola Javier, ¿qué tal estás?\n"
     ]
    }
   ],
   "source": [
    "nombre = \"Javier\"\n",
    "\n",
    "texto = f\"Hola {nombre}, ¿qué tal estás?\"\n",
    "\n",
    "print(texto)"
   ]
  },
  {
   "cell_type": "markdown",
   "id": "24b08f0a",
   "metadata": {},
   "source": [
    "## Raw\n",
    "\n",
    "Se pone la letra `r` delante del texto para usarlo en crudo y ver todos los carácteres especiales que pueda tener nuestro texto."
   ]
  },
  {
   "cell_type": "code",
   "execution_count": 55,
   "id": "5de7be6b",
   "metadata": {},
   "outputs": [
    {
     "name": "stdout",
     "output_type": "stream",
     "text": [
      "Hola,\n",
      "mundo!\n",
      "\n",
      "Hola,\\nmundo!\n"
     ]
    }
   ],
   "source": [
    "texto = \"Hola,\\nmundo!\"\n",
    "\n",
    "print(texto)\n",
    "\n",
    "print()\n",
    "\n",
    "texto = r\"Hola,\\nmundo!\"\n",
    "\n",
    "print(texto)"
   ]
  }
 ],
 "metadata": {
  "kernelspec": {
   "display_name": "Python 3",
   "language": "python",
   "name": "python3"
  },
  "language_info": {
   "codemirror_mode": {
    "name": "ipython",
    "version": 3
   },
   "file_extension": ".py",
   "mimetype": "text/x-python",
   "name": "python",
   "nbconvert_exporter": "python",
   "pygments_lexer": "ipython3",
   "version": "3.11.9"
  }
 },
 "nbformat": 4,
 "nbformat_minor": 5
}
