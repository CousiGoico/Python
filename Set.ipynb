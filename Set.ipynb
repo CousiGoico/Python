{
 "cells": [
  {
   "cell_type": "markdown",
   "id": "c7d5e467",
   "metadata": {},
   "source": [
    "# Set\n",
    "\n",
    "Son listas de elementos únicos. Los elementos están de manera desordenada y son mutables. Se definen con las llaves `{}` o con la palabra reservada `set()`."
   ]
  },
  {
   "cell_type": "code",
   "execution_count": null,
   "id": "0a34be77",
   "metadata": {},
   "outputs": [
    {
     "name": "stdout",
     "output_type": "stream",
     "text": [
      "{False, 1, 2, 3, 1.5, 'Hola'}\n",
      "{1, 2, 3, 4, 5, 6}\n"
     ]
    }
   ],
   "source": [
    "set_1 = {1,3 ,3 ,2,1, False, 'Hola', 1.5, 1, 2, 3}\n",
    "\n",
    "set_2 = set([1, 2, 3, 2, 2, 1, 3, 4, 5, 6])\n",
    "\n",
    "print(set_1)\n",
    "\n",
    "print(set_2)"
   ]
  },
  {
   "cell_type": "markdown",
   "id": "47b16281",
   "metadata": {},
   "source": [
    "## Métodos de los sets"
   ]
  },
  {
   "cell_type": "markdown",
   "id": "35b72838",
   "metadata": {},
   "source": [
    "### 2.1 Add: añades un elemento al set."
   ]
  },
  {
   "cell_type": "code",
   "execution_count": 21,
   "id": "5b29d131",
   "metadata": {},
   "outputs": [
    {
     "name": "stdout",
     "output_type": "stream",
     "text": [
      "{False, 1, 2, 3, 1.5, 'Hola', 4}\n",
      "<class 'set'>\n"
     ]
    }
   ],
   "source": [
    "set_1 = {1,3 ,3 ,2,1, False, 'Hola', 1.5, 1, 2, 3}\n",
    "\n",
    "set_1.add(4)\n",
    "\n",
    "print(set_1)\n",
    "\n",
    "print(type(set_1))"
   ]
  },
  {
   "cell_type": "markdown",
   "id": "bf39996c",
   "metadata": {},
   "source": [
    "### 2.2 Discard: descarta un valor del set. Si no existe no devuelve error."
   ]
  },
  {
   "cell_type": "code",
   "execution_count": 7,
   "id": "bced1f41",
   "metadata": {},
   "outputs": [
    {
     "name": "stdout",
     "output_type": "stream",
     "text": [
      "{False, 2, 3, 1.5, 'Hola', 4}\n"
     ]
    }
   ],
   "source": [
    "set_1.discard(1)\n",
    "\n",
    "print(set_1)"
   ]
  },
  {
   "cell_type": "markdown",
   "id": "c3d8f9bd",
   "metadata": {},
   "source": [
    "### 2.3 Remove: elimina un valor del set. Si no existe devuelve error."
   ]
  },
  {
   "cell_type": "code",
   "execution_count": 12,
   "id": "0ab7f789",
   "metadata": {},
   "outputs": [
    {
     "name": "stdout",
     "output_type": "stream",
     "text": [
      "{False, 2, 1.5, 'Hola'}\n"
     ]
    }
   ],
   "source": [
    "set_1.remove(4)\n",
    "\n",
    "print(set_1)"
   ]
  },
  {
   "cell_type": "code",
   "execution_count": 13,
   "id": "11e7e9ab",
   "metadata": {},
   "outputs": [
    {
     "ename": "KeyError",
     "evalue": "'asdf'",
     "output_type": "error",
     "traceback": [
      "\u001b[1;31m---------------------------------------------------------------------------\u001b[0m",
      "\u001b[1;31mKeyError\u001b[0m                                  Traceback (most recent call last)",
      "Cell \u001b[1;32mIn[13], line 1\u001b[0m\n\u001b[1;32m----> 1\u001b[0m \u001b[43mset_1\u001b[49m\u001b[38;5;241;43m.\u001b[39;49m\u001b[43mremove\u001b[49m\u001b[43m(\u001b[49m\u001b[38;5;124;43m'\u001b[39;49m\u001b[38;5;124;43masdf\u001b[39;49m\u001b[38;5;124;43m'\u001b[39;49m\u001b[43m)\u001b[49m\n",
      "\u001b[1;31mKeyError\u001b[0m: 'asdf'"
     ]
    }
   ],
   "source": [
    "set_1.remove('asdf')"
   ]
  },
  {
   "cell_type": "markdown",
   "id": "925f5eac",
   "metadata": {},
   "source": [
    "### 2.4 Pop: obtiene el primer elemento del set y lo elimina."
   ]
  },
  {
   "cell_type": "code",
   "execution_count": 15,
   "id": "b262544f",
   "metadata": {},
   "outputs": [
    {
     "name": "stdout",
     "output_type": "stream",
     "text": [
      "2\n",
      "{1.5, 'Hola'}\n"
     ]
    }
   ],
   "source": [
    "print(set_1.pop())\n",
    "\n",
    "print(set_1)"
   ]
  },
  {
   "cell_type": "markdown",
   "id": "62c86bf8",
   "metadata": {},
   "source": [
    "### 2.5 Len: obtiene el tamaño o número de elementos."
   ]
  },
  {
   "cell_type": "code",
   "execution_count": 25,
   "id": "1f87c21d",
   "metadata": {},
   "outputs": [
    {
     "name": "stdout",
     "output_type": "stream",
     "text": [
      "7\n"
     ]
    }
   ],
   "source": [
    "print(len(set_1))"
   ]
  },
  {
   "cell_type": "markdown",
   "id": "38e4aa58",
   "metadata": {},
   "source": [
    "### 2.6 Clear: vacía el set de elementos."
   ]
  },
  {
   "cell_type": "code",
   "execution_count": 26,
   "id": "7063d1f4",
   "metadata": {},
   "outputs": [
    {
     "name": "stdout",
     "output_type": "stream",
     "text": [
      "set()\n"
     ]
    }
   ],
   "source": [
    "set_1.clear()\n",
    "\n",
    "print(set_1)"
   ]
  },
  {
   "cell_type": "markdown",
   "id": "51cf4b29",
   "metadata": {},
   "source": [
    "## Operaciones del Set"
   ]
  },
  {
   "cell_type": "markdown",
   "id": "32367b18",
   "metadata": {},
   "source": [
    "### Union: une dos sets en uno."
   ]
  },
  {
   "cell_type": "code",
   "execution_count": null,
   "id": "b0dde93a",
   "metadata": {},
   "outputs": [
    {
     "data": {
      "text/plain": [
       "{1, 1.5, 2, 3, 4, 5, 6, 'Hola'}"
      ]
     },
     "execution_count": 17,
     "metadata": {},
     "output_type": "execute_result"
    }
   ],
   "source": [
    "set_1 = {1,3 ,3 ,2,1, False, 'Hola', 1.5, 1, 2, 3}\n",
    "\n",
    "set_2 = set([1, 2, 3, 2, 2, 1, 3, 4, 5, 6])\n",
    "\n",
    "set_1.union(set_2)"
   ]
  },
  {
   "cell_type": "markdown",
   "id": "2934f0f7",
   "metadata": {},
   "source": [
    "### Intersección: obtiene los valores existentes, que coinciden, en ambos Sets."
   ]
  },
  {
   "cell_type": "code",
   "execution_count": 18,
   "id": "c462a836",
   "metadata": {},
   "outputs": [
    {
     "data": {
      "text/plain": [
       "set()"
      ]
     },
     "execution_count": 18,
     "metadata": {},
     "output_type": "execute_result"
    }
   ],
   "source": [
    "set_1.intersection(set_2)"
   ]
  },
  {
   "cell_type": "markdown",
   "id": "e8c1f99e",
   "metadata": {},
   "source": [
    "### Subconjunto: indica si un set esta dentro del otro."
   ]
  },
  {
   "cell_type": "code",
   "execution_count": 19,
   "id": "cd25bfe6",
   "metadata": {},
   "outputs": [
    {
     "data": {
      "text/plain": [
       "False"
      ]
     },
     "execution_count": 19,
     "metadata": {},
     "output_type": "execute_result"
    }
   ],
   "source": [
    "set_1.issubset(set_2)"
   ]
  },
  {
   "cell_type": "markdown",
   "id": "951d6d0e",
   "metadata": {},
   "source": [
    "### Superconjunto: indica si uno contiene al otro."
   ]
  },
  {
   "cell_type": "code",
   "execution_count": 20,
   "id": "6ed2f841",
   "metadata": {},
   "outputs": [
    {
     "data": {
      "text/plain": [
       "False"
      ]
     },
     "execution_count": 20,
     "metadata": {},
     "output_type": "execute_result"
    }
   ],
   "source": [
    "set_1.issuperset(set_2)"
   ]
  },
  {
   "cell_type": "markdown",
   "id": "7faad961",
   "metadata": {},
   "source": [
    "### Difference: indica las diferencias entre los dos sets."
   ]
  },
  {
   "cell_type": "code",
   "execution_count": 27,
   "id": "27130008",
   "metadata": {},
   "outputs": [
    {
     "data": {
      "text/plain": [
       "set()"
      ]
     },
     "execution_count": 27,
     "metadata": {},
     "output_type": "execute_result"
    }
   ],
   "source": [
    "set_1.difference(set_2)"
   ]
  }
 ],
 "metadata": {
  "kernelspec": {
   "display_name": "Python 3",
   "language": "python",
   "name": "python3"
  },
  "language_info": {
   "codemirror_mode": {
    "name": "ipython",
    "version": 3
   },
   "file_extension": ".py",
   "mimetype": "text/x-python",
   "name": "python",
   "nbconvert_exporter": "python",
   "pygments_lexer": "ipython3",
   "version": "3.11.9"
  }
 },
 "nbformat": 4,
 "nbformat_minor": 5
}
