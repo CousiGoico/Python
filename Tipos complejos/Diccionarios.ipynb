{
 "cells": [
  {
   "cell_type": "markdown",
   "id": "0a170542",
   "metadata": {},
   "source": [
    "# Diccionario\n",
    "\n",
    "Es una colección desordenada de elmeentos organizada en pares claves-valor (key-value). Cada `key` es única en el diccionario. Los valores son rápidamente accesibles a través de su `key`. Su sintaxis es mediante las llaves `{}` y separando los valores por comas. También podemos usar la palabra reservada `dict`."
   ]
  },
  {
   "cell_type": "code",
   "execution_count": 1,
   "id": "1a185aa3",
   "metadata": {},
   "outputs": [
    {
     "name": "stdout",
     "output_type": "stream",
     "text": [
      "{'key': 'value', 'key2': 'value2', 'numero': 3, 'booleano': True}\n"
     ]
    }
   ],
   "source": [
    "# Declaración de Diccionarios\n",
    "\n",
    "diccionario_1 = { 'key': \"value\", 'key2': \"value2\", 'numero': 3, 'booleano': True }\n",
    "\n",
    "print (diccionario_1)"
   ]
  },
  {
   "cell_type": "code",
   "execution_count": 2,
   "id": "7eaf1ec7",
   "metadata": {},
   "outputs": [
    {
     "name": "stdout",
     "output_type": "stream",
     "text": [
      "{'key': 'value', 'key2': 'value2', 'numero': 3, 'booleano': True}\n"
     ]
    }
   ],
   "source": [
    "# Con la palabra reservada dict()\n",
    "\n",
    "diccionario_2 = dict(key=\"value\", key2=\"value2\", numero=3, booleano=True)\n",
    "\n",
    "print(diccionario_2)"
   ]
  },
  {
   "cell_type": "code",
   "execution_count": 3,
   "id": "18527ea7",
   "metadata": {},
   "outputs": [
    {
     "data": {
      "text/plain": [
       "dict"
      ]
     },
     "execution_count": 3,
     "metadata": {},
     "output_type": "execute_result"
    }
   ],
   "source": [
    "# Tipo de datos\n",
    "\n",
    "type(diccionario_1)\n",
    "\n",
    "type(diccionario_2)"
   ]
  },
  {
   "cell_type": "markdown",
   "id": "480dcf4a",
   "metadata": {},
   "source": [
    "## Acceso a los elementos\n",
    "\n",
    "Se usa la sintaxis `diccionario[key]`."
   ]
  },
  {
   "cell_type": "code",
   "execution_count": 6,
   "id": "495ff18f",
   "metadata": {},
   "outputs": [
    {
     "name": "stdout",
     "output_type": "stream",
     "text": [
      "value\n",
      "value2\n",
      "3\n",
      "True\n",
      "value\n"
     ]
    }
   ],
   "source": [
    "# Acceso a los valores\n",
    "\n",
    "print(diccionario_1['key'])\n",
    "\n",
    "print(diccionario_1['key2'])\n",
    "\n",
    "print(diccionario_1['numero'])\n",
    "\n",
    "print(diccionario_1['booleano'])\n",
    "\n",
    "print(diccionario_2['key'])"
   ]
  },
  {
   "cell_type": "markdown",
   "id": "ae74488d",
   "metadata": {},
   "source": [
    "## Métodos de los diccionarios"
   ]
  },
  {
   "cell_type": "markdown",
   "id": "84867482",
   "metadata": {},
   "source": [
    "### 3.1 Get: permite acceder al valor de una clave."
   ]
  },
  {
   "cell_type": "code",
   "execution_count": 7,
   "id": "64588415",
   "metadata": {},
   "outputs": [
    {
     "name": "stdout",
     "output_type": "stream",
     "text": [
      "value2\n"
     ]
    }
   ],
   "source": [
    "print(diccionario_1.get('key2'))"
   ]
  },
  {
   "cell_type": "code",
   "execution_count": null,
   "id": "953d17ef",
   "metadata": {},
   "outputs": [
    {
     "name": "stdout",
     "output_type": "stream",
     "text": [
      "No existe un elemento en el diccionario con esa clave.\n"
     ]
    }
   ],
   "source": [
    "print(diccionario_2.get('asdfasdf', 'No existe un elemento en el diccionario con esa clave.')) "
   ]
  },
  {
   "cell_type": "markdown",
   "id": "766f4360",
   "metadata": {},
   "source": [
    "### 3.2 Keys: obtiene todas las claves del diccionario."
   ]
  },
  {
   "cell_type": "code",
   "execution_count": 10,
   "id": "739742ad",
   "metadata": {},
   "outputs": [
    {
     "name": "stdout",
     "output_type": "stream",
     "text": [
      "dict_keys(['key', 'key2', 'numero', 'booleano'])\n"
     ]
    }
   ],
   "source": [
    "print(diccionario_1.keys())"
   ]
  },
  {
   "cell_type": "markdown",
   "id": "feee0e6a",
   "metadata": {},
   "source": [
    "### 3.3 Values: obtiene todos los valores del diccionario."
   ]
  },
  {
   "cell_type": "code",
   "execution_count": null,
   "id": "eb0aee68",
   "metadata": {},
   "outputs": [
    {
     "name": "stdout",
     "output_type": "stream",
     "text": [
      "dict_values(['value', 'value2', 3, True])\n",
      "dict_items([('key', 'value'), ('key2', 'value2'), ('numero', 3), ('booleano', True)])\n"
     ]
    }
   ],
   "source": [
    "print(diccionario_1.values())"
   ]
  },
  {
   "cell_type": "markdown",
   "id": "411d1e99",
   "metadata": {},
   "source": [
    "### 3.4 Items: Obtiene todos los elementos del diccionario."
   ]
  },
  {
   "cell_type": "code",
   "execution_count": null,
   "id": "0b7a28bd",
   "metadata": {},
   "outputs": [],
   "source": [
    "print(diccionario_1.items())"
   ]
  },
  {
   "cell_type": "markdown",
   "id": "e68e2977",
   "metadata": {},
   "source": [
    "### 3.5 Update: actualiza un elemento de un diccionario."
   ]
  },
  {
   "cell_type": "code",
   "execution_count": 13,
   "id": "4121a244",
   "metadata": {},
   "outputs": [
    {
     "name": "stdout",
     "output_type": "stream",
     "text": [
      "nuevo valor\n",
      "nuevo valor 2\n"
     ]
    }
   ],
   "source": [
    "diccionario_1['key'] = 'nuevo valor'\n",
    "\n",
    "print(diccionario_1['key'])\n",
    "\n",
    "diccionario_1.update({'key': 'nuevo valor 2'})\n",
    "\n",
    "print(diccionario_1['key'])"
   ]
  },
  {
   "cell_type": "markdown",
   "id": "2bf30abe",
   "metadata": {},
   "source": [
    "### 3.6 Pop: obtiene un elemento del diccionario eliminandolo."
   ]
  },
  {
   "cell_type": "code",
   "execution_count": 14,
   "id": "f0da0a07",
   "metadata": {},
   "outputs": [
    {
     "name": "stdout",
     "output_type": "stream",
     "text": [
      "nuevo valor 2\n",
      "{'key2': 'value2', 'numero': 3, 'booleano': True}\n"
     ]
    }
   ],
   "source": [
    "print(diccionario_1.pop('key'))\n",
    "\n",
    "print(diccionario_1)"
   ]
  },
  {
   "cell_type": "markdown",
   "id": "0b5813dd",
   "metadata": {},
   "source": [
    "### 3.7 PopIem: obtiene y elimina el último valor del diccionario."
   ]
  },
  {
   "cell_type": "code",
   "execution_count": 15,
   "id": "be956cea",
   "metadata": {},
   "outputs": [
    {
     "name": "stdout",
     "output_type": "stream",
     "text": [
      "('booleano', True)\n",
      "{'key2': 'value2', 'numero': 3}\n"
     ]
    }
   ],
   "source": [
    "print(diccionario_1.popitem())\n",
    "\n",
    "print(diccionario_1)"
   ]
  }
 ],
 "metadata": {
  "kernelspec": {
   "display_name": "Python 3",
   "language": "python",
   "name": "python3"
  },
  "language_info": {
   "codemirror_mode": {
    "name": "ipython",
    "version": 3
   },
   "file_extension": ".py",
   "mimetype": "text/x-python",
   "name": "python",
   "nbconvert_exporter": "python",
   "pygments_lexer": "ipython3",
   "version": "3.11.9"
  }
 },
 "nbformat": 4,
 "nbformat_minor": 5
}
