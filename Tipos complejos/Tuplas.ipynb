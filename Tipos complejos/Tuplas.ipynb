{
 "cells": [
  {
   "cell_type": "markdown",
   "id": "3c39b1e6",
   "metadata": {},
   "source": [
    "# Tuplas\n",
    "\n",
    "Son listas inmutables, es decir una vez definidas no se pueden editar. Tienen un orden específico y se acceden a sus valores de igual manera que en las listas. Son más eficientes y se definen con los paréntesis `()`."
   ]
  },
  {
   "cell_type": "code",
   "execution_count": 5,
   "id": "4d908f28",
   "metadata": {},
   "outputs": [
    {
     "name": "stdout",
     "output_type": "stream",
     "text": [
      "(1, 2, 3, 4, 5, False, True, 'Hola', 3.14)\n",
      "(3, 4, 5, 6, 7, 8, 9, 'Tst', 'Hola')\n"
     ]
    }
   ],
   "source": [
    "# Definición de una tupla\n",
    "\n",
    "tuple_1 = (1, 2, 3, 4, 5, False, True, \"Hola\", 3.14)\n",
    "\n",
    "tuple_2 = 3, 4, 5, 6, 7, 8, 9, 'Tst', \"Hola\"\n",
    "\n",
    "print(tuple_1)\n",
    "\n",
    "print(tuple_2)"
   ]
  },
  {
   "cell_type": "code",
   "execution_count": 4,
   "id": "379a8018",
   "metadata": {},
   "outputs": [
    {
     "data": {
      "text/plain": [
       "tuple"
      ]
     },
     "execution_count": 4,
     "metadata": {},
     "output_type": "execute_result"
    }
   ],
   "source": [
    "# Tipo de la tupla\n",
    "\n",
    "type(tuple_1)"
   ]
  },
  {
   "cell_type": "markdown",
   "id": "6fb8d21f",
   "metadata": {},
   "source": [
    "## Acceso a las tuplas\n",
    "\n",
    "Se accede igual que en una lista, mediante su indice entre corchetes `[]`."
   ]
  },
  {
   "cell_type": "code",
   "execution_count": 10,
   "id": "41bb97d0",
   "metadata": {},
   "outputs": [
    {
     "ename": "TypeError",
     "evalue": "'tuple' object does not support item assignment",
     "output_type": "error",
     "traceback": [
      "\u001b[1;31m---------------------------------------------------------------------------\u001b[0m",
      "\u001b[1;31mTypeError\u001b[0m                                 Traceback (most recent call last)",
      "Cell \u001b[1;32mIn[10], line 3\u001b[0m\n\u001b[0;32m      1\u001b[0m \u001b[38;5;66;03m# No se pueden modificar las tuplas, sino recibirás un TypeError\u001b[39;00m\n\u001b[1;32m----> 3\u001b[0m \u001b[43mtuple_1\u001b[49m\u001b[43m[\u001b[49m\u001b[38;5;241;43m0\u001b[39;49m\u001b[43m]\u001b[49m \u001b[38;5;241m=\u001b[39m \u001b[38;5;241m10\u001b[39m\n",
      "\u001b[1;31mTypeError\u001b[0m: 'tuple' object does not support item assignment"
     ]
    }
   ],
   "source": [
    "# No se pueden modificar las tuplas, sino recibirás un TypeError\n",
    "\n",
    "tuple_1[0] = 10"
   ]
  },
  {
   "cell_type": "code",
   "execution_count": null,
   "id": "a83dc46a",
   "metadata": {},
   "outputs": [
    {
     "name": "stdout",
     "output_type": "stream",
     "text": [
      "(1, 2, 3, 4, 5, (6, 7, 8, 9))\n"
     ]
    }
   ],
   "source": [
    "# Las tuplas al igual que las listas, pueden ser anidadas\n",
    "\n",
    "tuple_3 = (1, 2, 3, 4, 5, (6, 7, 8, 9))\n",
    "\n",
    "print(tuple_3)"
   ]
  },
  {
   "cell_type": "code",
   "execution_count": 8,
   "id": "202953a5",
   "metadata": {},
   "outputs": [
    {
     "name": "stdout",
     "output_type": "stream",
     "text": [
      "(1, 2, 3, 4, 5, False, True, 'Hola', 3.14)\n"
     ]
    }
   ],
   "source": [
    "# Se puede convertir una lista en tupla\n",
    "\n",
    "lista = [1, 2, 3, 4, 5, False, True, \"Hola\", 3.14]\n",
    "\n",
    "tuple_4 = tuple(lista)\n",
    "\n",
    "print(tuple_4)"
   ]
  },
  {
   "cell_type": "markdown",
   "id": "3292b35c",
   "metadata": {},
   "source": [
    "## Métodos de las tuplas"
   ]
  },
  {
   "cell_type": "markdown",
   "id": "d8c1d08e",
   "metadata": {},
   "source": [
    "### Count\n",
    "\n",
    "Indica el número de veces que aparece un elemento en la tupla."
   ]
  },
  {
   "cell_type": "code",
   "execution_count": 11,
   "id": "3258c98f",
   "metadata": {},
   "outputs": [
    {
     "name": "stdout",
     "output_type": "stream",
     "text": [
      "2\n"
     ]
    }
   ],
   "source": [
    "# Count\n",
    "\n",
    "print(tuple_4.count(1))  # Devuelve el número de veces que aparece el elemento en la tupla"
   ]
  },
  {
   "cell_type": "markdown",
   "id": "c335ba35",
   "metadata": {},
   "source": [
    "### Index\n",
    "\n",
    "Devuelve el índice de un valor en la tupla."
   ]
  },
  {
   "cell_type": "code",
   "execution_count": 12,
   "id": "c5fd0e92",
   "metadata": {},
   "outputs": [
    {
     "name": "stdout",
     "output_type": "stream",
     "text": [
      "0\n"
     ]
    }
   ],
   "source": [
    "# Index\n",
    "\n",
    "print(tuple_4.index(1))  # Devuelve el índice de la primera aparición del elemento en la tupla"
   ]
  },
  {
   "cell_type": "code",
   "execution_count": 13,
   "id": "ace83f98",
   "metadata": {},
   "outputs": [
    {
     "ename": "ValueError",
     "evalue": "tuple.index(x): x not in tuple",
     "output_type": "error",
     "traceback": [
      "\u001b[1;31m---------------------------------------------------------------------------\u001b[0m",
      "\u001b[1;31mValueError\u001b[0m                                Traceback (most recent call last)",
      "Cell \u001b[1;32mIn[13], line 3\u001b[0m\n\u001b[0;32m      1\u001b[0m \u001b[38;5;66;03m# Index - En caso de no encontrar el elemento, se lanzará un ValueError\u001b[39;00m\n\u001b[1;32m----> 3\u001b[0m \u001b[38;5;28mprint\u001b[39m(\u001b[43mtuple_4\u001b[49m\u001b[38;5;241;43m.\u001b[39;49m\u001b[43mindex\u001b[49m\u001b[43m(\u001b[49m\u001b[38;5;241;43m10\u001b[39;49m\u001b[43m)\u001b[49m)\n",
      "\u001b[1;31mValueError\u001b[0m: tuple.index(x): x not in tuple"
     ]
    }
   ],
   "source": [
    "# Index - En caso de no encontrar el elemento, se lanzará un ValueError\n",
    "\n",
    "print(tuple_4.index(10))"
   ]
  },
  {
   "cell_type": "code",
   "execution_count": 15,
   "id": "8b78fdec",
   "metadata": {},
   "outputs": [
    {
     "name": "stdout",
     "output_type": "stream",
     "text": [
      "6\n"
     ]
    }
   ],
   "source": [
    "# Index - El segundo argumento de la función nos permite especificar \n",
    "# el índice inicial de búsqueda\n",
    "\n",
    "print(tuple_4.index(1, 3))  # Devuelve el índice de la primera aparición del elemento en la tupla"
   ]
  }
 ],
 "metadata": {
  "kernelspec": {
   "display_name": "Python 3",
   "language": "python",
   "name": "python3"
  },
  "language_info": {
   "codemirror_mode": {
    "name": "ipython",
    "version": 3
   },
   "file_extension": ".py",
   "mimetype": "text/x-python",
   "name": "python",
   "nbconvert_exporter": "python",
   "pygments_lexer": "ipython3",
   "version": "3.11.9"
  }
 },
 "nbformat": 4,
 "nbformat_minor": 5
}
