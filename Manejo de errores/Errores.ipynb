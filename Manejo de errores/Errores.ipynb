{
 "cells": [
  {
   "cell_type": "markdown",
   "id": "9449c50a",
   "metadata": {},
   "source": [
    "# Errores\n",
    "\n",
    "Son fallos en el código que paran su ejeccución. Pueden ocurrise por errores de sintaxis, problemas en tiempos de ejecución, intento de operaciones inválidas o acceso a recursos inexistentes."
   ]
  },
  {
   "cell_type": "code",
   "execution_count": 1,
   "id": "71b7ea62",
   "metadata": {},
   "outputs": [
    {
     "ename": "ZeroDivisionError",
     "evalue": "division by zero",
     "output_type": "error",
     "traceback": [
      "\u001b[1;31m---------------------------------------------------------------------------\u001b[0m",
      "\u001b[1;31mZeroDivisionError\u001b[0m                         Traceback (most recent call last)",
      "Cell \u001b[1;32mIn[1], line 1\u001b[0m\n\u001b[1;32m----> 1\u001b[0m \u001b[38;5;28mprint\u001b[39m(\u001b[38;5;241;43m1\u001b[39;49m\u001b[38;5;241;43m/\u001b[39;49m\u001b[38;5;241;43m0\u001b[39;49m)\n",
      "\u001b[1;31mZeroDivisionError\u001b[0m: division by zero"
     ]
    }
   ],
   "source": [
    "print(1/0)"
   ]
  },
  {
   "cell_type": "markdown",
   "id": "0c8bd18a",
   "metadata": {},
   "source": [
    "El manejo de estos errores es parte del control de flujo. Tipos de errores:\n",
    "\n",
    "- AttributeError\n",
    "- IndexError\n",
    "- NameError\n",
    "- ZeroDivisionError\n",
    "- KeyError\n",
    "- ValueError\n",
    "\n",
    "[Errores en Python](https://docs.python.org/3/library/exceptions.html)"
   ]
  },
  {
   "cell_type": "markdown",
   "id": "d5c1bd2a",
   "metadata": {},
   "source": [
    "### Try/Except\n",
    "\n",
    "Sentencia con el que te permite controlar los errores. Se divide en dos secciones:\n",
    "\n",
    "- `try`: contiene el código que creemos que pueda generar un error.\n",
    "- `except`: contiene el código que se ejecutará si se produce un error. Puede contener diferentes secciones except para manejar diferentes tipos de error."
   ]
  },
  {
   "cell_type": "code",
   "execution_count": null,
   "id": "312aa451",
   "metadata": {},
   "outputs": [
    {
     "name": "stdout",
     "output_type": "stream",
     "text": [
      "Caught an exception: division by zero\n",
      "Funcion finalizada.\n"
     ]
    }
   ],
   "source": [
    "try:\n",
    "    resultado = 1/0\n",
    "    print(resultado)\n",
    "except ZeroDivisionError as e:\n",
    "    print(\"Caught an exception:\", e)\n",
    "print(\"Funcion finalizada.\")"
   ]
  },
  {
   "cell_type": "code",
   "execution_count": 4,
   "id": "21177f2e",
   "metadata": {},
   "outputs": [
    {
     "ename": "NameError",
     "evalue": "name 'variable_inexistente' is not defined",
     "output_type": "error",
     "traceback": [
      "\u001b[1;31m---------------------------------------------------------------------------\u001b[0m",
      "\u001b[1;31mZeroDivisionError\u001b[0m                         Traceback (most recent call last)",
      "Cell \u001b[1;32mIn[4], line 2\u001b[0m\n\u001b[0;32m      1\u001b[0m \u001b[38;5;28;01mtry\u001b[39;00m:\n\u001b[1;32m----> 2\u001b[0m     resultado \u001b[38;5;241m=\u001b[39m \u001b[38;5;241;43m1\u001b[39;49m\u001b[38;5;241;43m/\u001b[39;49m\u001b[38;5;241;43m0\u001b[39;49m\n\u001b[0;32m      3\u001b[0m     \u001b[38;5;28mprint\u001b[39m(resultado)\n",
      "\u001b[1;31mZeroDivisionError\u001b[0m: division by zero",
      "\nDuring handling of the above exception, another exception occurred:\n",
      "\u001b[1;31mNameError\u001b[0m                                 Traceback (most recent call last)",
      "Cell \u001b[1;32mIn[4], line 5\u001b[0m\n\u001b[0;32m      3\u001b[0m     \u001b[38;5;28mprint\u001b[39m(resultado)\n\u001b[0;32m      4\u001b[0m \u001b[38;5;28;01mexcept\u001b[39;00m \u001b[38;5;167;01mZeroDivisionError\u001b[39;00m \u001b[38;5;28;01mas\u001b[39;00m e:\n\u001b[1;32m----> 5\u001b[0m     \u001b[38;5;28mprint\u001b[39m(\u001b[43mvariable_inexistente\u001b[49m)  \u001b[38;5;66;03m# This will raise another exception\u001b[39;00m\n\u001b[0;32m      6\u001b[0m     \u001b[38;5;28mprint\u001b[39m(\u001b[38;5;124m\"\u001b[39m\u001b[38;5;124mCaught an exception:\u001b[39m\u001b[38;5;124m\"\u001b[39m, e)\n\u001b[0;32m      7\u001b[0m \u001b[38;5;28mprint\u001b[39m(\u001b[38;5;124m\"\u001b[39m\u001b[38;5;124mFuncion finalizada.\u001b[39m\u001b[38;5;124m\"\u001b[39m)\n",
      "\u001b[1;31mNameError\u001b[0m: name 'variable_inexistente' is not defined"
     ]
    }
   ],
   "source": [
    "try:\n",
    "    resultado = 1/0\n",
    "    print(resultado)\n",
    "except ZeroDivisionError as e:\n",
    "    print(variable_inexistente)  # This will raise another exception\n",
    "    print(\"Caught an exception:\", e)\n",
    "print(\"Funcion finalizada.\")"
   ]
  },
  {
   "cell_type": "markdown",
   "id": "e26e643c",
   "metadata": {},
   "source": [
    "### Try catch anidados"
   ]
  },
  {
   "cell_type": "markdown",
   "id": "750b2317",
   "metadata": {},
   "source": [
    "Se pueden anidar, al igual que se hizo con los condicionales o bucles."
   ]
  },
  {
   "cell_type": "code",
   "execution_count": 1,
   "id": "165b715b",
   "metadata": {},
   "outputs": [
    {
     "name": "stdout",
     "output_type": "stream",
     "text": [
      "Intentando división por cero y manejo de excepciones...\n",
      "Error: División por cero no permitida.\n",
      "Error: La variable no está definida.\n"
     ]
    }
   ],
   "source": [
    "# División por cero y name error\n",
    "print(\"Intentando división por cero y manejo de excepciones...\")\n",
    "\n",
    "try:\n",
    "    resultado = 1/0\n",
    "    print(resultado)\n",
    "except ZeroDivisionError:\n",
    "    print(\"Error: División por cero no permitida.\")\n",
    "\n",
    "    try:\n",
    "        print(variable_inexistente)  # This will raise another exception\n",
    "    except NameError:\n",
    "        print(\"Error: La variable no está definida.\")"
   ]
  },
  {
   "cell_type": "markdown",
   "id": "150ec0f3",
   "metadata": {},
   "source": [
    "### Multiples except"
   ]
  },
  {
   "cell_type": "markdown",
   "id": "61ed7342",
   "metadata": {},
   "source": [
    "Podemos manejar distintos tipos de errores con múltiples bloques except. Cuando el bloque try falla, dependiendo del tipo de eror, se ejecutará un bloque except u otro."
   ]
  },
  {
   "cell_type": "code",
   "execution_count": null,
   "id": "f202ba7f",
   "metadata": {},
   "outputs": [
    {
     "name": "stdout",
     "output_type": "stream",
     "text": [
      "Ejemplo de manejo de excepciones con múltiples bloques...\n",
      "Error: La variable no está definida.\n"
     ]
    }
   ],
   "source": [
    "# Ejemplo de manejo de excepciones con múltiples bloques\n",
    "print(\"Ejemplo de manejo de excepciones con múltiples bloques...\")\n",
    "\n",
    "try:\n",
    "    resultado = 1/0\n",
    "    print(resultado)\n",
    "\n",
    "    a = 45\n",
    "    b = \"texto\"\n",
    "    resultado = a / b  # This will raise a TypeError\n",
    "    print(resultado)\n",
    "\n",
    "    print(variable_inexistente)  # This will raise another exception\n",
    "\n",
    "except TypeError as e:\n",
    "    print(\"Error: Tipo de dato no válido.\")\n",
    "\n",
    "except ZeroDivisionError:\n",
    "    print(\"Error: División por cero no permitida.\")\n",
    "       \n",
    "except NameError:\n",
    "        print(\"Error: La variable no está definida.\")"
   ]
  },
  {
   "cell_type": "markdown",
   "id": "19a0088e",
   "metadata": {},
   "source": [
    "### Finally"
   ]
  },
  {
   "cell_type": "markdown",
   "id": "0ac12615",
   "metadata": {},
   "source": [
    "El bloque `finally` se ejecutará siempre y después del `try` o el `except`. Se ejecutará incluso si existe un `return` en otro bloque."
   ]
  },
  {
   "cell_type": "code",
   "execution_count": 6,
   "id": "9246f8e4",
   "metadata": {},
   "outputs": [
    {
     "name": "stdout",
     "output_type": "stream",
     "text": [
      "Finally\n",
      "Error: División por cero no permitida.\n",
      "Bloque finally ejecutado, independientemente de si hubo una excepción o no.\n"
     ]
    }
   ],
   "source": [
    "print(\"Finally\")\n",
    "\n",
    "try:\n",
    "    resultado = 1/0\n",
    "    print(resultado)    \n",
    "except ZeroDivisionError:\n",
    "    print(\"Error: División por cero no permitida.\")\n",
    "finally:\n",
    "    print(\"Bloque finally ejecutado, independientemente de si hubo una excepción o no.\")"
   ]
  },
  {
   "cell_type": "code",
   "execution_count": 5,
   "id": "e9d570e7",
   "metadata": {},
   "outputs": [
    {
     "name": "stdout",
     "output_type": "stream",
     "text": [
      "Finally\n",
      "Error: División por cero no permitida.\n",
      "Bloque finally ejecutado, independientemente de si hubo una excepción o no.\n"
     ]
    },
    {
     "ename": "NameError",
     "evalue": "name 'variable_inexistente' is not defined",
     "output_type": "error",
     "traceback": [
      "\u001b[1;31m---------------------------------------------------------------------------\u001b[0m",
      "\u001b[1;31mZeroDivisionError\u001b[0m                         Traceback (most recent call last)",
      "Cell \u001b[1;32mIn[5], line 4\u001b[0m\n\u001b[0;32m      3\u001b[0m \u001b[38;5;28;01mtry\u001b[39;00m:\n\u001b[1;32m----> 4\u001b[0m     resultado \u001b[38;5;241m=\u001b[39m \u001b[38;5;241;43m1\u001b[39;49m\u001b[38;5;241;43m/\u001b[39;49m\u001b[38;5;241;43m0\u001b[39;49m\n\u001b[0;32m      5\u001b[0m     \u001b[38;5;28mprint\u001b[39m(resultado)    \n",
      "\u001b[1;31mZeroDivisionError\u001b[0m: division by zero",
      "\nDuring handling of the above exception, another exception occurred:\n",
      "\u001b[1;31mNameError\u001b[0m                                 Traceback (most recent call last)",
      "Cell \u001b[1;32mIn[5], line 8\u001b[0m\n\u001b[0;32m      6\u001b[0m \u001b[38;5;28;01mexcept\u001b[39;00m \u001b[38;5;167;01mZeroDivisionError\u001b[39;00m:\n\u001b[0;32m      7\u001b[0m     \u001b[38;5;28mprint\u001b[39m(\u001b[38;5;124m\"\u001b[39m\u001b[38;5;124mError: División por cero no permitida.\u001b[39m\u001b[38;5;124m\"\u001b[39m)\n\u001b[1;32m----> 8\u001b[0m     \u001b[38;5;28mprint\u001b[39m(\u001b[43mvariable_inexistente\u001b[49m)\n\u001b[0;32m      9\u001b[0m \u001b[38;5;28;01mfinally\u001b[39;00m:\n\u001b[0;32m     10\u001b[0m     \u001b[38;5;28mprint\u001b[39m(\u001b[38;5;124m\"\u001b[39m\u001b[38;5;124mBloque finally ejecutado, independientemente de si hubo una excepción o no.\u001b[39m\u001b[38;5;124m\"\u001b[39m)\n",
      "\u001b[1;31mNameError\u001b[0m: name 'variable_inexistente' is not defined"
     ]
    }
   ],
   "source": [
    "print(\"Finally\")\n",
    "\n",
    "try:\n",
    "    resultado = 1/0\n",
    "    print(resultado)    \n",
    "except ZeroDivisionError:\n",
    "    print(\"Error: División por cero no permitida.\")\n",
    "    print(variable_inexistente)\n",
    "finally:\n",
    "    print(\"Bloque finally ejecutado, independientemente de si hubo una excepción o no.\")"
   ]
  },
  {
   "cell_type": "markdown",
   "id": "d65e8634",
   "metadata": {},
   "source": [
    "### Else\n",
    "\n",
    "El bloque `else` puede ser usado como alternativa al bloque `except`. En ese caso se ejecutará antes del `finally` siempre que no falle el `try`."
   ]
  },
  {
   "cell_type": "code",
   "execution_count": 7,
   "id": "c44133bf",
   "metadata": {},
   "outputs": [
    {
     "name": "stdout",
     "output_type": "stream",
     "text": [
      "Else\n",
      "Resultado: 0.5\n",
      "No hubo excepciones, el resultado es: 0.5\n",
      "Bloque finally ejecutado, independientemente de si hubo una excepción o no.\n"
     ]
    }
   ],
   "source": [
    "print(\"Else\")\n",
    "\n",
    "try:\n",
    "    resultado = 1/2\n",
    "    print(\"Resultado:\", resultado)\n",
    "except ZeroDivisionError:\n",
    "    print(\"Error: División por cero no permitida.\")\n",
    "else:\n",
    "    # Sólo se ejecuta si no hay excepciones\n",
    "    print(\"No hubo excepciones, el resultado es:\", resultado)\n",
    "finally:\n",
    "    print(\"Bloque finally ejecutado, independientemente de si hubo una excepción o no.\")"
   ]
  },
  {
   "cell_type": "markdown",
   "id": "205c5d0b",
   "metadata": {},
   "source": [
    "### Raise\n",
    "\n",
    "También podríamos querer levantar a propósito un error para detener el código si ocurre algo concreto. Esto se hace con `raise`."
   ]
  },
  {
   "cell_type": "code",
   "execution_count": 8,
   "id": "81327305",
   "metadata": {},
   "outputs": [
    {
     "name": "stdout",
     "output_type": "stream",
     "text": [
      "Ejemplo de raise\n"
     ]
    },
    {
     "ename": "ZeroDivisionError",
     "evalue": "No se puede dividir por cero.",
     "output_type": "error",
     "traceback": [
      "\u001b[1;31m---------------------------------------------------------------------------\u001b[0m",
      "\u001b[1;31mZeroDivisionError\u001b[0m                         Traceback (most recent call last)",
      "Cell \u001b[1;32mIn[8], line 7\u001b[0m\n\u001b[0;32m      4\u001b[0m b \u001b[38;5;241m=\u001b[39m \u001b[38;5;241m0\u001b[39m\n\u001b[0;32m      6\u001b[0m \u001b[38;5;28;01mif\u001b[39;00m b \u001b[38;5;241m==\u001b[39m \u001b[38;5;241m0\u001b[39m:\n\u001b[1;32m----> 7\u001b[0m     \u001b[38;5;28;01mraise\u001b[39;00m \u001b[38;5;167;01mZeroDivisionError\u001b[39;00m(\u001b[38;5;124m\"\u001b[39m\u001b[38;5;124mNo se puede dividir por cero.\u001b[39m\u001b[38;5;124m\"\u001b[39m)\n\u001b[0;32m      8\u001b[0m \u001b[38;5;28;01melse\u001b[39;00m:\n\u001b[0;32m      9\u001b[0m     resultado \u001b[38;5;241m=\u001b[39m a \u001b[38;5;241m/\u001b[39m b\n",
      "\u001b[1;31mZeroDivisionError\u001b[0m: No se puede dividir por cero."
     ]
    }
   ],
   "source": [
    "print(\"Ejemplo de raise\")\n",
    "\n",
    "a = 10\n",
    "b = 0\n",
    "\n",
    "if b == 0:\n",
    "    raise ZeroDivisionError(\"No se puede dividir por cero.\")\n",
    "else:\n",
    "    resultado = a / b\n",
    "    print(\"Resultado:\", resultado)"
   ]
  },
  {
   "cell_type": "code",
   "execution_count": 9,
   "id": "ef545bfa",
   "metadata": {},
   "outputs": [
    {
     "name": "stdout",
     "output_type": "stream",
     "text": [
      "Ejemplo de raise\n",
      "Resultado: 10.0\n"
     ]
    }
   ],
   "source": [
    "print(\"Ejemplo de raise\")\n",
    "\n",
    "a = 10\n",
    "b = 1\n",
    "\n",
    "if b == 0:\n",
    "    raise ZeroDivisionError(\"No se puede dividir por cero.\")\n",
    "else:\n",
    "    resultado = a / b\n",
    "    print(\"Resultado:\", resultado)"
   ]
  },
  {
   "cell_type": "markdown",
   "id": "3a31ff26",
   "metadata": {},
   "source": [
    "### Errores sintaxis\n",
    "\n",
    "Existen errores que no nos queda más remedio que arreglar, como los errores de sintaxis o que nos falten caracteres, como paréntesis y comillas."
   ]
  },
  {
   "cell_type": "code",
   "execution_count": null,
   "id": "286abc7f",
   "metadata": {},
   "outputs": [
    {
     "ename": "IndentationError",
     "evalue": "expected an indented block after 'if' statement on line 5 (2628887535.py, line 6)",
     "output_type": "error",
     "traceback": [
      "\u001b[1;36m  Cell \u001b[1;32mIn[11], line 6\u001b[1;36m\u001b[0m\n\u001b[1;33m    print(\"a es mayor que 10\")\u001b[0m\n\u001b[1;37m    ^\u001b[0m\n\u001b[1;31mIndentationError\u001b[0m\u001b[1;31m:\u001b[0m expected an indented block after 'if' statement on line 5\n"
     ]
    }
   ],
   "source": [
    "print(\"Errores sintaxis\")\n",
    "\n",
    "a= 9\n",
    "\n",
    "if a > 10:\n",
    "    print(\"a es mayor que 10\")\n",
    "else:\n",
    "    "
   ]
  },
  {
   "cell_type": "code",
   "execution_count": null,
   "id": "1ffc7e71",
   "metadata": {},
   "outputs": [
    {
     "name": "stdout",
     "output_type": "stream",
     "text": [
      "Errores inmanejables\n",
      "a es menor o igual que 10\n"
     ]
    }
   ],
   "source": [
    "print(\"Errores sintaxis\")\n",
    "\n",
    "a= 9\n",
    "\n",
    "if a > 10:\n",
    "    print(\"a es mayor que 10\")\n",
    "else:\n",
    "    print(\"a es menor o igual que 10\")"
   ]
  },
  {
   "cell_type": "code",
   "execution_count": null,
   "id": "fa273cf3",
   "metadata": {},
   "outputs": [
    {
     "ename": "SyntaxError",
     "evalue": "unmatched ')' (271852551.py, line 3)",
     "output_type": "error",
     "traceback": [
      "\u001b[1;36m  Cell \u001b[1;32mIn[13], line 3\u001b[1;36m\u001b[0m\n\u001b[1;33m    print(\"Errores inmanejables\")))\u001b[0m\n\u001b[1;37m                                 ^\u001b[0m\n\u001b[1;31mSyntaxError\u001b[0m\u001b[1;31m:\u001b[0m unmatched ')'\n"
     ]
    }
   ],
   "source": [
    "print(\"Errores sintaxis\")\n",
    "\n",
    "print(\"Errores inmanejables\")))"
   ]
  },
  {
   "cell_type": "code",
   "execution_count": null,
   "id": "cd3beb8b",
   "metadata": {},
   "outputs": [
    {
     "ename": "SyntaxError",
     "evalue": "unterminated string literal (detected at line 3) (360304777.py, line 3)",
     "output_type": "error",
     "traceback": [
      "\u001b[1;36m  Cell \u001b[1;32mIn[14], line 3\u001b[1;36m\u001b[0m\n\u001b[1;33m    print(\"Errores inmanejables\"')\u001b[0m\n\u001b[1;37m                                ^\u001b[0m\n\u001b[1;31mSyntaxError\u001b[0m\u001b[1;31m:\u001b[0m unterminated string literal (detected at line 3)\n"
     ]
    }
   ],
   "source": [
    "print(\"Errores sintaxis\")\n",
    "\n",
    "print(\"Errores inmanejables\"')"
   ]
  },
  {
   "cell_type": "markdown",
   "id": "80346a59",
   "metadata": {},
   "source": [
    "## Programación defensiva\n",
    "\n",
    "El objetivo consiste en tener en cuenta errores sistemáticos que se pudieran estar cometiendo en nuestro código."
   ]
  },
  {
   "cell_type": "code",
   "execution_count": 21,
   "id": "cd4f38a1",
   "metadata": {},
   "outputs": [
    {
     "name": "stdout",
     "output_type": "stream",
     "text": [
      "Ejemplo de programación defensiva\n",
      "Clientes que corresponden: [{'cliente1': 0.0}, {'cliente2': 9.333333333333334}]\n",
      "Clientes que no corresponden: [{'cliente3': '0,75'}]\n"
     ]
    }
   ],
   "source": [
    "print(\"Ejemplo de programación defensiva\")\n",
    "\n",
    "clientes = {'cliente1': 0.25, 'cliente2': 7, 'cliente3': '0,75'}\n",
    "\n",
    "corresponden = []\n",
    "\n",
    "no_corresponden = []\n",
    "\n",
    "for key, value in clientes.items():\n",
    "    try:\n",
    "        total = int(value) * 4 / 3\n",
    "        corresponden.append({key: total})\n",
    "    except:\n",
    "        no_corresponden.append({key: value})\n",
    "\n",
    "print(\"Clientes que corresponden:\", corresponden)\n",
    "print(\"Clientes que no corresponden:\", no_corresponden)"
   ]
  }
 ],
 "metadata": {
  "kernelspec": {
   "display_name": "Python 3",
   "language": "python",
   "name": "python3"
  },
  "language_info": {
   "codemirror_mode": {
    "name": "ipython",
    "version": 3
   },
   "file_extension": ".py",
   "mimetype": "text/x-python",
   "name": "python",
   "nbconvert_exporter": "python",
   "pygments_lexer": "ipython3",
   "version": "3.11.9"
  }
 },
 "nbformat": 4,
 "nbformat_minor": 5
}
