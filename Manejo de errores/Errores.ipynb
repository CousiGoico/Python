{
 "cells": [
  {
   "cell_type": "markdown",
   "id": "9449c50a",
   "metadata": {},
   "source": [
    "# Erroes\n",
    "\n",
    "Son fallos en el código que paran su ejeccución. Pueden ocurrise por errores de sintaxis, problemas en tiempos de ejecución, intento de operaciones inválidas o acceso a recursos inexistentes."
   ]
  },
  {
   "cell_type": "code",
   "execution_count": 1,
   "id": "71b7ea62",
   "metadata": {},
   "outputs": [
    {
     "ename": "ZeroDivisionError",
     "evalue": "division by zero",
     "output_type": "error",
     "traceback": [
      "\u001b[1;31m---------------------------------------------------------------------------\u001b[0m",
      "\u001b[1;31mZeroDivisionError\u001b[0m                         Traceback (most recent call last)",
      "Cell \u001b[1;32mIn[1], line 1\u001b[0m\n\u001b[1;32m----> 1\u001b[0m \u001b[38;5;28mprint\u001b[39m(\u001b[38;5;241;43m1\u001b[39;49m\u001b[38;5;241;43m/\u001b[39;49m\u001b[38;5;241;43m0\u001b[39;49m)\n",
      "\u001b[1;31mZeroDivisionError\u001b[0m: division by zero"
     ]
    }
   ],
   "source": [
    "print(1/0)"
   ]
  },
  {
   "cell_type": "markdown",
   "id": "0c8bd18a",
   "metadata": {},
   "source": [
    "El manejo de estos errores es parte del control de flujo. Tipos de errores:\n",
    "\n",
    "- AttributeError\n",
    "- IndexError\n",
    "- NameError\n",
    "- ZeroDivisionError\n",
    "- KeyError\n",
    "- ValueError\n",
    "\n",
    "[Errores en Python](https://docs.python.org/3/library/exceptions.html)"
   ]
  },
  {
   "cell_type": "markdown",
   "id": "d5c1bd2a",
   "metadata": {},
   "source": [
    "## Try/Except\n",
    "\n",
    "Sentencia con el que te permite controlar los errores. Se divide en dos secciones:\n",
    "\n",
    "- `try`: contiene el código que creemos que pueda generar un error.\n",
    "- `except`: contiene el código que se ejecutará si se produce un error. Puede contener diferentes secciones except para manejar diferentes tipos de error."
   ]
  },
  {
   "cell_type": "code",
   "execution_count": null,
   "id": "312aa451",
   "metadata": {},
   "outputs": [
    {
     "name": "stdout",
     "output_type": "stream",
     "text": [
      "Caught an exception: division by zero\n",
      "Funcion finalizada.\n"
     ]
    }
   ],
   "source": [
    "try:\n",
    "    resultado = 1/0\n",
    "    print(resultado)\n",
    "except ZeroDivisionError as e:\n",
    "    print(\"Caught an exception:\", e)\n",
    "print(\"Funcion finalizada.\")"
   ]
  },
  {
   "cell_type": "code",
   "execution_count": 4,
   "id": "21177f2e",
   "metadata": {},
   "outputs": [
    {
     "ename": "NameError",
     "evalue": "name 'variable_inexistente' is not defined",
     "output_type": "error",
     "traceback": [
      "\u001b[1;31m---------------------------------------------------------------------------\u001b[0m",
      "\u001b[1;31mZeroDivisionError\u001b[0m                         Traceback (most recent call last)",
      "Cell \u001b[1;32mIn[4], line 2\u001b[0m\n\u001b[0;32m      1\u001b[0m \u001b[38;5;28;01mtry\u001b[39;00m:\n\u001b[1;32m----> 2\u001b[0m     resultado \u001b[38;5;241m=\u001b[39m \u001b[38;5;241;43m1\u001b[39;49m\u001b[38;5;241;43m/\u001b[39;49m\u001b[38;5;241;43m0\u001b[39;49m\n\u001b[0;32m      3\u001b[0m     \u001b[38;5;28mprint\u001b[39m(resultado)\n",
      "\u001b[1;31mZeroDivisionError\u001b[0m: division by zero",
      "\nDuring handling of the above exception, another exception occurred:\n",
      "\u001b[1;31mNameError\u001b[0m                                 Traceback (most recent call last)",
      "Cell \u001b[1;32mIn[4], line 5\u001b[0m\n\u001b[0;32m      3\u001b[0m     \u001b[38;5;28mprint\u001b[39m(resultado)\n\u001b[0;32m      4\u001b[0m \u001b[38;5;28;01mexcept\u001b[39;00m \u001b[38;5;167;01mZeroDivisionError\u001b[39;00m \u001b[38;5;28;01mas\u001b[39;00m e:\n\u001b[1;32m----> 5\u001b[0m     \u001b[38;5;28mprint\u001b[39m(\u001b[43mvariable_inexistente\u001b[49m)  \u001b[38;5;66;03m# This will raise another exception\u001b[39;00m\n\u001b[0;32m      6\u001b[0m     \u001b[38;5;28mprint\u001b[39m(\u001b[38;5;124m\"\u001b[39m\u001b[38;5;124mCaught an exception:\u001b[39m\u001b[38;5;124m\"\u001b[39m, e)\n\u001b[0;32m      7\u001b[0m \u001b[38;5;28mprint\u001b[39m(\u001b[38;5;124m\"\u001b[39m\u001b[38;5;124mFuncion finalizada.\u001b[39m\u001b[38;5;124m\"\u001b[39m)\n",
      "\u001b[1;31mNameError\u001b[0m: name 'variable_inexistente' is not defined"
     ]
    }
   ],
   "source": [
    "try:\n",
    "    resultado = 1/0\n",
    "    print(resultado)\n",
    "except ZeroDivisionError as e:\n",
    "    print(variable_inexistente)  # This will raise another exception\n",
    "    print(\"Caught an exception:\", e)\n",
    "print(\"Funcion finalizada.\")"
   ]
  }
 ],
 "metadata": {
  "kernelspec": {
   "display_name": "Python 3",
   "language": "python",
   "name": "python3"
  },
  "language_info": {
   "codemirror_mode": {
    "name": "ipython",
    "version": 3
   },
   "file_extension": ".py",
   "mimetype": "text/x-python",
   "name": "python",
   "nbconvert_exporter": "python",
   "pygments_lexer": "ipython3",
   "version": "3.11.9"
  }
 },
 "nbformat": 4,
 "nbformat_minor": 5
}
