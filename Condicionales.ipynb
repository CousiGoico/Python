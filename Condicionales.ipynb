{
 "cells": [
  {
   "cell_type": "markdown",
   "id": "f7deab92",
   "metadata": {},
   "source": [
    "# Condicionales"
   ]
  },
  {
   "cell_type": "markdown",
   "id": "1cf83f70",
   "metadata": {},
   "source": [
    "## Definición\n",
    "\n",
    "Permiten ejecutar diferentes partes de código en base a una condición booleana."
   ]
  },
  {
   "cell_type": "markdown",
   "id": "791b3475",
   "metadata": {},
   "source": [
    "### Condiciones básicas\n",
    "\n",
    "* `if`: sentencia que nos permite evaluar una condición booleana, en la cual si es afirmativa, se ejecuta el código que esta a continuación.\n",
    "* `elif`: senencia que nos permite evaluar otra condición booleana diferente al `if` inicial.\n",
    "* `else`: sentencia que hará que se ejecute su código si la condición del if no es correcta."
   ]
  },
  {
   "cell_type": "markdown",
   "id": "edf0a0d5",
   "metadata": {},
   "source": [
    "### Simbolos de compración\n",
    "\n",
    "* `==`: compara equitativamente dos valores (valor1 es igual a valor2).\n",
    "* `!=`: distingue dos valores (valor1 es distinto de valor2).\n",
    "* `>`: compara numéricamente dos valores (valor1 es mayor que valor2).\n",
    "* `<`: idem que en el caso anterior pero esta vez al revés (valor1 es menor que valor2).\n",
    "* `>=`: compara numéricamente y equitativamente dos números (valor1 es mayor o igual que valor2).\n",
    "* `<=`: idem que en el caso anterior pero al reves (valor1 es menor o igual que valor2)."
   ]
  },
  {
   "cell_type": "markdown",
   "id": "e4a7ef28",
   "metadata": {},
   "source": [
    "### Simbolos lógicos\n",
    "\n",
    "* `and`: sirve para añadir condiciones a la comparativa y además tienen que ser verdaderas.\n",
    "* `or`: sirve para añadir condiciones a la comparativa y una de ellas tiene que ser verdadera.\n",
    "* `not`: simbolo de negación, revierte la condición de verdadera a negativa y viceversa."
   ]
  },
  {
   "cell_type": "markdown",
   "id": "0c11c02d",
   "metadata": {},
   "source": [
    "### Ejemplos"
   ]
  },
  {
   "cell_type": "markdown",
   "id": "5b5dc062",
   "metadata": {},
   "source": [
    "#### Ejemplo con valores númericos que se comparan equalmente"
   ]
  },
  {
   "cell_type": "code",
   "execution_count": 13,
   "id": "33fb21be",
   "metadata": {},
   "outputs": [
    {
     "name": "stdout",
     "output_type": "stream",
     "text": [
      "x es igual a y\n"
     ]
    }
   ],
   "source": [
    "x = 6\n",
    "y = 6\n",
    "\n",
    "if (x == y):\n",
    "    print(\"x es igual a y\")"
   ]
  },
  {
   "cell_type": "markdown",
   "id": "05178b14",
   "metadata": {},
   "source": [
    "#### Ejemplo con valores númericos que se comparan diferente"
   ]
  },
  {
   "cell_type": "code",
   "execution_count": 14,
   "id": "b9c254fb",
   "metadata": {},
   "outputs": [
    {
     "name": "stdout",
     "output_type": "stream",
     "text": [
      "x es menor o igual que y\n"
     ]
    }
   ],
   "source": [
    "x = 6\n",
    "y = 7   \n",
    "\n",
    "if (x <= y):\n",
    "    print(\"x es menor o igual que y\")\n",
    "else:\n",
    "    print(\"x es mayor que y\")"
   ]
  },
  {
   "cell_type": "markdown",
   "id": "9637f630",
   "metadata": {},
   "source": [
    "#### Ejemplo con if, elif y else"
   ]
  },
  {
   "cell_type": "code",
   "execution_count": 21,
   "id": "796f5aa4",
   "metadata": {},
   "outputs": [
    {
     "name": "stdout",
     "output_type": "stream",
     "text": [
      "x es mayor o igual que 10\n"
     ]
    }
   ],
   "source": [
    "x = 11\n",
    "\n",
    "if (x < 7):\n",
    "    print(\"x es menor que 7\")\n",
    "elif (x > 7 and x < 10):\n",
    "    print(\"x es mayor que 7\")\n",
    "else:\n",
    "    print(\"x es mayor o igual que 10\")"
   ]
  },
  {
   "cell_type": "markdown",
   "id": "48826841",
   "metadata": {},
   "source": [
    "#### Ejemplo con textos"
   ]
  },
  {
   "cell_type": "code",
   "execution_count": 16,
   "id": "3a231716",
   "metadata": {},
   "outputs": [
    {
     "name": "stdout",
     "output_type": "stream",
     "text": [
      "x es diferente de y\n"
     ]
    }
   ],
   "source": [
    "x = \"Hola\"\n",
    "y = \"Adios\"\n",
    "\n",
    "if (x != y):\n",
    "    print(\"x es diferente de y\")"
   ]
  },
  {
   "cell_type": "markdown",
   "id": "6798c7d8",
   "metadata": {},
   "source": [
    "#### Ejemplo con el simbolo lógico and"
   ]
  },
  {
   "cell_type": "code",
   "execution_count": 23,
   "id": "9abdfde9",
   "metadata": {},
   "outputs": [
    {
     "name": "stdout",
     "output_type": "stream",
     "text": [
      "x es mayor que 1 y menor que 10\n"
     ]
    }
   ],
   "source": [
    "x = 6   \n",
    "\n",
    "if (x > 1 and x < 10 and x != 0):\n",
    "    print(\"x es mayor que 1 y menor que 10\")"
   ]
  },
  {
   "cell_type": "markdown",
   "id": "f35710a4",
   "metadata": {},
   "source": [
    "#### Ejemplo con el simbolo lógico or"
   ]
  },
  {
   "cell_type": "code",
   "execution_count": 17,
   "id": "40bd3d3f",
   "metadata": {},
   "outputs": [
    {
     "name": "stdout",
     "output_type": "stream",
     "text": [
      "x es menor que 7 o mayor que 10\n"
     ]
    }
   ],
   "source": [
    "x = 6\n",
    "y = 7   \n",
    "\n",
    "if (x < 7 or x > 10):\n",
    "    print(\"x es menor que 7 o mayor que 10\")"
   ]
  },
  {
   "cell_type": "markdown",
   "id": "2ed520d9",
   "metadata": {},
   "source": [
    "#### Ejemplo con el simbolo lógico not"
   ]
  },
  {
   "cell_type": "code",
   "execution_count": 18,
   "id": "6236c21b",
   "metadata": {},
   "outputs": [
    {
     "name": "stdout",
     "output_type": "stream",
     "text": [
      "x no es menor que 7 y mayor que 10\n"
     ]
    }
   ],
   "source": [
    "x = 6\n",
    "y = 7   \n",
    "\n",
    "if (not (x < 7 and x > 10)):\n",
    "    print(\"x no es menor que 7 y mayor que 10\")"
   ]
  },
  {
   "cell_type": "markdown",
   "id": "a6b1dc78",
   "metadata": {},
   "source": [
    "#### Ejemplo con conidcionales anidados"
   ]
  },
  {
   "cell_type": "code",
   "execution_count": 19,
   "id": "baf83fde",
   "metadata": {},
   "outputs": [
    {
     "name": "stdout",
     "output_type": "stream",
     "text": [
      "x es 6 y y es 7\n"
     ]
    }
   ],
   "source": [
    "x = 6\n",
    "y = 7\n",
    "\n",
    "if (x == 6):\n",
    "    if (y == 7):\n",
    "        print(\"x es 6 y y es 7\")"
   ]
  },
  {
   "cell_type": "markdown",
   "id": "dea5832c",
   "metadata": {},
   "source": [
    "#### Ejemplo de condicional en una variable"
   ]
  },
  {
   "cell_type": "code",
   "execution_count": 22,
   "id": "6d40ff08",
   "metadata": {},
   "outputs": [
    {
     "name": "stdout",
     "output_type": "stream",
     "text": [
      "x no es igual a y\n"
     ]
    }
   ],
   "source": [
    "x = 6\n",
    "y = 7\n",
    "z = (x == y)\n",
    "\n",
    "if (z):\n",
    "    print(\"x es igual a y\")\n",
    "else:\n",
    "    print(\"x no es igual a y\")"
   ]
  },
  {
   "cell_type": "markdown",
   "id": "2b746c35",
   "metadata": {},
   "source": [
    "#### Otro ejemplo de condicional en variables"
   ]
  },
  {
   "cell_type": "code",
   "execution_count": 24,
   "id": "1f872a3c",
   "metadata": {},
   "outputs": [
    {
     "name": "stdout",
     "output_type": "stream",
     "text": [
      "verdadero\n"
     ]
    }
   ],
   "source": [
    "x = 6\n",
    "\n",
    "resultado = 'verdadero' if x == 6 else 'falso'\n",
    "\n",
    "print(resultado)"
   ]
  }
 ],
 "metadata": {
  "kernelspec": {
   "display_name": "Python 3",
   "language": "python",
   "name": "python3"
  },
  "language_info": {
   "codemirror_mode": {
    "name": "ipython",
    "version": 3
   },
   "file_extension": ".py",
   "mimetype": "text/x-python",
   "name": "python",
   "nbconvert_exporter": "python",
   "pygments_lexer": "ipython3",
   "version": "3.11.9"
  }
 },
 "nbformat": 4,
 "nbformat_minor": 5
}
