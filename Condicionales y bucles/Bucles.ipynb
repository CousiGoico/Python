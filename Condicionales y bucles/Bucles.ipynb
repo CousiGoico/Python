{
 "cells": [
  {
   "cell_type": "markdown",
   "id": "34fadfd4",
   "metadata": {},
   "source": [
    "# Bucles"
   ]
  },
  {
   "cell_type": "markdown",
   "id": "aa8c787b",
   "metadata": {},
   "source": [
    "Es una sentencia de código que permite ejecutar una o varias sentencias de código de manera repetida. Por ejemplo, nos permite recorrer los elementos de una lista para luego interaccionar con cada uno de los elementos. Existen dos bucles en Python, `while` y `for`."
   ]
  },
  {
   "cell_type": "markdown",
   "id": "c41043e6",
   "metadata": {},
   "source": [
    "## For"
   ]
  },
  {
   "cell_type": "markdown",
   "id": "fcb576ba",
   "metadata": {},
   "source": [
    "Bucle que itera por un grupo de elementos para ejecutar el mismo código por cada uno de ellos."
   ]
  },
  {
   "cell_type": "code",
   "execution_count": 5,
   "id": "53f34b01",
   "metadata": {},
   "outputs": [
    {
     "name": "stdout",
     "output_type": "stream",
     "text": [
      "4\n",
      "3\n",
      "6\n",
      "2\n",
      "1\n"
     ]
    }
   ],
   "source": [
    "lista = [4, 3, 6, 2, 1]\n",
    "\n",
    "for i in lista:\n",
    "    print(i)"
   ]
  },
  {
   "cell_type": "code",
   "execution_count": 17,
   "id": "62d38f22",
   "metadata": {},
   "outputs": [
    {
     "name": "stdout",
     "output_type": "stream",
     "text": [
      "Indice: 0 - Valor: 4\n",
      "Indice: 1 - Valor: 3\n",
      "Indice: 2 - Valor: 6\n",
      "Indice: 3 - Valor: 2\n",
      "Indice: 4 - Valor: 1\n"
     ]
    }
   ],
   "source": [
    "lista = [4, 3, 6, 2, 1]\n",
    "\n",
    "for i in range(len(lista)):\n",
    "    print(\"Indice: \" + repr(i) + \" - Valor: \" + repr(lista[i]))"
   ]
  },
  {
   "cell_type": "markdown",
   "id": "6a3eef33",
   "metadata": {},
   "source": [
    "También se pueden recorrer las letras de un texto mediante el bucle for."
   ]
  },
  {
   "cell_type": "code",
   "execution_count": 11,
   "id": "5a60a9c5",
   "metadata": {},
   "outputs": [
    {
     "name": "stdout",
     "output_type": "stream",
     "text": [
      "P\n",
      "y\n",
      "t\n",
      "h\n",
      "o\n",
      "n\n"
     ]
    }
   ],
   "source": [
    "for letter in 'Python':\n",
    "    print(letter)"
   ]
  },
  {
   "cell_type": "markdown",
   "id": "f6d8f8cd",
   "metadata": {},
   "source": [
    "La función `enumerate` se usa para iterar por los elementos de un listado. Esta función devuelve una tupla con dos valores, el indice y el valor. "
   ]
  },
  {
   "cell_type": "code",
   "execution_count": 12,
   "id": "6cadcdf0",
   "metadata": {},
   "outputs": [
    {
     "name": "stdout",
     "output_type": "stream",
     "text": [
      "(0, True)\n",
      "(1, 0)\n",
      "(2, 24.54)\n",
      "(3, 'Python')\n",
      "(4, [1, 2, 3])\n",
      "(5, (1, 2, 3))\n",
      "(6, {1, 2, 3})\n",
      "(7, {1: 'uno', 2: 'dos'})\n"
     ]
    }
   ],
   "source": [
    "lista = [True, 0, 24.54, \"Python\", [1, 2, 3], (1, 2, 3), {1, 2, 3}, {1: 'uno', 2: 'dos'}]\n",
    "\n",
    "for elemento in enumerate(lista):\n",
    "    print(elemento)"
   ]
  },
  {
   "cell_type": "markdown",
   "id": "629f4e59",
   "metadata": {},
   "source": [
    "Existe una funcionalidad con la que puedes trabajar un doble bucle. En el siguiente ejemplo, podemos ver que tenemos dos listados y recorre por cada elemento del primer listado multiplicando por cada uno de los valores del segundo listado. "
   ]
  },
  {
   "cell_type": "code",
   "execution_count": 13,
   "id": "d9042597",
   "metadata": {},
   "outputs": [
    {
     "name": "stdout",
     "output_type": "stream",
     "text": [
      "[4, 5, 6, 8, 10, 12, 12, 15, 18]\n"
     ]
    }
   ],
   "source": [
    "lista1 = [1, 2, 3]\n",
    "lista2 = [4, 5, 6]\n",
    "\n",
    "list = [a*b for a in lista1 for b in lista2]\n",
    "print(list)"
   ]
  },
  {
   "cell_type": "markdown",
   "id": "938cdc3d",
   "metadata": {},
   "source": [
    "Con la palabra `pass` el bucle omitirá el código y pasará a la siguiente iteracción. Una buena práctica es siempreindicar todos los caminos, por lo que no deberíamos dejar el else."
   ]
  },
  {
   "cell_type": "code",
   "execution_count": 20,
   "id": "b6fc3e3a",
   "metadata": {},
   "outputs": [
    {
     "name": "stdout",
     "output_type": "stream",
     "text": [
      "0\n",
      "2\n",
      "4\n",
      "6\n",
      "8\n",
      "10\n",
      "12\n",
      "14\n",
      "16\n",
      "18\n"
     ]
    }
   ],
   "source": [
    "for i in range(20):\n",
    "    if i % 2 == 0:\n",
    "        print(i)\n",
    "    else:\n",
    "        pass"
   ]
  },
  {
   "cell_type": "markdown",
   "id": "8e6e319c",
   "metadata": {},
   "source": [
    "El bucle for se puede reducir a una línea. En el siguiente ejemplo, estaríamos recorriendo los números del 0 al 1000 y a cada número le sumaremos 3 siempre y cuando el número sea par."
   ]
  },
  {
   "cell_type": "code",
   "execution_count": 23,
   "id": "e91d8732",
   "metadata": {},
   "outputs": [
    {
     "name": "stdout",
     "output_type": "stream",
     "text": [
      "[3, 5, 7, 9, 11, 13, 15, 17, 19, 21, 23, 25, 27, 29, 31, 33, 35, 37, 39, 41, 43, 45, 47, 49, 51, 53, 55, 57, 59, 61, 63, 65, 67, 69, 71, 73, 75, 77, 79, 81, 83, 85, 87, 89, 91, 93, 95, 97, 99, 101, 103, 105, 107, 109, 111, 113, 115, 117, 119, 121, 123, 125, 127, 129, 131, 133, 135, 137, 139, 141, 143, 145, 147, 149, 151, 153, 155, 157, 159, 161, 163, 165, 167, 169, 171, 173, 175, 177, 179, 181, 183, 185, 187, 189, 191, 193, 195, 197, 199, 201, 203, 205, 207, 209, 211, 213, 215, 217, 219, 221, 223, 225, 227, 229, 231, 233, 235, 237, 239, 241, 243, 245, 247, 249, 251, 253, 255, 257, 259, 261, 263, 265, 267, 269, 271, 273, 275, 277, 279, 281, 283, 285, 287, 289, 291, 293, 295, 297, 299, 301, 303, 305, 307, 309, 311, 313, 315, 317, 319, 321, 323, 325, 327, 329, 331, 333, 335, 337, 339, 341, 343, 345, 347, 349, 351, 353, 355, 357, 359, 361, 363, 365, 367, 369, 371, 373, 375, 377, 379, 381, 383, 385, 387, 389, 391, 393, 395, 397, 399, 401, 403, 405, 407, 409, 411, 413, 415, 417, 419, 421, 423, 425, 427, 429, 431, 433, 435, 437, 439, 441, 443, 445, 447, 449, 451, 453, 455, 457, 459, 461, 463, 465, 467, 469, 471, 473, 475, 477, 479, 481, 483, 485, 487, 489, 491, 493, 495, 497, 499, 501, 503, 505, 507, 509, 511, 513, 515, 517, 519, 521, 523, 525, 527, 529, 531, 533, 535, 537, 539, 541, 543, 545, 547, 549, 551, 553, 555, 557, 559, 561, 563, 565, 567, 569, 571, 573, 575, 577, 579, 581, 583, 585, 587, 589, 591, 593, 595, 597, 599, 601, 603, 605, 607, 609, 611, 613, 615, 617, 619, 621, 623, 625, 627, 629, 631, 633, 635, 637, 639, 641, 643, 645, 647, 649, 651, 653, 655, 657, 659, 661, 663, 665, 667, 669, 671, 673, 675, 677, 679, 681, 683, 685, 687, 689, 691, 693, 695, 697, 699, 701, 703, 705, 707, 709, 711, 713, 715, 717, 719, 721, 723, 725, 727, 729, 731, 733, 735, 737, 739, 741, 743, 745, 747, 749, 751, 753, 755, 757, 759, 761, 763, 765, 767, 769, 771, 773, 775, 777, 779, 781, 783, 785, 787, 789, 791, 793, 795, 797, 799, 801, 803, 805, 807, 809, 811, 813, 815, 817, 819, 821, 823, 825, 827, 829, 831, 833, 835, 837, 839, 841, 843, 845, 847, 849, 851, 853, 855, 857, 859, 861, 863, 865, 867, 869, 871, 873, 875, 877, 879, 881, 883, 885, 887, 889, 891, 893, 895, 897, 899, 901, 903, 905, 907, 909, 911, 913, 915, 917, 919, 921, 923, 925, 927, 929, 931, 933, 935, 937, 939, 941, 943, 945, 947, 949, 951, 953, 955, 957, 959, 961, 963, 965, 967, 969, 971, 973, 975, 977, 979, 981, 983, 985, 987, 989, 991, 993, 995, 997, 999, 1001]\n"
     ]
    }
   ],
   "source": [
    "lista = [e+3 for e in range(1000) if e % 2 == 0]\n",
    "\n",
    "print(lista)"
   ]
  },
  {
   "cell_type": "markdown",
   "id": "07f45b4e",
   "metadata": {},
   "source": [
    "## While"
   ]
  },
  {
   "cell_type": "markdown",
   "id": "93a9ee08",
   "metadata": {},
   "source": [
    "Bucle que ejecuta un grupo de sentencias \"mientras\" se cumpla una condición."
   ]
  },
  {
   "cell_type": "code",
   "execution_count": null,
   "id": "fe6b64b8",
   "metadata": {},
   "outputs": [
    {
     "name": "stdout",
     "output_type": "stream",
     "text": [
      "4\n",
      "3\n",
      "2\n",
      "1\n"
     ]
    }
   ],
   "source": [
    "count = 4\n",
    "\n",
    "while (count > 0):\n",
    "    print(count)\n",
    "    count -= 1"
   ]
  },
  {
   "cell_type": "markdown",
   "id": "449827ee",
   "metadata": {},
   "source": [
    "Con la palabra `break` saldriamos del bucle."
   ]
  },
  {
   "cell_type": "code",
   "execution_count": 10,
   "id": "ed4215fd",
   "metadata": {},
   "outputs": [
    {
     "name": "stdout",
     "output_type": "stream",
     "text": [
      "Hello World\n",
      "Hello World\n",
      "Hello World\n",
      "Hello World\n",
      "Hello World\n"
     ]
    }
   ],
   "source": [
    "interaccion = 4\n",
    "\n",
    "while (1 == 1):\n",
    "    print(\"Hello World\")\n",
    "    if (interaccion == 0):\n",
    "        break\n",
    "    else:\n",
    "        interaccion -= 1\n"
   ]
  }
 ],
 "metadata": {
  "kernelspec": {
   "display_name": "Python 3",
   "language": "python",
   "name": "python3"
  },
  "language_info": {
   "codemirror_mode": {
    "name": "ipython",
    "version": 3
   },
   "file_extension": ".py",
   "mimetype": "text/x-python",
   "name": "python",
   "nbconvert_exporter": "python",
   "pygments_lexer": "ipython3",
   "version": "3.11.9"
  }
 },
 "nbformat": 4,
 "nbformat_minor": 5
}
