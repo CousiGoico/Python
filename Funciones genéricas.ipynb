{
 "cells": [
  {
   "cell_type": "markdown",
   "id": "cedec6b4",
   "metadata": {},
   "source": [
    "# Funciones genéricas"
   ]
  },
  {
   "cell_type": "markdown",
   "id": "ac682e8a",
   "metadata": {},
   "source": [
    "Existen funciones que no pertenecen a ningún tipo de dato u objeto."
   ]
  },
  {
   "cell_type": "markdown",
   "id": "4dcec039",
   "metadata": {},
   "source": [
    "## Type\n",
    "\n",
    "Devuelve el tipo de datos de una variable."
   ]
  },
  {
   "cell_type": "code",
   "execution_count": 4,
   "id": "30205792",
   "metadata": {},
   "outputs": [
    {
     "name": "stdout",
     "output_type": "stream",
     "text": [
      "<class 'int'> - 9\n",
      "<class 'str'> - 'Hola'\n",
      "<class 'float'> - 5.4\n",
      "<class 'bool'> - True\n",
      "<class 'list'> - [4, 5, 6]\n",
      "<class 'dict'> - {'key': 'value', 'key2': 'value2', 'numero': 3, 'booleano': True}\n",
      "<class 'set'> - {False, 1, 'Adios'}\n",
      "<class 'tuple'> - (1, 2, 3, 4, 5, False, True, 'Hola', 3.14)\n"
     ]
    }
   ],
   "source": [
    "var1 = 9\n",
    "\n",
    "var2 = \"Hola\"\n",
    "\n",
    "var3 = 5.4\n",
    "\n",
    "var4 = True\n",
    "\n",
    "var5 = [4, 5, 6]\n",
    "\n",
    "var6 = dict(key=\"value\", key2=\"value2\", numero=3, booleano=True)\n",
    "\n",
    "var7 = {1, \"Adios\", False}\n",
    "\n",
    "var8 = (1, 2, 3, 4, 5, False, True, \"Hola\", 3.14)\n",
    "\n",
    "print(repr(type(var1)) + \" - \" + repr(var1))\n",
    "\n",
    "print(repr(type(var2)) + \" - \" + repr(var2))\n",
    "\n",
    "print(repr(type(var3)) + \" - \" + repr(var3))\n",
    "\n",
    "print(repr(type(var4)) + \" - \" + repr(var4))\n",
    "\n",
    "print(repr(type(var5)) + \" - \" + repr(var5))\n",
    "\n",
    "print(repr(type(var6)) + \" - \" + repr(var6))\n",
    "\n",
    "print(repr(type(var7)) + \" - \" + repr(var7))\n",
    "\n",
    "print(repr(type(var8)) + \" - \" + repr(var8))"
   ]
  }
 ],
 "metadata": {
  "kernelspec": {
   "display_name": "Python 3",
   "language": "python",
   "name": "python3"
  },
  "language_info": {
   "codemirror_mode": {
    "name": "ipython",
    "version": 3
   },
   "file_extension": ".py",
   "mimetype": "text/x-python",
   "name": "python",
   "nbconvert_exporter": "python",
   "pygments_lexer": "ipython3",
   "version": "3.11.9"
  }
 },
 "nbformat": 4,
 "nbformat_minor": 5
}
